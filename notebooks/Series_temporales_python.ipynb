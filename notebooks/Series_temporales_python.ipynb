{
 "cells": [
  {
   "cell_type": "markdown",
   "id": "c47f2895",
   "metadata": {},
   "source": [
    "[![Open In Colab](https://colab.research.google.com/assets/colab-badge.svg)](https://colab.research.google.com/github/Fernigithub/series_temporales_101/blob/main/notebooks/Series_temporales_python.ipynb)"
   ]
  },
  {
   "cell_type": "markdown",
   "id": "e6232cf0",
   "metadata": {},
   "source": [
    "# Introducción al analisis de series temporales\n",
    "\n",
    "<img src=\"media/mgeo_banner.jpeg\" style=\"width: 70%; display: block; margin: auto;\">"
   ]
  },
  {
   "cell_type": "markdown",
   "id": "b6fd94c8",
   "metadata": {},
   "source": [
    "## Después de completar este Notebook y seguir las instrucciones, podrás:\n",
    "\n",
    "- **Aprender a importar series temporales y convertirlas al tipo de dato datetime**  \n",
    "\n",
    "- **Indexar, cortar y manipular series temporales**  \n",
    "\n",
    "- **Aumentar la frecuencia (Upsample) y disminuir la frecuencia (Downsample) de tus datos de series temporales**  \n",
    "\n",
    "- **Aprender diferentes métodos para llenar valores faltantes al aumentar la frecuencia de los datos**  \n",
    "\n",
    "- **Conocer métodos de agregación al disminuir la frecuencia de los datos de series temporales**  \n",
    "\n",
    "- **Aprender a usar la función de Ventana Móvil para comprender tus datos de series temporales a un nivel más macro**  \n",
    "\n",
    "- **¿Tienes dos series temporales? Aprende cómo comparar series temporales con correlación**"
   ]
  },
  {
   "cell_type": "markdown",
   "id": "3a78631e",
   "metadata": {},
   "source": [
    "## Funcionalidad de series de tiempo y fechas\n",
    "\n",
    "Representan puntos en el tiempo o períodos de tiempo. Contienen atributos y métodos para acceder y manipular la dimensión temporal de los datos.\n",
    "\n",
    "Cualquier columna puede tener información de fecha y hora, pero es importante tenerla como índice, ya que como índice de timestamp/período convierte todo el dataframe en una serie temporal.\n",
    "\n",
    "### Bloque básico de construcción: pd.Timestamp\n"
   ]
  },
  {
   "cell_type": "code",
   "execution_count": 2,
   "id": "a7384d54",
   "metadata": {},
   "outputs": [],
   "source": [
    "import pandas as pd\n",
    "from datetime import datetime "
   ]
  },
  {
   "cell_type": "code",
   "execution_count": 3,
   "id": "6759ddb5",
   "metadata": {},
   "outputs": [
    {
     "data": {
      "text/plain": [
       "True"
      ]
     },
     "execution_count": 3,
     "metadata": {},
     "output_type": "execute_result"
    }
   ],
   "source": [
    "time_stamp = pd.Timestamp(datetime(2017,1,1))\n",
    "pd.Timestamp('2017-01-01') == time_stamp # confirmacion"
   ]
  },
  {
   "cell_type": "code",
   "execution_count": 6,
   "id": "b3777714",
   "metadata": {},
   "outputs": [
    {
     "data": {
      "text/plain": [
       "Timestamp('2017-01-01 00:00:00')"
      ]
     },
     "execution_count": 6,
     "metadata": {},
     "output_type": "execute_result"
    }
   ],
   "source": [
    "time_stamp\n",
    "\n",
    "# automaticamente seteado a las 00:00:00 (media noche)"
   ]
  },
  {
   "cell_type": "code",
   "execution_count": 9,
   "id": "0d0be7ae",
   "metadata": {},
   "outputs": [
    {
     "data": {
      "text/plain": [
       "2017"
      ]
     },
     "execution_count": 9,
     "metadata": {},
     "output_type": "execute_result"
    }
   ],
   "source": [
    "time_stamp.year"
   ]
  },
  {
   "cell_type": "markdown",
   "id": "904f0d5f",
   "metadata": {},
   "source": [
    "### Más bloques de construcción: pd.Period y freq\n",
    "\n",
    "El objeto Period tiene un atributo freq para almacenar información de frecuencia que puede configurarse como mensual o diario.\n",
    "\n",
    "Puedes convertir un objeto Period a timestamp y viceversa.\n",
    "\n",
    "La información de frecuencia permite la aritmética básica de fechas.\n"
   ]
  },
  {
   "cell_type": "markdown",
   "id": "1504d5e7",
   "metadata": {},
   "source": [
    "Este objeto Period representa un período de tiempo, en este caso, el mes de enero de 2017. La cadena \"2017-01\" especifica el año y el mes para el período."
   ]
  },
  {
   "cell_type": "code",
   "execution_count": 25,
   "id": "e4c8f8dc",
   "metadata": {},
   "outputs": [
    {
     "data": {
      "text/plain": [
       "Period('2017-01', 'M')"
      ]
     },
     "execution_count": 25,
     "metadata": {},
     "output_type": "execute_result"
    }
   ],
   "source": [
    "period=pd.Period(\"2017-01\")\n",
    "period"
   ]
  },
  {
   "cell_type": "markdown",
   "id": "59f51cfe",
   "metadata": {},
   "source": [
    "El método asfreq en Pandas se utiliza para cambiar la frecuencia de un objeto Period. En este caso, period.asfreq(\"D\", how=\"start\") cambia la frecuencia del objeto Period llamado period a diaria (\"D\"), y especifica que el nuevo período debe comenzar en el inicio (\"start\") del período original."
   ]
  },
  {
   "cell_type": "code",
   "execution_count": 29,
   "id": "bf985aa8",
   "metadata": {},
   "outputs": [
    {
     "data": {
      "text/plain": [
       "Period('2017-01-01', 'D')"
      ]
     },
     "execution_count": 29,
     "metadata": {},
     "output_type": "execute_result"
    }
   ],
   "source": [
    "period.asfreq(\"D\",how=\"start\")"
   ]
  },
  {
   "cell_type": "markdown",
   "id": "6459ccf1",
   "metadata": {},
   "source": [
    "*period.to_timestamp()*\n",
    "\n",
    "Convierte el objeto Period a un objeto Timestamp. Un Period representa un intervalo de tiempo (como un mes o un año), mientras que un Timestamp representa un punto específico en el tiempo (como una fecha y hora específicas). Esta conversión toma el inicio del período y lo convierte en un Timestamp.\n",
    "\n",
    "*.to_period(\"M\")*\n",
    "\n",
    "Convierte el objeto Timestamp resultante de nuevo a un objeto Period, pero esta vez con una frecuencia mensual (\"M\"). Esto significa que el Timestamp se convertirá en un Period que representa el mes en el que cae el Timestamp."
   ]
  },
  {
   "cell_type": "code",
   "execution_count": 30,
   "id": "74794d7f",
   "metadata": {},
   "outputs": [
    {
     "data": {
      "text/plain": [
       "Period('2017-01', 'M')"
      ]
     },
     "execution_count": 30,
     "metadata": {},
     "output_type": "execute_result"
    }
   ],
   "source": [
    "period.to_timestamp().to_period(\"M\")"
   ]
  },
  {
   "cell_type": "code",
   "execution_count": 31,
   "id": "1aacdab3",
   "metadata": {},
   "outputs": [
    {
     "data": {
      "text/plain": [
       "Period('2017-03', 'M')"
      ]
     },
     "execution_count": 31,
     "metadata": {},
     "output_type": "execute_result"
    }
   ],
   "source": [
    "period+2"
   ]
  },
  {
   "cell_type": "markdown",
   "id": "a05c5270",
   "metadata": {},
   "source": [
    "### Secuencias de fechas y horas\n",
    "\n",
    "Puedes crear una serie temporal especificando el rango de fechas, inicio, fin, períodos y frecuencia."
   ]
  },
  {
   "cell_type": "code",
   "execution_count": 35,
   "id": "42c2d118",
   "metadata": {},
   "outputs": [],
   "source": [
    "index=pd.date_range(start=\"2017-1-1\", periods=12, freq=\"M\")"
   ]
  },
  {
   "cell_type": "code",
   "execution_count": 33,
   "id": "122d7034",
   "metadata": {},
   "outputs": [
    {
     "data": {
      "text/plain": [
       "DatetimeIndex(['2017-01-31', '2017-02-28', '2017-03-31', '2017-04-30',\n",
       "               '2017-05-31', '2017-06-30', '2017-07-31', '2017-08-31',\n",
       "               '2017-09-30', '2017-10-31', '2017-11-30', '2017-12-31'],\n",
       "              dtype='datetime64[ns]', freq='M')"
      ]
     },
     "execution_count": 33,
     "metadata": {},
     "output_type": "execute_result"
    }
   ],
   "source": [
    "index #datetime64 es el datatype , ns es nanosegundos\n"
   ]
  },
  {
   "cell_type": "code",
   "execution_count": 36,
   "id": "26e87b84",
   "metadata": {},
   "outputs": [
    {
     "data": {
      "text/plain": [
       "Timestamp('2017-01-31 00:00:00')"
      ]
     },
     "execution_count": 36,
     "metadata": {},
     "output_type": "execute_result"
    }
   ],
   "source": [
    "index[0] #el primer elemento es un timestamp"
   ]
  },
  {
   "cell_type": "code",
   "execution_count": 37,
   "id": "b4f2f4b4",
   "metadata": {},
   "outputs": [
    {
     "data": {
      "text/plain": [
       "PeriodIndex(['2017-01', '2017-02', '2017-03', '2017-04', '2017-05', '2017-06',\n",
       "             '2017-07', '2017-08', '2017-09', '2017-10', '2017-11', '2017-12'],\n",
       "            dtype='period[M]')"
      ]
     },
     "execution_count": 37,
     "metadata": {},
     "output_type": "execute_result"
    }
   ],
   "source": [
    "index.to_period() # crea un index con timestamps"
   ]
  },
  {
   "cell_type": "code",
   "execution_count": 38,
   "id": "eef3f6ac",
   "metadata": {},
   "outputs": [
    {
     "name": "stdout",
     "output_type": "stream",
     "text": [
      "<class 'pandas.core.frame.DataFrame'>\n",
      "RangeIndex: 12 entries, 0 to 11\n",
      "Data columns (total 1 columns):\n",
      " #   Column  Non-Null Count  Dtype         \n",
      "---  ------  --------------  -----         \n",
      " 0   data    12 non-null     datetime64[ns]\n",
      "dtypes: datetime64[ns](1)\n",
      "memory usage: 224.0 bytes\n"
     ]
    }
   ],
   "source": [
    "pd.DataFrame ({'data':index}).info() # hicimos una serie temporal con fechas como indice"
   ]
  },
  {
   "cell_type": "code",
   "execution_count": 39,
   "id": "b48492fa",
   "metadata": {},
   "outputs": [
    {
     "name": "stdout",
     "output_type": "stream",
     "text": [
      "<class 'pandas.core.frame.DataFrame'>\n",
      "DatetimeIndex: 12 entries, 2017-01-31 to 2017-12-31\n",
      "Freq: M\n",
      "Data columns (total 2 columns):\n",
      " #   Column  Non-Null Count  Dtype  \n",
      "---  ------  --------------  -----  \n",
      " 0   0       12 non-null     float64\n",
      " 1   1       12 non-null     float64\n",
      "dtypes: float64(2)\n",
      "memory usage: 288.0 bytes\n"
     ]
    }
   ],
   "source": [
    "import numpy as np\n",
    "data=np.random.random(size=(12,2))\n",
    "pd.DataFrame(data=data, index=index).info()"
   ]
  },
  {
   "cell_type": "markdown",
   "id": "6b286e98",
   "metadata": {},
   "source": [
    "## Indexación y remuestreo de series temporales\n",
    "\n",
    "### Las transformaciones básicas de series temporales incluyen:\n",
    "\n",
    "- Parsear fechas en cadena y convertirlas a datetime64.\n",
    "- Seleccionar y segmentar períodos específicos.\n",
    "- Establecer y cambiar la frecuencia de DateTimeIndex {Upsampling y Downsampling}.\n"
   ]
  },
  {
   "cell_type": "code",
   "execution_count": 43,
   "id": "9dcac907",
   "metadata": {},
   "outputs": [],
   "source": [
    "import pandas as pd\n",
    "url = \"https://raw.githubusercontent.com/Fernigithub/series_temporales_101/main/notebooks/csv/goog.csv\"\n",
    "google=pd.read_csv(url)"
   ]
  },
  {
   "cell_type": "code",
   "execution_count": 45,
   "id": "e79508c4",
   "metadata": {},
   "outputs": [
    {
     "name": "stdout",
     "output_type": "stream",
     "text": [
      "<class 'pandas.core.frame.DataFrame'>\n",
      "RangeIndex: 61 entries, 0 to 60\n",
      "Data columns (total 6 columns):\n",
      " #   Column  Non-Null Count  Dtype  \n",
      "---  ------  --------------  -----  \n",
      " 0   Date    61 non-null     object \n",
      " 1   Open    61 non-null     float64\n",
      " 2   High    61 non-null     float64\n",
      " 3   Low     61 non-null     float64\n",
      " 4   Close   61 non-null     float64\n",
      " 5   Volume  61 non-null     int64  \n",
      "dtypes: float64(4), int64(1), object(1)\n",
      "memory usage: 3.0+ KB\n"
     ]
    },
    {
     "data": {
      "text/html": [
       "<div>\n",
       "<style scoped>\n",
       "    .dataframe tbody tr th:only-of-type {\n",
       "        vertical-align: middle;\n",
       "    }\n",
       "\n",
       "    .dataframe tbody tr th {\n",
       "        vertical-align: top;\n",
       "    }\n",
       "\n",
       "    .dataframe thead th {\n",
       "        text-align: right;\n",
       "    }\n",
       "</style>\n",
       "<table border=\"1\" class=\"dataframe\">\n",
       "  <thead>\n",
       "    <tr style=\"text-align: right;\">\n",
       "      <th></th>\n",
       "      <th>Date</th>\n",
       "      <th>Open</th>\n",
       "      <th>High</th>\n",
       "      <th>Low</th>\n",
       "      <th>Close</th>\n",
       "      <th>Volume</th>\n",
       "    </tr>\n",
       "  </thead>\n",
       "  <tbody>\n",
       "    <tr>\n",
       "      <th>0</th>\n",
       "      <td>12/19/2016</td>\n",
       "      <td>790.219971</td>\n",
       "      <td>797.659973</td>\n",
       "      <td>786.270020</td>\n",
       "      <td>794.200012</td>\n",
       "      <td>1225900</td>\n",
       "    </tr>\n",
       "    <tr>\n",
       "      <th>1</th>\n",
       "      <td>12/20/2016</td>\n",
       "      <td>796.760010</td>\n",
       "      <td>798.650024</td>\n",
       "      <td>793.270020</td>\n",
       "      <td>796.419983</td>\n",
       "      <td>925100</td>\n",
       "    </tr>\n",
       "    <tr>\n",
       "      <th>2</th>\n",
       "      <td>12/21/2016</td>\n",
       "      <td>795.840027</td>\n",
       "      <td>796.676025</td>\n",
       "      <td>787.099976</td>\n",
       "      <td>794.559998</td>\n",
       "      <td>1208700</td>\n",
       "    </tr>\n",
       "    <tr>\n",
       "      <th>3</th>\n",
       "      <td>12/22/2016</td>\n",
       "      <td>792.359985</td>\n",
       "      <td>793.320007</td>\n",
       "      <td>788.580017</td>\n",
       "      <td>791.260010</td>\n",
       "      <td>969100</td>\n",
       "    </tr>\n",
       "    <tr>\n",
       "      <th>4</th>\n",
       "      <td>12/23/2016</td>\n",
       "      <td>790.900024</td>\n",
       "      <td>792.739990</td>\n",
       "      <td>787.280029</td>\n",
       "      <td>789.909973</td>\n",
       "      <td>623400</td>\n",
       "    </tr>\n",
       "  </tbody>\n",
       "</table>\n",
       "</div>"
      ],
      "text/plain": [
       "         Date        Open        High         Low       Close   Volume\n",
       "0  12/19/2016  790.219971  797.659973  786.270020  794.200012  1225900\n",
       "1  12/20/2016  796.760010  798.650024  793.270020  796.419983   925100\n",
       "2  12/21/2016  795.840027  796.676025  787.099976  794.559998  1208700\n",
       "3  12/22/2016  792.359985  793.320007  788.580017  791.260010   969100\n",
       "4  12/23/2016  790.900024  792.739990  787.280029  789.909973   623400"
      ]
     },
     "metadata": {},
     "output_type": "display_data"
    }
   ],
   "source": [
    "google.info()\n",
    "display(google.head())"
   ]
  },
  {
   "cell_type": "markdown",
   "id": "886c3a28",
   "metadata": {},
   "source": [
    "## Convertir fechas en cadena a datetime64\n",
    "\n",
    "Dos métodos:\n",
    "\n",
    "pd.to_datetime()\n",
    "- Parsear cadena de fecha.\n",
    "- Convertir a datetime64."
   ]
  },
  {
   "cell_type": "code",
   "execution_count": 46,
   "id": "1457cda8",
   "metadata": {},
   "outputs": [],
   "source": [
    "google.Date=pd.to_datetime(google.Date)"
   ]
  },
  {
   "cell_type": "code",
   "execution_count": 47,
   "id": "5bc8e33f",
   "metadata": {},
   "outputs": [
    {
     "name": "stdout",
     "output_type": "stream",
     "text": [
      "<class 'pandas.core.frame.DataFrame'>\n",
      "RangeIndex: 61 entries, 0 to 60\n",
      "Data columns (total 6 columns):\n",
      " #   Column  Non-Null Count  Dtype         \n",
      "---  ------  --------------  -----         \n",
      " 0   Date    61 non-null     datetime64[ns]\n",
      " 1   Open    61 non-null     float64       \n",
      " 2   High    61 non-null     float64       \n",
      " 3   Low     61 non-null     float64       \n",
      " 4   Close   61 non-null     float64       \n",
      " 5   Volume  61 non-null     int64         \n",
      "dtypes: datetime64[ns](1), float64(4), int64(1)\n",
      "memory usage: 3.0 KB\n"
     ]
    }
   ],
   "source": [
    "google.info()"
   ]
  },
  {
   "cell_type": "code",
   "execution_count": 48,
   "id": "4ae73a4d",
   "metadata": {},
   "outputs": [
    {
     "name": "stdout",
     "output_type": "stream",
     "text": [
      "<class 'pandas.core.frame.DataFrame'>\n",
      "DatetimeIndex: 61 entries, 2016-12-19 to 2017-03-17\n",
      "Data columns (total 5 columns):\n",
      " #   Column  Non-Null Count  Dtype  \n",
      "---  ------  --------------  -----  \n",
      " 0   Open    61 non-null     float64\n",
      " 1   High    61 non-null     float64\n",
      " 2   Low     61 non-null     float64\n",
      " 3   Close   61 non-null     float64\n",
      " 4   Volume  61 non-null     int64  \n",
      "dtypes: float64(4), int64(1)\n",
      "memory usage: 2.9 KB\n"
     ]
    }
   ],
   "source": [
    "google.set_index(\"Date\", inplace=True)\n",
    "google.info()\n",
    "\n",
    "# El DateTimeIndex resultante le permite tratar todo el DataFrame como datos de series temporales"
   ]
  },
  {
   "cell_type": "code",
   "execution_count": 52,
   "id": "ee13eb11",
   "metadata": {},
   "outputs": [
    {
     "data": {
      "image/png": "[encoded data removed]",
      "text/plain": [
       "<Figure size 640x480 with 1 Axes>"
      ]
     },
     "metadata": {},
     "output_type": "display_data"
    }
   ],
   "source": [
    "import matplotlib.pyplot as plt\n",
    "google.Close.plot(title=\"Google stock price\")\n",
    "plt.tight_layout()\n",
    "plt.show()"
   ]
  },
  {
   "cell_type": "markdown",
   "id": "f646933f",
   "metadata": {},
   "source": [
    "## Indexación parcial de cadenas\n",
    "\n",
    "- Seleccionar/indexar usando cadenas de texto que se convierten a fechas.\n"
   ]
  },
  {
   "cell_type": "code",
   "execution_count": 55,
   "id": "a11df78a",
   "metadata": {},
   "outputs": [
    {
     "name": "stdout",
     "output_type": "stream",
     "text": [
      "<class 'pandas.core.frame.DataFrame'>\n",
      "DatetimeIndex: 52 entries, 2017-01-03 to 2017-03-17\n",
      "Data columns (total 5 columns):\n",
      " #   Column  Non-Null Count  Dtype  \n",
      "---  ------  --------------  -----  \n",
      " 0   Open    52 non-null     float64\n",
      " 1   High    52 non-null     float64\n",
      " 2   Low     52 non-null     float64\n",
      " 3   Close   52 non-null     float64\n",
      " 4   Volume  52 non-null     int64  \n",
      "dtypes: float64(4), int64(1)\n",
      "memory usage: 2.4 KB\n"
     ]
    },
    {
     "data": {
      "text/html": [
       "<div>\n",
       "<style scoped>\n",
       "    .dataframe tbody tr th:only-of-type {\n",
       "        vertical-align: middle;\n",
       "    }\n",
       "\n",
       "    .dataframe tbody tr th {\n",
       "        vertical-align: top;\n",
       "    }\n",
       "\n",
       "    .dataframe thead th {\n",
       "        text-align: right;\n",
       "    }\n",
       "</style>\n",
       "<table border=\"1\" class=\"dataframe\">\n",
       "  <thead>\n",
       "    <tr style=\"text-align: right;\">\n",
       "      <th></th>\n",
       "      <th>Open</th>\n",
       "      <th>High</th>\n",
       "      <th>Low</th>\n",
       "      <th>Close</th>\n",
       "      <th>Volume</th>\n",
       "    </tr>\n",
       "    <tr>\n",
       "      <th>Date</th>\n",
       "      <th></th>\n",
       "      <th></th>\n",
       "      <th></th>\n",
       "      <th></th>\n",
       "      <th></th>\n",
       "    </tr>\n",
       "  </thead>\n",
       "  <tbody>\n",
       "    <tr>\n",
       "      <th>2017-01-03</th>\n",
       "      <td>778.809998</td>\n",
       "      <td>789.630005</td>\n",
       "      <td>775.799988</td>\n",
       "      <td>786.140015</td>\n",
       "      <td>1643100</td>\n",
       "    </tr>\n",
       "    <tr>\n",
       "      <th>2017-01-04</th>\n",
       "      <td>788.359985</td>\n",
       "      <td>791.340027</td>\n",
       "      <td>783.159973</td>\n",
       "      <td>786.900024</td>\n",
       "      <td>1065400</td>\n",
       "    </tr>\n",
       "    <tr>\n",
       "      <th>2017-01-05</th>\n",
       "      <td>786.080017</td>\n",
       "      <td>794.479980</td>\n",
       "      <td>785.020020</td>\n",
       "      <td>794.020020</td>\n",
       "      <td>1315400</td>\n",
       "    </tr>\n",
       "    <tr>\n",
       "      <th>2017-01-06</th>\n",
       "      <td>795.260010</td>\n",
       "      <td>807.900024</td>\n",
       "      <td>792.203979</td>\n",
       "      <td>806.150024</td>\n",
       "      <td>1620500</td>\n",
       "    </tr>\n",
       "    <tr>\n",
       "      <th>2017-01-09</th>\n",
       "      <td>806.400024</td>\n",
       "      <td>809.966003</td>\n",
       "      <td>802.830017</td>\n",
       "      <td>806.650024</td>\n",
       "      <td>1272400</td>\n",
       "    </tr>\n",
       "  </tbody>\n",
       "</table>\n",
       "</div>"
      ],
      "text/plain": [
       "                  Open        High         Low       Close   Volume\n",
       "Date                                                               \n",
       "2017-01-03  778.809998  789.630005  775.799988  786.140015  1643100\n",
       "2017-01-04  788.359985  791.340027  783.159973  786.900024  1065400\n",
       "2017-01-05  786.080017  794.479980  785.020020  794.020020  1315400\n",
       "2017-01-06  795.260010  807.900024  792.203979  806.150024  1620500\n",
       "2017-01-09  806.400024  809.966003  802.830017  806.650024  1272400"
      ]
     },
     "execution_count": 55,
     "metadata": {},
     "output_type": "execute_result"
    }
   ],
   "source": [
    "google.loc[\"2017\"].info()\n",
    "\n",
    "google.loc[\"2017\"].head()"
   ]
  },
  {
   "cell_type": "code",
   "execution_count": 59,
   "id": "aa20f7dd",
   "metadata": {},
   "outputs": [
    {
     "data": {
      "text/html": [
       "<div>\n",
       "<style scoped>\n",
       "    .dataframe tbody tr th:only-of-type {\n",
       "        vertical-align: middle;\n",
       "    }\n",
       "\n",
       "    .dataframe tbody tr th {\n",
       "        vertical-align: top;\n",
       "    }\n",
       "\n",
       "    .dataframe thead th {\n",
       "        text-align: right;\n",
       "    }\n",
       "</style>\n",
       "<table border=\"1\" class=\"dataframe\">\n",
       "  <thead>\n",
       "    <tr style=\"text-align: right;\">\n",
       "      <th></th>\n",
       "      <th>Open</th>\n",
       "      <th>High</th>\n",
       "      <th>Low</th>\n",
       "      <th>Close</th>\n",
       "      <th>Volume</th>\n",
       "    </tr>\n",
       "    <tr>\n",
       "      <th>Date</th>\n",
       "      <th></th>\n",
       "      <th></th>\n",
       "      <th></th>\n",
       "      <th></th>\n",
       "      <th></th>\n",
       "    </tr>\n",
       "  </thead>\n",
       "  <tbody>\n",
       "    <tr>\n",
       "      <th>2016-12-19</th>\n",
       "      <td>790.219971</td>\n",
       "      <td>797.659973</td>\n",
       "      <td>786.270020</td>\n",
       "      <td>794.200012</td>\n",
       "      <td>1225900</td>\n",
       "    </tr>\n",
       "    <tr>\n",
       "      <th>2016-12-20</th>\n",
       "      <td>796.760010</td>\n",
       "      <td>798.650024</td>\n",
       "      <td>793.270020</td>\n",
       "      <td>796.419983</td>\n",
       "      <td>925100</td>\n",
       "    </tr>\n",
       "    <tr>\n",
       "      <th>2016-12-21</th>\n",
       "      <td>795.840027</td>\n",
       "      <td>796.676025</td>\n",
       "      <td>787.099976</td>\n",
       "      <td>794.559998</td>\n",
       "      <td>1208700</td>\n",
       "    </tr>\n",
       "    <tr>\n",
       "      <th>2016-12-22</th>\n",
       "      <td>792.359985</td>\n",
       "      <td>793.320007</td>\n",
       "      <td>788.580017</td>\n",
       "      <td>791.260010</td>\n",
       "      <td>969100</td>\n",
       "    </tr>\n",
       "    <tr>\n",
       "      <th>2016-12-23</th>\n",
       "      <td>790.900024</td>\n",
       "      <td>792.739990</td>\n",
       "      <td>787.280029</td>\n",
       "      <td>789.909973</td>\n",
       "      <td>623400</td>\n",
       "    </tr>\n",
       "    <tr>\n",
       "      <th>...</th>\n",
       "      <td>...</td>\n",
       "      <td>...</td>\n",
       "      <td>...</td>\n",
       "      <td>...</td>\n",
       "      <td>...</td>\n",
       "    </tr>\n",
       "    <tr>\n",
       "      <th>2017-03-13</th>\n",
       "      <td>844.000000</td>\n",
       "      <td>848.684998</td>\n",
       "      <td>843.250000</td>\n",
       "      <td>845.539978</td>\n",
       "      <td>1149500</td>\n",
       "    </tr>\n",
       "    <tr>\n",
       "      <th>2017-03-14</th>\n",
       "      <td>843.640015</td>\n",
       "      <td>847.239990</td>\n",
       "      <td>840.799988</td>\n",
       "      <td>845.619995</td>\n",
       "      <td>779900</td>\n",
       "    </tr>\n",
       "    <tr>\n",
       "      <th>2017-03-15</th>\n",
       "      <td>847.590027</td>\n",
       "      <td>848.630005</td>\n",
       "      <td>840.770020</td>\n",
       "      <td>847.200012</td>\n",
       "      <td>1379600</td>\n",
       "    </tr>\n",
       "    <tr>\n",
       "      <th>2017-03-16</th>\n",
       "      <td>849.030029</td>\n",
       "      <td>850.849976</td>\n",
       "      <td>846.130005</td>\n",
       "      <td>848.780029</td>\n",
       "      <td>970400</td>\n",
       "    </tr>\n",
       "    <tr>\n",
       "      <th>2017-03-17</th>\n",
       "      <td>851.609985</td>\n",
       "      <td>853.400024</td>\n",
       "      <td>847.109985</td>\n",
       "      <td>852.119995</td>\n",
       "      <td>1712300</td>\n",
       "    </tr>\n",
       "  </tbody>\n",
       "</table>\n",
       "<p>61 rows × 5 columns</p>\n",
       "</div>"
      ],
      "text/plain": [
       "                  Open        High         Low       Close   Volume\n",
       "Date                                                               \n",
       "2016-12-19  790.219971  797.659973  786.270020  794.200012  1225900\n",
       "2016-12-20  796.760010  798.650024  793.270020  796.419983   925100\n",
       "2016-12-21  795.840027  796.676025  787.099976  794.559998  1208700\n",
       "2016-12-22  792.359985  793.320007  788.580017  791.260010   969100\n",
       "2016-12-23  790.900024  792.739990  787.280029  789.909973   623400\n",
       "...                ...         ...         ...         ...      ...\n",
       "2017-03-13  844.000000  848.684998  843.250000  845.539978  1149500\n",
       "2017-03-14  843.640015  847.239990  840.799988  845.619995   779900\n",
       "2017-03-15  847.590027  848.630005  840.770020  847.200012  1379600\n",
       "2017-03-16  849.030029  850.849976  846.130005  848.780029   970400\n",
       "2017-03-17  851.609985  853.400024  847.109985  852.119995  1712300\n",
       "\n",
       "[61 rows x 5 columns]"
      ]
     },
     "metadata": {},
     "output_type": "display_data"
    }
   ],
   "source": [
    "display(google[\"2016-10\":\"2017-3\"])"
   ]
  },
  {
   "cell_type": "markdown",
   "id": "0439831f",
   "metadata": {},
   "source": [
    "## Establecer frecuencia usando .asfreq()\n",
    "\n",
    "Convertir DateTimeIndex a frecuencia de día calendario."
   ]
  },
  {
   "cell_type": "code",
   "execution_count": 62,
   "id": "1cae2155",
   "metadata": {},
   "outputs": [],
   "source": [
    "google_upsampled=google.asfreq(\"D\")"
   ]
  },
  {
   "cell_type": "code",
   "execution_count": 63,
   "id": "d940ce72",
   "metadata": {},
   "outputs": [
    {
     "data": {
      "text/html": [
       "<div>\n",
       "<style scoped>\n",
       "    .dataframe tbody tr th:only-of-type {\n",
       "        vertical-align: middle;\n",
       "    }\n",
       "\n",
       "    .dataframe tbody tr th {\n",
       "        vertical-align: top;\n",
       "    }\n",
       "\n",
       "    .dataframe thead th {\n",
       "        text-align: right;\n",
       "    }\n",
       "</style>\n",
       "<table border=\"1\" class=\"dataframe\">\n",
       "  <thead>\n",
       "    <tr style=\"text-align: right;\">\n",
       "      <th></th>\n",
       "      <th>Open</th>\n",
       "      <th>High</th>\n",
       "      <th>Low</th>\n",
       "      <th>Close</th>\n",
       "      <th>Volume</th>\n",
       "    </tr>\n",
       "    <tr>\n",
       "      <th>Date</th>\n",
       "      <th></th>\n",
       "      <th></th>\n",
       "      <th></th>\n",
       "      <th></th>\n",
       "      <th></th>\n",
       "    </tr>\n",
       "  </thead>\n",
       "  <tbody>\n",
       "    <tr>\n",
       "      <th>2016-12-19</th>\n",
       "      <td>790.219971</td>\n",
       "      <td>797.659973</td>\n",
       "      <td>786.270020</td>\n",
       "      <td>794.200012</td>\n",
       "      <td>1225900.0</td>\n",
       "    </tr>\n",
       "    <tr>\n",
       "      <th>2016-12-20</th>\n",
       "      <td>796.760010</td>\n",
       "      <td>798.650024</td>\n",
       "      <td>793.270020</td>\n",
       "      <td>796.419983</td>\n",
       "      <td>925100.0</td>\n",
       "    </tr>\n",
       "    <tr>\n",
       "      <th>2016-12-21</th>\n",
       "      <td>795.840027</td>\n",
       "      <td>796.676025</td>\n",
       "      <td>787.099976</td>\n",
       "      <td>794.559998</td>\n",
       "      <td>1208700.0</td>\n",
       "    </tr>\n",
       "    <tr>\n",
       "      <th>2016-12-22</th>\n",
       "      <td>792.359985</td>\n",
       "      <td>793.320007</td>\n",
       "      <td>788.580017</td>\n",
       "      <td>791.260010</td>\n",
       "      <td>969100.0</td>\n",
       "    </tr>\n",
       "    <tr>\n",
       "      <th>2016-12-23</th>\n",
       "      <td>790.900024</td>\n",
       "      <td>792.739990</td>\n",
       "      <td>787.280029</td>\n",
       "      <td>789.909973</td>\n",
       "      <td>623400.0</td>\n",
       "    </tr>\n",
       "    <tr>\n",
       "      <th>2016-12-24</th>\n",
       "      <td>NaN</td>\n",
       "      <td>NaN</td>\n",
       "      <td>NaN</td>\n",
       "      <td>NaN</td>\n",
       "      <td>NaN</td>\n",
       "    </tr>\n",
       "    <tr>\n",
       "      <th>2016-12-25</th>\n",
       "      <td>NaN</td>\n",
       "      <td>NaN</td>\n",
       "      <td>NaN</td>\n",
       "      <td>NaN</td>\n",
       "      <td>NaN</td>\n",
       "    </tr>\n",
       "    <tr>\n",
       "      <th>2016-12-26</th>\n",
       "      <td>NaN</td>\n",
       "      <td>NaN</td>\n",
       "      <td>NaN</td>\n",
       "      <td>NaN</td>\n",
       "      <td>NaN</td>\n",
       "    </tr>\n",
       "    <tr>\n",
       "      <th>2016-12-27</th>\n",
       "      <td>790.679993</td>\n",
       "      <td>797.859985</td>\n",
       "      <td>787.656982</td>\n",
       "      <td>791.549988</td>\n",
       "      <td>789100.0</td>\n",
       "    </tr>\n",
       "    <tr>\n",
       "      <th>2016-12-28</th>\n",
       "      <td>793.700012</td>\n",
       "      <td>794.229980</td>\n",
       "      <td>783.200012</td>\n",
       "      <td>785.049988</td>\n",
       "      <td>1132700.0</td>\n",
       "    </tr>\n",
       "    <tr>\n",
       "      <th>2016-12-29</th>\n",
       "      <td>783.330017</td>\n",
       "      <td>785.929993</td>\n",
       "      <td>778.919983</td>\n",
       "      <td>782.789978</td>\n",
       "      <td>742200.0</td>\n",
       "    </tr>\n",
       "    <tr>\n",
       "      <th>2016-12-30</th>\n",
       "      <td>782.750000</td>\n",
       "      <td>782.780029</td>\n",
       "      <td>770.409973</td>\n",
       "      <td>771.820007</td>\n",
       "      <td>1760200.0</td>\n",
       "    </tr>\n",
       "    <tr>\n",
       "      <th>2016-12-31</th>\n",
       "      <td>NaN</td>\n",
       "      <td>NaN</td>\n",
       "      <td>NaN</td>\n",
       "      <td>NaN</td>\n",
       "      <td>NaN</td>\n",
       "    </tr>\n",
       "    <tr>\n",
       "      <th>2017-01-01</th>\n",
       "      <td>NaN</td>\n",
       "      <td>NaN</td>\n",
       "      <td>NaN</td>\n",
       "      <td>NaN</td>\n",
       "      <td>NaN</td>\n",
       "    </tr>\n",
       "    <tr>\n",
       "      <th>2017-01-02</th>\n",
       "      <td>NaN</td>\n",
       "      <td>NaN</td>\n",
       "      <td>NaN</td>\n",
       "      <td>NaN</td>\n",
       "      <td>NaN</td>\n",
       "    </tr>\n",
       "    <tr>\n",
       "      <th>2017-01-03</th>\n",
       "      <td>778.809998</td>\n",
       "      <td>789.630005</td>\n",
       "      <td>775.799988</td>\n",
       "      <td>786.140015</td>\n",
       "      <td>1643100.0</td>\n",
       "    </tr>\n",
       "    <tr>\n",
       "      <th>2017-01-04</th>\n",
       "      <td>788.359985</td>\n",
       "      <td>791.340027</td>\n",
       "      <td>783.159973</td>\n",
       "      <td>786.900024</td>\n",
       "      <td>1065400.0</td>\n",
       "    </tr>\n",
       "    <tr>\n",
       "      <th>2017-01-05</th>\n",
       "      <td>786.080017</td>\n",
       "      <td>794.479980</td>\n",
       "      <td>785.020020</td>\n",
       "      <td>794.020020</td>\n",
       "      <td>1315400.0</td>\n",
       "    </tr>\n",
       "    <tr>\n",
       "      <th>2017-01-06</th>\n",
       "      <td>795.260010</td>\n",
       "      <td>807.900024</td>\n",
       "      <td>792.203979</td>\n",
       "      <td>806.150024</td>\n",
       "      <td>1620500.0</td>\n",
       "    </tr>\n",
       "    <tr>\n",
       "      <th>2017-01-07</th>\n",
       "      <td>NaN</td>\n",
       "      <td>NaN</td>\n",
       "      <td>NaN</td>\n",
       "      <td>NaN</td>\n",
       "      <td>NaN</td>\n",
       "    </tr>\n",
       "  </tbody>\n",
       "</table>\n",
       "</div>"
      ],
      "text/plain": [
       "                  Open        High         Low       Close     Volume\n",
       "Date                                                                 \n",
       "2016-12-19  790.219971  797.659973  786.270020  794.200012  1225900.0\n",
       "2016-12-20  796.760010  798.650024  793.270020  796.419983   925100.0\n",
       "2016-12-21  795.840027  796.676025  787.099976  794.559998  1208700.0\n",
       "2016-12-22  792.359985  793.320007  788.580017  791.260010   969100.0\n",
       "2016-12-23  790.900024  792.739990  787.280029  789.909973   623400.0\n",
       "2016-12-24         NaN         NaN         NaN         NaN        NaN\n",
       "2016-12-25         NaN         NaN         NaN         NaN        NaN\n",
       "2016-12-26         NaN         NaN         NaN         NaN        NaN\n",
       "2016-12-27  790.679993  797.859985  787.656982  791.549988   789100.0\n",
       "2016-12-28  793.700012  794.229980  783.200012  785.049988  1132700.0\n",
       "2016-12-29  783.330017  785.929993  778.919983  782.789978   742200.0\n",
       "2016-12-30  782.750000  782.780029  770.409973  771.820007  1760200.0\n",
       "2016-12-31         NaN         NaN         NaN         NaN        NaN\n",
       "2017-01-01         NaN         NaN         NaN         NaN        NaN\n",
       "2017-01-02         NaN         NaN         NaN         NaN        NaN\n",
       "2017-01-03  778.809998  789.630005  775.799988  786.140015  1643100.0\n",
       "2017-01-04  788.359985  791.340027  783.159973  786.900024  1065400.0\n",
       "2017-01-05  786.080017  794.479980  785.020020  794.020020  1315400.0\n",
       "2017-01-06  795.260010  807.900024  792.203979  806.150024  1620500.0\n",
       "2017-01-07         NaN         NaN         NaN         NaN        NaN"
      ]
     },
     "execution_count": 63,
     "metadata": {},
     "output_type": "execute_result"
    }
   ],
   "source": [
    "google_upsampled.head(20)"
   ]
  },
  {
   "cell_type": "markdown",
   "id": "378c42f8",
   "metadata": {},
   "source": [
    "Arriba, puedes ver que las fechas faltantes de los informes de acciones se han llenado con valores NaN.\n",
    "\n",
    "Mes a día -> Upsampling (aumentar la frecuencia)\n",
    "Día a mes -> Downsampling (disminuir la frecuencia)\n",
    "\n",
    "También podemos cambiar la frecuencia a días hábiles."
   ]
  },
  {
   "cell_type": "code",
   "execution_count": 65,
   "id": "9aaa5b52",
   "metadata": {},
   "outputs": [
    {
     "data": {
      "text/html": [
       "<div>\n",
       "<style scoped>\n",
       "    .dataframe tbody tr th:only-of-type {\n",
       "        vertical-align: middle;\n",
       "    }\n",
       "\n",
       "    .dataframe tbody tr th {\n",
       "        vertical-align: top;\n",
       "    }\n",
       "\n",
       "    .dataframe thead th {\n",
       "        text-align: right;\n",
       "    }\n",
       "</style>\n",
       "<table border=\"1\" class=\"dataframe\">\n",
       "  <thead>\n",
       "    <tr style=\"text-align: right;\">\n",
       "      <th></th>\n",
       "      <th>Open</th>\n",
       "      <th>High</th>\n",
       "      <th>Low</th>\n",
       "      <th>Close</th>\n",
       "      <th>Volume</th>\n",
       "    </tr>\n",
       "    <tr>\n",
       "      <th>Date</th>\n",
       "      <th></th>\n",
       "      <th></th>\n",
       "      <th></th>\n",
       "      <th></th>\n",
       "      <th></th>\n",
       "    </tr>\n",
       "  </thead>\n",
       "  <tbody>\n",
       "    <tr>\n",
       "      <th>2016-12-19</th>\n",
       "      <td>790.219971</td>\n",
       "      <td>797.659973</td>\n",
       "      <td>786.270020</td>\n",
       "      <td>794.200012</td>\n",
       "      <td>1225900.0</td>\n",
       "    </tr>\n",
       "    <tr>\n",
       "      <th>2016-12-20</th>\n",
       "      <td>796.760010</td>\n",
       "      <td>798.650024</td>\n",
       "      <td>793.270020</td>\n",
       "      <td>796.419983</td>\n",
       "      <td>925100.0</td>\n",
       "    </tr>\n",
       "    <tr>\n",
       "      <th>2016-12-21</th>\n",
       "      <td>795.840027</td>\n",
       "      <td>796.676025</td>\n",
       "      <td>787.099976</td>\n",
       "      <td>794.559998</td>\n",
       "      <td>1208700.0</td>\n",
       "    </tr>\n",
       "    <tr>\n",
       "      <th>2016-12-22</th>\n",
       "      <td>792.359985</td>\n",
       "      <td>793.320007</td>\n",
       "      <td>788.580017</td>\n",
       "      <td>791.260010</td>\n",
       "      <td>969100.0</td>\n",
       "    </tr>\n",
       "    <tr>\n",
       "      <th>2016-12-23</th>\n",
       "      <td>790.900024</td>\n",
       "      <td>792.739990</td>\n",
       "      <td>787.280029</td>\n",
       "      <td>789.909973</td>\n",
       "      <td>623400.0</td>\n",
       "    </tr>\n",
       "    <tr>\n",
       "      <th>2016-12-26</th>\n",
       "      <td>NaN</td>\n",
       "      <td>NaN</td>\n",
       "      <td>NaN</td>\n",
       "      <td>NaN</td>\n",
       "      <td>NaN</td>\n",
       "    </tr>\n",
       "    <tr>\n",
       "      <th>2016-12-27</th>\n",
       "      <td>790.679993</td>\n",
       "      <td>797.859985</td>\n",
       "      <td>787.656982</td>\n",
       "      <td>791.549988</td>\n",
       "      <td>789100.0</td>\n",
       "    </tr>\n",
       "    <tr>\n",
       "      <th>2016-12-28</th>\n",
       "      <td>793.700012</td>\n",
       "      <td>794.229980</td>\n",
       "      <td>783.200012</td>\n",
       "      <td>785.049988</td>\n",
       "      <td>1132700.0</td>\n",
       "    </tr>\n",
       "    <tr>\n",
       "      <th>2016-12-29</th>\n",
       "      <td>783.330017</td>\n",
       "      <td>785.929993</td>\n",
       "      <td>778.919983</td>\n",
       "      <td>782.789978</td>\n",
       "      <td>742200.0</td>\n",
       "    </tr>\n",
       "    <tr>\n",
       "      <th>2016-12-30</th>\n",
       "      <td>782.750000</td>\n",
       "      <td>782.780029</td>\n",
       "      <td>770.409973</td>\n",
       "      <td>771.820007</td>\n",
       "      <td>1760200.0</td>\n",
       "    </tr>\n",
       "    <tr>\n",
       "      <th>2017-01-02</th>\n",
       "      <td>NaN</td>\n",
       "      <td>NaN</td>\n",
       "      <td>NaN</td>\n",
       "      <td>NaN</td>\n",
       "      <td>NaN</td>\n",
       "    </tr>\n",
       "    <tr>\n",
       "      <th>2017-01-03</th>\n",
       "      <td>778.809998</td>\n",
       "      <td>789.630005</td>\n",
       "      <td>775.799988</td>\n",
       "      <td>786.140015</td>\n",
       "      <td>1643100.0</td>\n",
       "    </tr>\n",
       "    <tr>\n",
       "      <th>2017-01-04</th>\n",
       "      <td>788.359985</td>\n",
       "      <td>791.340027</td>\n",
       "      <td>783.159973</td>\n",
       "      <td>786.900024</td>\n",
       "      <td>1065400.0</td>\n",
       "    </tr>\n",
       "    <tr>\n",
       "      <th>2017-01-05</th>\n",
       "      <td>786.080017</td>\n",
       "      <td>794.479980</td>\n",
       "      <td>785.020020</td>\n",
       "      <td>794.020020</td>\n",
       "      <td>1315400.0</td>\n",
       "    </tr>\n",
       "    <tr>\n",
       "      <th>2017-01-06</th>\n",
       "      <td>795.260010</td>\n",
       "      <td>807.900024</td>\n",
       "      <td>792.203979</td>\n",
       "      <td>806.150024</td>\n",
       "      <td>1620500.0</td>\n",
       "    </tr>\n",
       "    <tr>\n",
       "      <th>2017-01-09</th>\n",
       "      <td>806.400024</td>\n",
       "      <td>809.966003</td>\n",
       "      <td>802.830017</td>\n",
       "      <td>806.650024</td>\n",
       "      <td>1272400.0</td>\n",
       "    </tr>\n",
       "    <tr>\n",
       "      <th>2017-01-10</th>\n",
       "      <td>807.859985</td>\n",
       "      <td>809.130005</td>\n",
       "      <td>803.510010</td>\n",
       "      <td>804.789978</td>\n",
       "      <td>1174300.0</td>\n",
       "    </tr>\n",
       "    <tr>\n",
       "      <th>2017-01-11</th>\n",
       "      <td>805.000000</td>\n",
       "      <td>808.150024</td>\n",
       "      <td>801.369995</td>\n",
       "      <td>807.909973</td>\n",
       "      <td>1057900.0</td>\n",
       "    </tr>\n",
       "    <tr>\n",
       "      <th>2017-01-12</th>\n",
       "      <td>807.140015</td>\n",
       "      <td>807.390015</td>\n",
       "      <td>799.169983</td>\n",
       "      <td>806.359985</td>\n",
       "      <td>1351000.0</td>\n",
       "    </tr>\n",
       "    <tr>\n",
       "      <th>2017-01-13</th>\n",
       "      <td>807.479980</td>\n",
       "      <td>811.223999</td>\n",
       "      <td>806.690002</td>\n",
       "      <td>807.880005</td>\n",
       "      <td>1090100.0</td>\n",
       "    </tr>\n",
       "  </tbody>\n",
       "</table>\n",
       "</div>"
      ],
      "text/plain": [
       "                  Open        High         Low       Close     Volume\n",
       "Date                                                                 \n",
       "2016-12-19  790.219971  797.659973  786.270020  794.200012  1225900.0\n",
       "2016-12-20  796.760010  798.650024  793.270020  796.419983   925100.0\n",
       "2016-12-21  795.840027  796.676025  787.099976  794.559998  1208700.0\n",
       "2016-12-22  792.359985  793.320007  788.580017  791.260010   969100.0\n",
       "2016-12-23  790.900024  792.739990  787.280029  789.909973   623400.0\n",
       "2016-12-26         NaN         NaN         NaN         NaN        NaN\n",
       "2016-12-27  790.679993  797.859985  787.656982  791.549988   789100.0\n",
       "2016-12-28  793.700012  794.229980  783.200012  785.049988  1132700.0\n",
       "2016-12-29  783.330017  785.929993  778.919983  782.789978   742200.0\n",
       "2016-12-30  782.750000  782.780029  770.409973  771.820007  1760200.0\n",
       "2017-01-02         NaN         NaN         NaN         NaN        NaN\n",
       "2017-01-03  778.809998  789.630005  775.799988  786.140015  1643100.0\n",
       "2017-01-04  788.359985  791.340027  783.159973  786.900024  1065400.0\n",
       "2017-01-05  786.080017  794.479980  785.020020  794.020020  1315400.0\n",
       "2017-01-06  795.260010  807.900024  792.203979  806.150024  1620500.0\n",
       "2017-01-09  806.400024  809.966003  802.830017  806.650024  1272400.0\n",
       "2017-01-10  807.859985  809.130005  803.510010  804.789978  1174300.0\n",
       "2017-01-11  805.000000  808.150024  801.369995  807.909973  1057900.0\n",
       "2017-01-12  807.140015  807.390015  799.169983  806.359985  1351000.0\n",
       "2017-01-13  807.479980  811.223999  806.690002  807.880005  1090100.0"
      ]
     },
     "execution_count": 65,
     "metadata": {},
     "output_type": "execute_result"
    }
   ],
   "source": [
    "google_businessdays=google.asfreq(\"B\")\n",
    "google_businessdays.head(20)"
   ]
  },
  {
   "cell_type": "markdown",
   "id": "5b4a4c64",
   "metadata": {},
   "source": [
    "## Cálculos básicos de series temporales\n",
    "\n",
    "Las manipulaciones típicas de series temporales incluyen:\n",
    "\n",
    "- Desplazar o retrasar valores en el tiempo.\n",
    "- Obtener la diferencia en valor para un período de tiempo dado.\n",
    "- Calcular el cambio porcentual sobre cualquier número de períodos.\n",
    "\n",
    "Los métodos integrados de pandas dependen de pd.DateTimeIndex."
   ]
  },
  {
   "cell_type": "code",
   "execution_count": 69,
   "id": "0d60c9b2",
   "metadata": {},
   "outputs": [],
   "source": [
    "google=pd.read_csv(\"https://raw.githubusercontent.com/Fernigithub/series_temporales_101/main/notebooks/csv/goog.csv\", parse_dates=[\"Date\"], index_col=\"Date\")\n",
    "#this is another method to make a dataframe for google stocks as you are parsing date column as time series\n",
    "#and now you will not need to convert to datetime object"
   ]
  },
  {
   "cell_type": "code",
   "execution_count": 70,
   "id": "7f5d013f",
   "metadata": {},
   "outputs": [
    {
     "name": "stdout",
     "output_type": "stream",
     "text": [
      "<class 'pandas.core.frame.DataFrame'>\n",
      "DatetimeIndex: 61 entries, 2016-12-19 to 2017-03-17\n",
      "Data columns (total 5 columns):\n",
      " #   Column  Non-Null Count  Dtype  \n",
      "---  ------  --------------  -----  \n",
      " 0   Open    61 non-null     float64\n",
      " 1   High    61 non-null     float64\n",
      " 2   Low     61 non-null     float64\n",
      " 3   Close   61 non-null     float64\n",
      " 4   Volume  61 non-null     int64  \n",
      "dtypes: float64(4), int64(1)\n",
      "memory usage: 2.9 KB\n"
     ]
    }
   ],
   "source": [
    "google.info()"
   ]
  },
  {
   "cell_type": "code",
   "execution_count": 71,
   "id": "0ad0f04f",
   "metadata": {},
   "outputs": [
    {
     "data": {
      "text/html": [
       "<div>\n",
       "<style scoped>\n",
       "    .dataframe tbody tr th:only-of-type {\n",
       "        vertical-align: middle;\n",
       "    }\n",
       "\n",
       "    .dataframe tbody tr th {\n",
       "        vertical-align: top;\n",
       "    }\n",
       "\n",
       "    .dataframe thead th {\n",
       "        text-align: right;\n",
       "    }\n",
       "</style>\n",
       "<table border=\"1\" class=\"dataframe\">\n",
       "  <thead>\n",
       "    <tr style=\"text-align: right;\">\n",
       "      <th></th>\n",
       "      <th>Open</th>\n",
       "      <th>High</th>\n",
       "      <th>Low</th>\n",
       "      <th>Close</th>\n",
       "      <th>Volume</th>\n",
       "    </tr>\n",
       "    <tr>\n",
       "      <th>Date</th>\n",
       "      <th></th>\n",
       "      <th></th>\n",
       "      <th></th>\n",
       "      <th></th>\n",
       "      <th></th>\n",
       "    </tr>\n",
       "  </thead>\n",
       "  <tbody>\n",
       "    <tr>\n",
       "      <th>2016-12-19</th>\n",
       "      <td>790.219971</td>\n",
       "      <td>797.659973</td>\n",
       "      <td>786.270020</td>\n",
       "      <td>794.200012</td>\n",
       "      <td>1225900</td>\n",
       "    </tr>\n",
       "    <tr>\n",
       "      <th>2016-12-20</th>\n",
       "      <td>796.760010</td>\n",
       "      <td>798.650024</td>\n",
       "      <td>793.270020</td>\n",
       "      <td>796.419983</td>\n",
       "      <td>925100</td>\n",
       "    </tr>\n",
       "    <tr>\n",
       "      <th>2016-12-21</th>\n",
       "      <td>795.840027</td>\n",
       "      <td>796.676025</td>\n",
       "      <td>787.099976</td>\n",
       "      <td>794.559998</td>\n",
       "      <td>1208700</td>\n",
       "    </tr>\n",
       "    <tr>\n",
       "      <th>2016-12-22</th>\n",
       "      <td>792.359985</td>\n",
       "      <td>793.320007</td>\n",
       "      <td>788.580017</td>\n",
       "      <td>791.260010</td>\n",
       "      <td>969100</td>\n",
       "    </tr>\n",
       "    <tr>\n",
       "      <th>2016-12-23</th>\n",
       "      <td>790.900024</td>\n",
       "      <td>792.739990</td>\n",
       "      <td>787.280029</td>\n",
       "      <td>789.909973</td>\n",
       "      <td>623400</td>\n",
       "    </tr>\n",
       "  </tbody>\n",
       "</table>\n",
       "</div>"
      ],
      "text/plain": [
       "                  Open        High         Low       Close   Volume\n",
       "Date                                                               \n",
       "2016-12-19  790.219971  797.659973  786.270020  794.200012  1225900\n",
       "2016-12-20  796.760010  798.650024  793.270020  796.419983   925100\n",
       "2016-12-21  795.840027  796.676025  787.099976  794.559998  1208700\n",
       "2016-12-22  792.359985  793.320007  788.580017  791.260010   969100\n",
       "2016-12-23  790.900024  792.739990  787.280029  789.909973   623400"
      ]
     },
     "execution_count": 71,
     "metadata": {},
     "output_type": "execute_result"
    }
   ],
   "source": [
    "google.head()"
   ]
  },
  {
   "cell_type": "markdown",
   "id": "1408e3e8",
   "metadata": {},
   "source": [
    "Aqui, puedes ver que la serie temporal está correctamente formateada con la fecha como índice del dataframe. Nos ayuda a omitir la conversión a objeto datetime y luego establecer el índice en la columna de fecha.\n",
    "\n",
    "### .shift(): Moviendo valores en el tiempo\n",
    "\n",
    ".shift():\n",
    "\n",
    "<li> defaults = 1 </li>\n",
    "<li> 1 período hacia el futuro </li>"
   ]
  },
  {
   "cell_type": "code",
   "execution_count": 72,
   "id": "54c09def",
   "metadata": {},
   "outputs": [
    {
     "data": {
      "text/html": [
       "<div>\n",
       "<style scoped>\n",
       "    .dataframe tbody tr th:only-of-type {\n",
       "        vertical-align: middle;\n",
       "    }\n",
       "\n",
       "    .dataframe tbody tr th {\n",
       "        vertical-align: top;\n",
       "    }\n",
       "\n",
       "    .dataframe thead th {\n",
       "        text-align: right;\n",
       "    }\n",
       "</style>\n",
       "<table border=\"1\" class=\"dataframe\">\n",
       "  <thead>\n",
       "    <tr style=\"text-align: right;\">\n",
       "      <th></th>\n",
       "      <th>Open</th>\n",
       "      <th>High</th>\n",
       "      <th>Low</th>\n",
       "      <th>Close</th>\n",
       "      <th>Volume</th>\n",
       "      <th>shifted</th>\n",
       "    </tr>\n",
       "    <tr>\n",
       "      <th>Date</th>\n",
       "      <th></th>\n",
       "      <th></th>\n",
       "      <th></th>\n",
       "      <th></th>\n",
       "      <th></th>\n",
       "      <th></th>\n",
       "    </tr>\n",
       "  </thead>\n",
       "  <tbody>\n",
       "    <tr>\n",
       "      <th>2016-12-19</th>\n",
       "      <td>790.219971</td>\n",
       "      <td>797.659973</td>\n",
       "      <td>786.270020</td>\n",
       "      <td>794.200012</td>\n",
       "      <td>1225900</td>\n",
       "      <td>NaN</td>\n",
       "    </tr>\n",
       "    <tr>\n",
       "      <th>2016-12-20</th>\n",
       "      <td>796.760010</td>\n",
       "      <td>798.650024</td>\n",
       "      <td>793.270020</td>\n",
       "      <td>796.419983</td>\n",
       "      <td>925100</td>\n",
       "      <td>794.200012</td>\n",
       "    </tr>\n",
       "    <tr>\n",
       "      <th>2016-12-21</th>\n",
       "      <td>795.840027</td>\n",
       "      <td>796.676025</td>\n",
       "      <td>787.099976</td>\n",
       "      <td>794.559998</td>\n",
       "      <td>1208700</td>\n",
       "      <td>796.419983</td>\n",
       "    </tr>\n",
       "    <tr>\n",
       "      <th>2016-12-22</th>\n",
       "      <td>792.359985</td>\n",
       "      <td>793.320007</td>\n",
       "      <td>788.580017</td>\n",
       "      <td>791.260010</td>\n",
       "      <td>969100</td>\n",
       "      <td>794.559998</td>\n",
       "    </tr>\n",
       "    <tr>\n",
       "      <th>2016-12-23</th>\n",
       "      <td>790.900024</td>\n",
       "      <td>792.739990</td>\n",
       "      <td>787.280029</td>\n",
       "      <td>789.909973</td>\n",
       "      <td>623400</td>\n",
       "      <td>791.260010</td>\n",
       "    </tr>\n",
       "  </tbody>\n",
       "</table>\n",
       "</div>"
      ],
      "text/plain": [
       "                  Open        High         Low       Close   Volume  \\\n",
       "Date                                                                  \n",
       "2016-12-19  790.219971  797.659973  786.270020  794.200012  1225900   \n",
       "2016-12-20  796.760010  798.650024  793.270020  796.419983   925100   \n",
       "2016-12-21  795.840027  796.676025  787.099976  794.559998  1208700   \n",
       "2016-12-22  792.359985  793.320007  788.580017  791.260010   969100   \n",
       "2016-12-23  790.900024  792.739990  787.280029  789.909973   623400   \n",
       "\n",
       "               shifted  \n",
       "Date                    \n",
       "2016-12-19         NaN  \n",
       "2016-12-20  794.200012  \n",
       "2016-12-21  796.419983  \n",
       "2016-12-22  794.559998  \n",
       "2016-12-23  791.260010  "
      ]
     },
     "execution_count": 72,
     "metadata": {},
     "output_type": "execute_result"
    }
   ],
   "source": [
    "google[\"shifted\"]=google.Close.shift(periods=1)\n",
    "google.head()"
   ]
  },
  {
   "cell_type": "code",
   "execution_count": 73,
   "id": "cc186577",
   "metadata": {},
   "outputs": [
    {
     "data": {
      "text/html": [
       "<div>\n",
       "<style scoped>\n",
       "    .dataframe tbody tr th:only-of-type {\n",
       "        vertical-align: middle;\n",
       "    }\n",
       "\n",
       "    .dataframe tbody tr th {\n",
       "        vertical-align: top;\n",
       "    }\n",
       "\n",
       "    .dataframe thead th {\n",
       "        text-align: right;\n",
       "    }\n",
       "</style>\n",
       "<table border=\"1\" class=\"dataframe\">\n",
       "  <thead>\n",
       "    <tr style=\"text-align: right;\">\n",
       "      <th></th>\n",
       "      <th>Open</th>\n",
       "      <th>High</th>\n",
       "      <th>Low</th>\n",
       "      <th>Close</th>\n",
       "      <th>Volume</th>\n",
       "      <th>shifted</th>\n",
       "      <th>lagged</th>\n",
       "    </tr>\n",
       "    <tr>\n",
       "      <th>Date</th>\n",
       "      <th></th>\n",
       "      <th></th>\n",
       "      <th></th>\n",
       "      <th></th>\n",
       "      <th></th>\n",
       "      <th></th>\n",
       "      <th></th>\n",
       "    </tr>\n",
       "  </thead>\n",
       "  <tbody>\n",
       "    <tr>\n",
       "      <th>2017-03-13</th>\n",
       "      <td>844.000000</td>\n",
       "      <td>848.684998</td>\n",
       "      <td>843.250000</td>\n",
       "      <td>845.539978</td>\n",
       "      <td>1149500</td>\n",
       "      <td>843.250000</td>\n",
       "      <td>845.619995</td>\n",
       "    </tr>\n",
       "    <tr>\n",
       "      <th>2017-03-14</th>\n",
       "      <td>843.640015</td>\n",
       "      <td>847.239990</td>\n",
       "      <td>840.799988</td>\n",
       "      <td>845.619995</td>\n",
       "      <td>779900</td>\n",
       "      <td>845.539978</td>\n",
       "      <td>847.200012</td>\n",
       "    </tr>\n",
       "    <tr>\n",
       "      <th>2017-03-15</th>\n",
       "      <td>847.590027</td>\n",
       "      <td>848.630005</td>\n",
       "      <td>840.770020</td>\n",
       "      <td>847.200012</td>\n",
       "      <td>1379600</td>\n",
       "      <td>845.619995</td>\n",
       "      <td>848.780029</td>\n",
       "    </tr>\n",
       "    <tr>\n",
       "      <th>2017-03-16</th>\n",
       "      <td>849.030029</td>\n",
       "      <td>850.849976</td>\n",
       "      <td>846.130005</td>\n",
       "      <td>848.780029</td>\n",
       "      <td>970400</td>\n",
       "      <td>847.200012</td>\n",
       "      <td>852.119995</td>\n",
       "    </tr>\n",
       "    <tr>\n",
       "      <th>2017-03-17</th>\n",
       "      <td>851.609985</td>\n",
       "      <td>853.400024</td>\n",
       "      <td>847.109985</td>\n",
       "      <td>852.119995</td>\n",
       "      <td>1712300</td>\n",
       "      <td>848.780029</td>\n",
       "      <td>NaN</td>\n",
       "    </tr>\n",
       "  </tbody>\n",
       "</table>\n",
       "</div>"
      ],
      "text/plain": [
       "                  Open        High         Low       Close   Volume  \\\n",
       "Date                                                                  \n",
       "2017-03-13  844.000000  848.684998  843.250000  845.539978  1149500   \n",
       "2017-03-14  843.640015  847.239990  840.799988  845.619995   779900   \n",
       "2017-03-15  847.590027  848.630005  840.770020  847.200012  1379600   \n",
       "2017-03-16  849.030029  850.849976  846.130005  848.780029   970400   \n",
       "2017-03-17  851.609985  853.400024  847.109985  852.119995  1712300   \n",
       "\n",
       "               shifted      lagged  \n",
       "Date                                \n",
       "2017-03-13  843.250000  845.619995  \n",
       "2017-03-14  845.539978  847.200012  \n",
       "2017-03-15  845.619995  848.780029  \n",
       "2017-03-16  847.200012  852.119995  \n",
       "2017-03-17  848.780029         NaN  "
      ]
     },
     "execution_count": 73,
     "metadata": {},
     "output_type": "execute_result"
    }
   ],
   "source": [
    "google[\"lagged\"]=google.Close.shift(periods=-1) #negativo para adelante en el tiempo\n",
    "google.tail(5)"
   ]
  },
  {
   "cell_type": "markdown",
   "id": "be0d9803",
   "metadata": {},
   "source": [
    "En el caso de shift, los valores se mueven un lugar hacia el futuro y en el caso de lag, los valores se mueven un lugar hacia el pasado.\n",
    "Es útil para comparar datos en diferentes momentos en el tiempo.\n",
    "\n",
    "### Calcular one-period porcentaje de cambio\n",
    "\n",
    "xt/xt-1\n",
    "\n",
    "Usaremos el método div que no solo permite encontrar la fracción para un valor particular en el dataframe, sino también a través de diferentes columnas en series temporales."
   ]
  },
  {
   "cell_type": "code",
   "execution_count": 74,
   "id": "efb7c97f",
   "metadata": {},
   "outputs": [],
   "source": [
    "google[\"change\"]=google.Close.div(google.shifted)"
   ]
  },
  {
   "cell_type": "code",
   "execution_count": 75,
   "id": "96f3625b",
   "metadata": {},
   "outputs": [
    {
     "data": {
      "text/html": [
       "<div>\n",
       "<style scoped>\n",
       "    .dataframe tbody tr th:only-of-type {\n",
       "        vertical-align: middle;\n",
       "    }\n",
       "\n",
       "    .dataframe tbody tr th {\n",
       "        vertical-align: top;\n",
       "    }\n",
       "\n",
       "    .dataframe thead th {\n",
       "        text-align: right;\n",
       "    }\n",
       "</style>\n",
       "<table border=\"1\" class=\"dataframe\">\n",
       "  <thead>\n",
       "    <tr style=\"text-align: right;\">\n",
       "      <th></th>\n",
       "      <th>Open</th>\n",
       "      <th>High</th>\n",
       "      <th>Low</th>\n",
       "      <th>Close</th>\n",
       "      <th>Volume</th>\n",
       "      <th>shifted</th>\n",
       "      <th>lagged</th>\n",
       "      <th>change</th>\n",
       "    </tr>\n",
       "    <tr>\n",
       "      <th>Date</th>\n",
       "      <th></th>\n",
       "      <th></th>\n",
       "      <th></th>\n",
       "      <th></th>\n",
       "      <th></th>\n",
       "      <th></th>\n",
       "      <th></th>\n",
       "      <th></th>\n",
       "    </tr>\n",
       "  </thead>\n",
       "  <tbody>\n",
       "    <tr>\n",
       "      <th>2016-12-19</th>\n",
       "      <td>790.219971</td>\n",
       "      <td>797.659973</td>\n",
       "      <td>786.270020</td>\n",
       "      <td>794.200012</td>\n",
       "      <td>1225900</td>\n",
       "      <td>NaN</td>\n",
       "      <td>796.419983</td>\n",
       "      <td>NaN</td>\n",
       "    </tr>\n",
       "    <tr>\n",
       "      <th>2016-12-20</th>\n",
       "      <td>796.760010</td>\n",
       "      <td>798.650024</td>\n",
       "      <td>793.270020</td>\n",
       "      <td>796.419983</td>\n",
       "      <td>925100</td>\n",
       "      <td>794.200012</td>\n",
       "      <td>794.559998</td>\n",
       "      <td>1.002795</td>\n",
       "    </tr>\n",
       "    <tr>\n",
       "      <th>2016-12-21</th>\n",
       "      <td>795.840027</td>\n",
       "      <td>796.676025</td>\n",
       "      <td>787.099976</td>\n",
       "      <td>794.559998</td>\n",
       "      <td>1208700</td>\n",
       "      <td>796.419983</td>\n",
       "      <td>791.260010</td>\n",
       "      <td>0.997665</td>\n",
       "    </tr>\n",
       "    <tr>\n",
       "      <th>2016-12-22</th>\n",
       "      <td>792.359985</td>\n",
       "      <td>793.320007</td>\n",
       "      <td>788.580017</td>\n",
       "      <td>791.260010</td>\n",
       "      <td>969100</td>\n",
       "      <td>794.559998</td>\n",
       "      <td>789.909973</td>\n",
       "      <td>0.995847</td>\n",
       "    </tr>\n",
       "    <tr>\n",
       "      <th>2016-12-23</th>\n",
       "      <td>790.900024</td>\n",
       "      <td>792.739990</td>\n",
       "      <td>787.280029</td>\n",
       "      <td>789.909973</td>\n",
       "      <td>623400</td>\n",
       "      <td>791.260010</td>\n",
       "      <td>791.549988</td>\n",
       "      <td>0.998294</td>\n",
       "    </tr>\n",
       "  </tbody>\n",
       "</table>\n",
       "</div>"
      ],
      "text/plain": [
       "                  Open        High         Low       Close   Volume  \\\n",
       "Date                                                                  \n",
       "2016-12-19  790.219971  797.659973  786.270020  794.200012  1225900   \n",
       "2016-12-20  796.760010  798.650024  793.270020  796.419983   925100   \n",
       "2016-12-21  795.840027  796.676025  787.099976  794.559998  1208700   \n",
       "2016-12-22  792.359985  793.320007  788.580017  791.260010   969100   \n",
       "2016-12-23  790.900024  792.739990  787.280029  789.909973   623400   \n",
       "\n",
       "               shifted      lagged    change  \n",
       "Date                                          \n",
       "2016-12-19         NaN  796.419983       NaN  \n",
       "2016-12-20  794.200012  794.559998  1.002795  \n",
       "2016-12-21  796.419983  791.260010  0.997665  \n",
       "2016-12-22  794.559998  789.909973  0.995847  \n",
       "2016-12-23  791.260010  791.549988  0.998294  "
      ]
     },
     "execution_count": 75,
     "metadata": {},
     "output_type": "execute_result"
    }
   ],
   "source": [
    "google.head()"
   ]
  },
  {
   "cell_type": "markdown",
   "id": "ec1fba5c",
   "metadata": {},
   "source": [
    "## .diff(): cambio de valor de un período\n",
    "\n",
    "Diferecia en valor para dos períodos adyacentes\n",
    "\n",
    "xt-x(t-1)"
   ]
  },
  {
   "cell_type": "code",
   "execution_count": 76,
   "id": "2768760e",
   "metadata": {},
   "outputs": [],
   "source": [
    "google[\"diff\"]=google.Close.diff()"
   ]
  },
  {
   "cell_type": "code",
   "execution_count": 77,
   "id": "239ca02b",
   "metadata": {},
   "outputs": [
    {
     "data": {
      "text/html": [
       "<div>\n",
       "<style scoped>\n",
       "    .dataframe tbody tr th:only-of-type {\n",
       "        vertical-align: middle;\n",
       "    }\n",
       "\n",
       "    .dataframe tbody tr th {\n",
       "        vertical-align: top;\n",
       "    }\n",
       "\n",
       "    .dataframe thead th {\n",
       "        text-align: right;\n",
       "    }\n",
       "</style>\n",
       "<table border=\"1\" class=\"dataframe\">\n",
       "  <thead>\n",
       "    <tr style=\"text-align: right;\">\n",
       "      <th></th>\n",
       "      <th>Open</th>\n",
       "      <th>High</th>\n",
       "      <th>Low</th>\n",
       "      <th>Close</th>\n",
       "      <th>Volume</th>\n",
       "      <th>shifted</th>\n",
       "      <th>lagged</th>\n",
       "      <th>change</th>\n",
       "      <th>diff</th>\n",
       "    </tr>\n",
       "    <tr>\n",
       "      <th>Date</th>\n",
       "      <th></th>\n",
       "      <th></th>\n",
       "      <th></th>\n",
       "      <th></th>\n",
       "      <th></th>\n",
       "      <th></th>\n",
       "      <th></th>\n",
       "      <th></th>\n",
       "      <th></th>\n",
       "    </tr>\n",
       "  </thead>\n",
       "  <tbody>\n",
       "    <tr>\n",
       "      <th>2016-12-19</th>\n",
       "      <td>790.219971</td>\n",
       "      <td>797.659973</td>\n",
       "      <td>786.270020</td>\n",
       "      <td>794.200012</td>\n",
       "      <td>1225900</td>\n",
       "      <td>NaN</td>\n",
       "      <td>796.419983</td>\n",
       "      <td>NaN</td>\n",
       "      <td>NaN</td>\n",
       "    </tr>\n",
       "    <tr>\n",
       "      <th>2016-12-20</th>\n",
       "      <td>796.760010</td>\n",
       "      <td>798.650024</td>\n",
       "      <td>793.270020</td>\n",
       "      <td>796.419983</td>\n",
       "      <td>925100</td>\n",
       "      <td>794.200012</td>\n",
       "      <td>794.559998</td>\n",
       "      <td>1.002795</td>\n",
       "      <td>2.219971</td>\n",
       "    </tr>\n",
       "    <tr>\n",
       "      <th>2016-12-21</th>\n",
       "      <td>795.840027</td>\n",
       "      <td>796.676025</td>\n",
       "      <td>787.099976</td>\n",
       "      <td>794.559998</td>\n",
       "      <td>1208700</td>\n",
       "      <td>796.419983</td>\n",
       "      <td>791.260010</td>\n",
       "      <td>0.997665</td>\n",
       "      <td>-1.859985</td>\n",
       "    </tr>\n",
       "    <tr>\n",
       "      <th>2016-12-22</th>\n",
       "      <td>792.359985</td>\n",
       "      <td>793.320007</td>\n",
       "      <td>788.580017</td>\n",
       "      <td>791.260010</td>\n",
       "      <td>969100</td>\n",
       "      <td>794.559998</td>\n",
       "      <td>789.909973</td>\n",
       "      <td>0.995847</td>\n",
       "      <td>-3.299988</td>\n",
       "    </tr>\n",
       "    <tr>\n",
       "      <th>2016-12-23</th>\n",
       "      <td>790.900024</td>\n",
       "      <td>792.739990</td>\n",
       "      <td>787.280029</td>\n",
       "      <td>789.909973</td>\n",
       "      <td>623400</td>\n",
       "      <td>791.260010</td>\n",
       "      <td>791.549988</td>\n",
       "      <td>0.998294</td>\n",
       "      <td>-1.350037</td>\n",
       "    </tr>\n",
       "  </tbody>\n",
       "</table>\n",
       "</div>"
      ],
      "text/plain": [
       "                  Open        High         Low       Close   Volume  \\\n",
       "Date                                                                  \n",
       "2016-12-19  790.219971  797.659973  786.270020  794.200012  1225900   \n",
       "2016-12-20  796.760010  798.650024  793.270020  796.419983   925100   \n",
       "2016-12-21  795.840027  796.676025  787.099976  794.559998  1208700   \n",
       "2016-12-22  792.359985  793.320007  788.580017  791.260010   969100   \n",
       "2016-12-23  790.900024  792.739990  787.280029  789.909973   623400   \n",
       "\n",
       "               shifted      lagged    change      diff  \n",
       "Date                                                    \n",
       "2016-12-19         NaN  796.419983       NaN       NaN  \n",
       "2016-12-20  794.200012  794.559998  1.002795  2.219971  \n",
       "2016-12-21  796.419983  791.260010  0.997665 -1.859985  \n",
       "2016-12-22  794.559998  789.909973  0.995847 -3.299988  \n",
       "2016-12-23  791.260010  791.549988  0.998294 -1.350037  "
      ]
     },
     "execution_count": 77,
     "metadata": {},
     "output_type": "execute_result"
    }
   ],
   "source": [
    "google.head()"
   ]
  },
  {
   "cell_type": "markdown",
   "id": "f932837c",
   "metadata": {},
   "source": [
    "## .pct_change(): % de cambio\n",
    "\n",
    "Calcular el cambio de período y porcentaje es bastante común, pandas tiene un método incorporado .pct_change() para calcular el cambio porcentual para dos períodos adyacentes.\n",
    "\n",
    "xt/x(t-1)"
   ]
  },
  {
   "cell_type": "code",
   "execution_count": 78,
   "id": "038c9dbe",
   "metadata": {},
   "outputs": [
    {
     "data": {
      "text/html": [
       "<div>\n",
       "<style scoped>\n",
       "    .dataframe tbody tr th:only-of-type {\n",
       "        vertical-align: middle;\n",
       "    }\n",
       "\n",
       "    .dataframe tbody tr th {\n",
       "        vertical-align: top;\n",
       "    }\n",
       "\n",
       "    .dataframe thead th {\n",
       "        text-align: right;\n",
       "    }\n",
       "</style>\n",
       "<table border=\"1\" class=\"dataframe\">\n",
       "  <thead>\n",
       "    <tr style=\"text-align: right;\">\n",
       "      <th></th>\n",
       "      <th>Open</th>\n",
       "      <th>High</th>\n",
       "      <th>Low</th>\n",
       "      <th>Close</th>\n",
       "      <th>Volume</th>\n",
       "      <th>shifted</th>\n",
       "      <th>lagged</th>\n",
       "      <th>change</th>\n",
       "      <th>diff</th>\n",
       "      <th>pct_change</th>\n",
       "    </tr>\n",
       "    <tr>\n",
       "      <th>Date</th>\n",
       "      <th></th>\n",
       "      <th></th>\n",
       "      <th></th>\n",
       "      <th></th>\n",
       "      <th></th>\n",
       "      <th></th>\n",
       "      <th></th>\n",
       "      <th></th>\n",
       "      <th></th>\n",
       "      <th></th>\n",
       "    </tr>\n",
       "  </thead>\n",
       "  <tbody>\n",
       "    <tr>\n",
       "      <th>2016-12-19</th>\n",
       "      <td>790.219971</td>\n",
       "      <td>797.659973</td>\n",
       "      <td>786.270020</td>\n",
       "      <td>794.200012</td>\n",
       "      <td>1225900</td>\n",
       "      <td>NaN</td>\n",
       "      <td>796.419983</td>\n",
       "      <td>NaN</td>\n",
       "      <td>NaN</td>\n",
       "      <td>NaN</td>\n",
       "    </tr>\n",
       "    <tr>\n",
       "      <th>2016-12-20</th>\n",
       "      <td>796.760010</td>\n",
       "      <td>798.650024</td>\n",
       "      <td>793.270020</td>\n",
       "      <td>796.419983</td>\n",
       "      <td>925100</td>\n",
       "      <td>794.200012</td>\n",
       "      <td>794.559998</td>\n",
       "      <td>1.002795</td>\n",
       "      <td>2.219971</td>\n",
       "      <td>0.279523</td>\n",
       "    </tr>\n",
       "    <tr>\n",
       "      <th>2016-12-21</th>\n",
       "      <td>795.840027</td>\n",
       "      <td>796.676025</td>\n",
       "      <td>787.099976</td>\n",
       "      <td>794.559998</td>\n",
       "      <td>1208700</td>\n",
       "      <td>796.419983</td>\n",
       "      <td>791.260010</td>\n",
       "      <td>0.997665</td>\n",
       "      <td>-1.859985</td>\n",
       "      <td>-0.233543</td>\n",
       "    </tr>\n",
       "    <tr>\n",
       "      <th>2016-12-22</th>\n",
       "      <td>792.359985</td>\n",
       "      <td>793.320007</td>\n",
       "      <td>788.580017</td>\n",
       "      <td>791.260010</td>\n",
       "      <td>969100</td>\n",
       "      <td>794.559998</td>\n",
       "      <td>789.909973</td>\n",
       "      <td>0.995847</td>\n",
       "      <td>-3.299988</td>\n",
       "      <td>-0.415323</td>\n",
       "    </tr>\n",
       "    <tr>\n",
       "      <th>2016-12-23</th>\n",
       "      <td>790.900024</td>\n",
       "      <td>792.739990</td>\n",
       "      <td>787.280029</td>\n",
       "      <td>789.909973</td>\n",
       "      <td>623400</td>\n",
       "      <td>791.260010</td>\n",
       "      <td>791.549988</td>\n",
       "      <td>0.998294</td>\n",
       "      <td>-1.350037</td>\n",
       "      <td>-0.170619</td>\n",
       "    </tr>\n",
       "  </tbody>\n",
       "</table>\n",
       "</div>"
      ],
      "text/plain": [
       "                  Open        High         Low       Close   Volume  \\\n",
       "Date                                                                  \n",
       "2016-12-19  790.219971  797.659973  786.270020  794.200012  1225900   \n",
       "2016-12-20  796.760010  798.650024  793.270020  796.419983   925100   \n",
       "2016-12-21  795.840027  796.676025  787.099976  794.559998  1208700   \n",
       "2016-12-22  792.359985  793.320007  788.580017  791.260010   969100   \n",
       "2016-12-23  790.900024  792.739990  787.280029  789.909973   623400   \n",
       "\n",
       "               shifted      lagged    change      diff  pct_change  \n",
       "Date                                                                \n",
       "2016-12-19         NaN  796.419983       NaN       NaN         NaN  \n",
       "2016-12-20  794.200012  794.559998  1.002795  2.219971    0.279523  \n",
       "2016-12-21  796.419983  791.260010  0.997665 -1.859985   -0.233543  \n",
       "2016-12-22  794.559998  789.909973  0.995847 -3.299988   -0.415323  \n",
       "2016-12-23  791.260010  791.549988  0.998294 -1.350037   -0.170619  "
      ]
     },
     "execution_count": 78,
     "metadata": {},
     "output_type": "execute_result"
    }
   ],
   "source": [
    "google[\"pct_change\"]=google.Close.pct_change().mul(100)\n",
    "google.head()"
   ]
  },
  {
   "cell_type": "markdown",
   "id": "845285d9",
   "metadata": {},
   "source": [
    "## Comparando tasas de crecimiento de series temporales\n",
    "\n",
    "Esto nos ayudara a comparar diferentes tasas de crecimiento en una serie temporal.\n",
    "\n",
    "Las series de precios de las acciones son difíciles de comparar porque comienzan en diferentes niveles. Un método más fácil es normalizar las series de precios para que comiencen en 100 de modo que comiencen en el mismo valor.\n",
    "\n",
    "Hacemos esto dividiendo todos los precios por el primer elemento de la serie y luego multiplicando por 100. Esto dará el mismo punto de partida a las series temporales. Todos los precios se convertirán en relativos al punto de partida. Reflejarán la diferencia al punto de partida en puntos porcentuales."
   ]
  },
  {
   "cell_type": "code",
   "execution_count": 79,
   "id": "e5bd62a9",
   "metadata": {},
   "outputs": [
    {
     "data": {
      "text/html": [
       "<div>\n",
       "<style scoped>\n",
       "    .dataframe tbody tr th:only-of-type {\n",
       "        vertical-align: middle;\n",
       "    }\n",
       "\n",
       "    .dataframe tbody tr th {\n",
       "        vertical-align: top;\n",
       "    }\n",
       "\n",
       "    .dataframe thead th {\n",
       "        text-align: right;\n",
       "    }\n",
       "</style>\n",
       "<table border=\"1\" class=\"dataframe\">\n",
       "  <thead>\n",
       "    <tr style=\"text-align: right;\">\n",
       "      <th></th>\n",
       "      <th>Open</th>\n",
       "      <th>High</th>\n",
       "      <th>Low</th>\n",
       "      <th>Close</th>\n",
       "      <th>Volume</th>\n",
       "      <th>shifted</th>\n",
       "      <th>lagged</th>\n",
       "      <th>change</th>\n",
       "      <th>diff</th>\n",
       "      <th>pct_change</th>\n",
       "    </tr>\n",
       "    <tr>\n",
       "      <th>Date</th>\n",
       "      <th></th>\n",
       "      <th></th>\n",
       "      <th></th>\n",
       "      <th></th>\n",
       "      <th></th>\n",
       "      <th></th>\n",
       "      <th></th>\n",
       "      <th></th>\n",
       "      <th></th>\n",
       "      <th></th>\n",
       "    </tr>\n",
       "  </thead>\n",
       "  <tbody>\n",
       "    <tr>\n",
       "      <th>2016-12-19</th>\n",
       "      <td>790.219971</td>\n",
       "      <td>797.659973</td>\n",
       "      <td>786.270020</td>\n",
       "      <td>794.200012</td>\n",
       "      <td>1225900</td>\n",
       "      <td>NaN</td>\n",
       "      <td>796.419983</td>\n",
       "      <td>NaN</td>\n",
       "      <td>NaN</td>\n",
       "      <td>NaN</td>\n",
       "    </tr>\n",
       "    <tr>\n",
       "      <th>2016-12-20</th>\n",
       "      <td>796.760010</td>\n",
       "      <td>798.650024</td>\n",
       "      <td>793.270020</td>\n",
       "      <td>796.419983</td>\n",
       "      <td>925100</td>\n",
       "      <td>794.200012</td>\n",
       "      <td>794.559998</td>\n",
       "      <td>1.002795</td>\n",
       "      <td>2.219971</td>\n",
       "      <td>0.279523</td>\n",
       "    </tr>\n",
       "    <tr>\n",
       "      <th>2016-12-21</th>\n",
       "      <td>795.840027</td>\n",
       "      <td>796.676025</td>\n",
       "      <td>787.099976</td>\n",
       "      <td>794.559998</td>\n",
       "      <td>1208700</td>\n",
       "      <td>796.419983</td>\n",
       "      <td>791.260010</td>\n",
       "      <td>0.997665</td>\n",
       "      <td>-1.859985</td>\n",
       "      <td>-0.233543</td>\n",
       "    </tr>\n",
       "    <tr>\n",
       "      <th>2016-12-22</th>\n",
       "      <td>792.359985</td>\n",
       "      <td>793.320007</td>\n",
       "      <td>788.580017</td>\n",
       "      <td>791.260010</td>\n",
       "      <td>969100</td>\n",
       "      <td>794.559998</td>\n",
       "      <td>789.909973</td>\n",
       "      <td>0.995847</td>\n",
       "      <td>-3.299988</td>\n",
       "      <td>-0.415323</td>\n",
       "    </tr>\n",
       "    <tr>\n",
       "      <th>2016-12-23</th>\n",
       "      <td>790.900024</td>\n",
       "      <td>792.739990</td>\n",
       "      <td>787.280029</td>\n",
       "      <td>789.909973</td>\n",
       "      <td>623400</td>\n",
       "      <td>791.260010</td>\n",
       "      <td>791.549988</td>\n",
       "      <td>0.998294</td>\n",
       "      <td>-1.350037</td>\n",
       "      <td>-0.170619</td>\n",
       "    </tr>\n",
       "  </tbody>\n",
       "</table>\n",
       "</div>"
      ],
      "text/plain": [
       "                  Open        High         Low       Close   Volume  \\\n",
       "Date                                                                  \n",
       "2016-12-19  790.219971  797.659973  786.270020  794.200012  1225900   \n",
       "2016-12-20  796.760010  798.650024  793.270020  796.419983   925100   \n",
       "2016-12-21  795.840027  796.676025  787.099976  794.559998  1208700   \n",
       "2016-12-22  792.359985  793.320007  788.580017  791.260010   969100   \n",
       "2016-12-23  790.900024  792.739990  787.280029  789.909973   623400   \n",
       "\n",
       "               shifted      lagged    change      diff  pct_change  \n",
       "Date                                                                \n",
       "2016-12-19         NaN  796.419983       NaN       NaN         NaN  \n",
       "2016-12-20  794.200012  794.559998  1.002795  2.219971    0.279523  \n",
       "2016-12-21  796.419983  791.260010  0.997665 -1.859985   -0.233543  \n",
       "2016-12-22  794.559998  789.909973  0.995847 -3.299988   -0.415323  \n",
       "2016-12-23  791.260010  791.549988  0.998294 -1.350037   -0.170619  "
      ]
     },
     "execution_count": 79,
     "metadata": {},
     "output_type": "execute_result"
    }
   ],
   "source": [
    "google.head()"
   ]
  },
  {
   "cell_type": "code",
   "execution_count": 80,
   "id": "5cd9cf32",
   "metadata": {},
   "outputs": [
    {
     "data": {
      "text/plain": [
       "794.200012"
      ]
     },
     "execution_count": 80,
     "metadata": {},
     "output_type": "execute_result"
    }
   ],
   "source": [
    "first_price=google.Close.iloc[0]\n",
    "first_price"
   ]
  },
  {
   "cell_type": "code",
   "execution_count": 81,
   "id": "eb4998df",
   "metadata": {},
   "outputs": [
    {
     "data": {
      "text/plain": [
       "<Axes: title={'center': 'Google normalized Series'}, xlabel='Date'>"
      ]
     },
     "execution_count": 81,
     "metadata": {},
     "output_type": "execute_result"
    },
    {
     "data": {
      "image/png": "[encoded data removed]",
      "text/plain": [
       "<Figure size 640x480 with 1 Axes>"
      ]
     },
     "metadata": {},
     "output_type": "display_data"
    }
   ],
   "source": [
    "normalized=google.Close.div(first_price).mul(100)\n",
    "normalized.plot(title=\"Google normalized Series\")"
   ]
  },
  {
   "cell_type": "markdown",
   "id": "207a176a",
   "metadata": {},
   "source": [
    "## Cambiando la frecuencia de las series temporales: remuestreo (resampling)\n",
    "\n",
    "A veces, puede ser necesario convertir dos series temporales a la misma frecuencia para poder analizarlas juntas.\n",
    "\n",
    "En las secciones anteriores, hemos visto cómo podemos usar DateTimeIndex para establecer y cambiar la frecuencia usando .asfreq()\n",
    "\n",
    "Sin embargo, la conversión de frecuencia afecta a los datos.\n",
    "\n",
    "<li> Cuando aumentamos la frecuencia de los datos, tenemos nuevas filas que contienen las fechas faltantes y necesitamos llenar o interpolar los datos faltantes </li>\n",
    "\n",
    "<li> Por otro lado, si disminuimos la frecuencia de los datos, se supone que debemos agregar los datos existentes </li>\n",
    "\n",
    "#### Comencemos a trabajar con datos trimestrales"
   ]
  },
  {
   "cell_type": "code",
   "execution_count": 82,
   "id": "caa8c0de",
   "metadata": {},
   "outputs": [
    {
     "data": {
      "text/plain": [
       "2016-03-31    1\n",
       "2016-06-30    2\n",
       "2016-09-30    3\n",
       "2016-12-31    4\n",
       "Freq: Q-DEC, dtype: int64"
      ]
     },
     "execution_count": 82,
     "metadata": {},
     "output_type": "execute_result"
    }
   ],
   "source": [
    "dates=pd.date_range(start=\"2016\", periods=4, freq=\"Q\")\n",
    "data=range(1,5)\n",
    "quarterly=range(1,5)\n",
    "quarterly=pd.Series(data=data, index=dates)\n",
    "quarterly"
   ]
  },
  {
   "cell_type": "code",
   "execution_count": 83,
   "id": "1b394029",
   "metadata": {},
   "outputs": [
    {
     "data": {
      "text/plain": [
       "2016-03-31    1.0\n",
       "2016-04-30    NaN\n",
       "2016-05-31    NaN\n",
       "2016-06-30    2.0\n",
       "2016-07-31    NaN\n",
       "2016-08-31    NaN\n",
       "2016-09-30    3.0\n",
       "2016-10-31    NaN\n",
       "2016-11-30    NaN\n",
       "2016-12-31    4.0\n",
       "Freq: M, dtype: float64"
      ]
     },
     "execution_count": 83,
     "metadata": {},
     "output_type": "execute_result"
    }
   ],
   "source": [
    "# remuestreo (upsampling) de datos trimestrales a mensuales\n",
    "\n",
    "monthly=quarterly.asfreq(\"M\")\n",
    "monthly"
   ]
  },
  {
   "cell_type": "markdown",
   "id": "4d9e68d4",
   "metadata": {},
   "source": [
    "Se dara cuenta aqui que pandas ha agregado meses entre los trimestres para tener en cuenta el upsampling.\n",
    "\n",
    "Veremos diferentes métodos que ofrece pandas para llenar los valores faltantes\n",
    "\n",
    "Crearemos un DataFrame que contenga todas las alternativas al valor base, nuestra primera columna.\n"
   ]
  },
  {
   "cell_type": "code",
   "execution_count": 84,
   "id": "eeda5873",
   "metadata": {},
   "outputs": [],
   "source": [
    "monthly=monthly.to_frame(\"baseline\")"
   ]
  },
  {
   "cell_type": "code",
   "execution_count": 85,
   "id": "6c66d8a5",
   "metadata": {},
   "outputs": [
    {
     "data": {
      "text/html": [
       "<div>\n",
       "<style scoped>\n",
       "    .dataframe tbody tr th:only-of-type {\n",
       "        vertical-align: middle;\n",
       "    }\n",
       "\n",
       "    .dataframe tbody tr th {\n",
       "        vertical-align: top;\n",
       "    }\n",
       "\n",
       "    .dataframe thead th {\n",
       "        text-align: right;\n",
       "    }\n",
       "</style>\n",
       "<table border=\"1\" class=\"dataframe\">\n",
       "  <thead>\n",
       "    <tr style=\"text-align: right;\">\n",
       "      <th></th>\n",
       "      <th>baseline</th>\n",
       "    </tr>\n",
       "  </thead>\n",
       "  <tbody>\n",
       "    <tr>\n",
       "      <th>2016-03-31</th>\n",
       "      <td>1.0</td>\n",
       "    </tr>\n",
       "    <tr>\n",
       "      <th>2016-04-30</th>\n",
       "      <td>NaN</td>\n",
       "    </tr>\n",
       "    <tr>\n",
       "      <th>2016-05-31</th>\n",
       "      <td>NaN</td>\n",
       "    </tr>\n",
       "    <tr>\n",
       "      <th>2016-06-30</th>\n",
       "      <td>2.0</td>\n",
       "    </tr>\n",
       "    <tr>\n",
       "      <th>2016-07-31</th>\n",
       "      <td>NaN</td>\n",
       "    </tr>\n",
       "    <tr>\n",
       "      <th>2016-08-31</th>\n",
       "      <td>NaN</td>\n",
       "    </tr>\n",
       "    <tr>\n",
       "      <th>2016-09-30</th>\n",
       "      <td>3.0</td>\n",
       "    </tr>\n",
       "    <tr>\n",
       "      <th>2016-10-31</th>\n",
       "      <td>NaN</td>\n",
       "    </tr>\n",
       "    <tr>\n",
       "      <th>2016-11-30</th>\n",
       "      <td>NaN</td>\n",
       "    </tr>\n",
       "    <tr>\n",
       "      <th>2016-12-31</th>\n",
       "      <td>4.0</td>\n",
       "    </tr>\n",
       "  </tbody>\n",
       "</table>\n",
       "</div>"
      ],
      "text/plain": [
       "            baseline\n",
       "2016-03-31       1.0\n",
       "2016-04-30       NaN\n",
       "2016-05-31       NaN\n",
       "2016-06-30       2.0\n",
       "2016-07-31       NaN\n",
       "2016-08-31       NaN\n",
       "2016-09-30       3.0\n",
       "2016-10-31       NaN\n",
       "2016-11-30       NaN\n",
       "2016-12-31       4.0"
      ]
     },
     "execution_count": 85,
     "metadata": {},
     "output_type": "execute_result"
    }
   ],
   "source": [
    "monthly"
   ]
  },
  {
   "cell_type": "markdown",
   "id": "70eea951",
   "metadata": {},
   "source": [
    "## Upsampling: métodos de relleno\n",
    "<br>\n",
    "<li> Relleno hacia adelante </li>\n",
    "<li> Relleno hacia atrás </li> \n",
    "<li> Relleno con un valor </li>"
   ]
  },
  {
   "cell_type": "code",
   "execution_count": 86,
   "id": "c929f1d2",
   "metadata": {},
   "outputs": [],
   "source": [
    "monthly['ffill']=quarterly.asfreq(\"M\",method=\"ffill\")\n",
    "monthly[\"bfill\"]=quarterly.asfreq(\"M\",method=\"bfill\")\n",
    "monthly['value']=quarterly.asfreq(\"M\",fill_value=0)"
   ]
  },
  {
   "cell_type": "code",
   "execution_count": 87,
   "id": "892a7d10",
   "metadata": {},
   "outputs": [
    {
     "data": {
      "text/html": [
       "<div>\n",
       "<style scoped>\n",
       "    .dataframe tbody tr th:only-of-type {\n",
       "        vertical-align: middle;\n",
       "    }\n",
       "\n",
       "    .dataframe tbody tr th {\n",
       "        vertical-align: top;\n",
       "    }\n",
       "\n",
       "    .dataframe thead th {\n",
       "        text-align: right;\n",
       "    }\n",
       "</style>\n",
       "<table border=\"1\" class=\"dataframe\">\n",
       "  <thead>\n",
       "    <tr style=\"text-align: right;\">\n",
       "      <th></th>\n",
       "      <th>baseline</th>\n",
       "      <th>ffill</th>\n",
       "      <th>bfill</th>\n",
       "      <th>value</th>\n",
       "    </tr>\n",
       "  </thead>\n",
       "  <tbody>\n",
       "    <tr>\n",
       "      <th>2016-03-31</th>\n",
       "      <td>1.0</td>\n",
       "      <td>1</td>\n",
       "      <td>1</td>\n",
       "      <td>1</td>\n",
       "    </tr>\n",
       "    <tr>\n",
       "      <th>2016-04-30</th>\n",
       "      <td>NaN</td>\n",
       "      <td>1</td>\n",
       "      <td>2</td>\n",
       "      <td>0</td>\n",
       "    </tr>\n",
       "    <tr>\n",
       "      <th>2016-05-31</th>\n",
       "      <td>NaN</td>\n",
       "      <td>1</td>\n",
       "      <td>2</td>\n",
       "      <td>0</td>\n",
       "    </tr>\n",
       "    <tr>\n",
       "      <th>2016-06-30</th>\n",
       "      <td>2.0</td>\n",
       "      <td>2</td>\n",
       "      <td>2</td>\n",
       "      <td>2</td>\n",
       "    </tr>\n",
       "    <tr>\n",
       "      <th>2016-07-31</th>\n",
       "      <td>NaN</td>\n",
       "      <td>2</td>\n",
       "      <td>3</td>\n",
       "      <td>0</td>\n",
       "    </tr>\n",
       "    <tr>\n",
       "      <th>2016-08-31</th>\n",
       "      <td>NaN</td>\n",
       "      <td>2</td>\n",
       "      <td>3</td>\n",
       "      <td>0</td>\n",
       "    </tr>\n",
       "    <tr>\n",
       "      <th>2016-09-30</th>\n",
       "      <td>3.0</td>\n",
       "      <td>3</td>\n",
       "      <td>3</td>\n",
       "      <td>3</td>\n",
       "    </tr>\n",
       "    <tr>\n",
       "      <th>2016-10-31</th>\n",
       "      <td>NaN</td>\n",
       "      <td>3</td>\n",
       "      <td>4</td>\n",
       "      <td>0</td>\n",
       "    </tr>\n",
       "    <tr>\n",
       "      <th>2016-11-30</th>\n",
       "      <td>NaN</td>\n",
       "      <td>3</td>\n",
       "      <td>4</td>\n",
       "      <td>0</td>\n",
       "    </tr>\n",
       "    <tr>\n",
       "      <th>2016-12-31</th>\n",
       "      <td>4.0</td>\n",
       "      <td>4</td>\n",
       "      <td>4</td>\n",
       "      <td>4</td>\n",
       "    </tr>\n",
       "  </tbody>\n",
       "</table>\n",
       "</div>"
      ],
      "text/plain": [
       "            baseline  ffill  bfill  value\n",
       "2016-03-31       1.0      1      1      1\n",
       "2016-04-30       NaN      1      2      0\n",
       "2016-05-31       NaN      1      2      0\n",
       "2016-06-30       2.0      2      2      2\n",
       "2016-07-31       NaN      2      3      0\n",
       "2016-08-31       NaN      2      3      0\n",
       "2016-09-30       3.0      3      3      3\n",
       "2016-10-31       NaN      3      4      0\n",
       "2016-11-30       NaN      3      4      0\n",
       "2016-12-31       4.0      4      4      4"
      ]
     },
     "execution_count": 87,
     "metadata": {},
     "output_type": "execute_result"
    }
   ],
   "source": [
    "monthly"
   ]
  },
  {
   "cell_type": "markdown",
   "id": "622ff771",
   "metadata": {},
   "source": [
    "## Agregar valores faltantes: .reindex()"
   ]
  },
  {
   "cell_type": "code",
   "execution_count": 88,
   "id": "e7e8fba9",
   "metadata": {},
   "outputs": [
    {
     "data": {
      "text/plain": [
       "DatetimeIndex(['2016-01-31', '2016-02-29', '2016-03-31', '2016-04-30',\n",
       "               '2016-05-31', '2016-06-30', '2016-07-31', '2016-08-31',\n",
       "               '2016-09-30', '2016-10-31', '2016-11-30', '2016-12-31'],\n",
       "              dtype='datetime64[ns]', freq='M')"
      ]
     },
     "execution_count": 88,
     "metadata": {},
     "output_type": "execute_result"
    }
   ],
   "source": [
    "dates=pd.date_range(start=\"2016\", periods=12, freq=\"M\")\n",
    "dates"
   ]
  },
  {
   "cell_type": "markdown",
   "id": "37910eb7",
   "metadata": {},
   "source": [
    ".reindex():\n",
    "    \n",
    "<li> adaptar el DataFrame al nuevo índice </li>\n",
    "<li> lógica de relleno coherente como en .asfreq() </li>\n"
   ]
  },
  {
   "cell_type": "code",
   "execution_count": 89,
   "id": "fc236bd9",
   "metadata": {},
   "outputs": [
    {
     "data": {
      "text/plain": [
       "2016-01-31    NaN\n",
       "2016-02-29    NaN\n",
       "2016-03-31    1.0\n",
       "2016-04-30    NaN\n",
       "2016-05-31    NaN\n",
       "2016-06-30    2.0\n",
       "2016-07-31    NaN\n",
       "2016-08-31    NaN\n",
       "2016-09-30    3.0\n",
       "2016-10-31    NaN\n",
       "2016-11-30    NaN\n",
       "2016-12-31    4.0\n",
       "Freq: M, dtype: float64"
      ]
     },
     "execution_count": 89,
     "metadata": {},
     "output_type": "execute_result"
    }
   ],
   "source": [
    "quarterly.reindex(dates)"
   ]
  },
  {
   "cell_type": "markdown",
   "id": "0294b1c5",
   "metadata": {},
   "source": [
    "## Remuestreo e interpolación con .resample()\n",
    "\n",
    ".resample() es similar a .groupby()\n",
    "\n",
    "<li> Agrupa datos dentro del período de remuestreo y aplica uno o varios métodos a cada grupo </li>\n",
    "<li> Nueva fecha determinada por el desplazamiento: inicio, fin, etc. </li>\n",
    "<li> Remuestreo hacia arriba: rellenar desde valores existentes o interpolar valores </li>"
   ]
  },
  {
   "cell_type": "code",
   "execution_count": 93,
   "id": "0e04526a",
   "metadata": {},
   "outputs": [
    {
     "name": "stdout",
     "output_type": "stream",
     "text": [
      "<class 'pandas.core.frame.DataFrame'>\n",
      "DatetimeIndex: 778 entries, 1948-01-01 to 2012-10-01\n",
      "Data columns (total 1 columns):\n",
      " #   Column  Non-Null Count  Dtype  \n",
      "---  ------  --------------  -----  \n",
      " 0   VALUE   778 non-null    float64\n",
      "dtypes: float64(1)\n",
      "memory usage: 12.2 KB\n"
     ]
    }
   ],
   "source": [
    "unrate=pd.read_csv(\"https://raw.githubusercontent.com/Fernigithub/series_temporales_101/main/notebooks/csv/unrate.csv\", parse_dates=[\"DATE\"], index_col=\"DATE\")\n",
    "unrate.info()"
   ]
  },
  {
   "cell_type": "code",
   "execution_count": 94,
   "id": "2e656987",
   "metadata": {},
   "outputs": [
    {
     "data": {
      "text/html": [
       "<div>\n",
       "<style scoped>\n",
       "    .dataframe tbody tr th:only-of-type {\n",
       "        vertical-align: middle;\n",
       "    }\n",
       "\n",
       "    .dataframe tbody tr th {\n",
       "        vertical-align: top;\n",
       "    }\n",
       "\n",
       "    .dataframe thead th {\n",
       "        text-align: right;\n",
       "    }\n",
       "</style>\n",
       "<table border=\"1\" class=\"dataframe\">\n",
       "  <thead>\n",
       "    <tr style=\"text-align: right;\">\n",
       "      <th></th>\n",
       "      <th>VALUE</th>\n",
       "    </tr>\n",
       "    <tr>\n",
       "      <th>DATE</th>\n",
       "      <th></th>\n",
       "    </tr>\n",
       "  </thead>\n",
       "  <tbody>\n",
       "    <tr>\n",
       "      <th>1948-01-01</th>\n",
       "      <td>3.4</td>\n",
       "    </tr>\n",
       "    <tr>\n",
       "      <th>1948-02-01</th>\n",
       "      <td>3.8</td>\n",
       "    </tr>\n",
       "    <tr>\n",
       "      <th>1948-03-01</th>\n",
       "      <td>4.0</td>\n",
       "    </tr>\n",
       "    <tr>\n",
       "      <th>1948-04-01</th>\n",
       "      <td>3.9</td>\n",
       "    </tr>\n",
       "    <tr>\n",
       "      <th>1948-05-01</th>\n",
       "      <td>3.5</td>\n",
       "    </tr>\n",
       "  </tbody>\n",
       "</table>\n",
       "</div>"
      ],
      "text/plain": [
       "            VALUE\n",
       "DATE             \n",
       "1948-01-01    3.4\n",
       "1948-02-01    3.8\n",
       "1948-03-01    4.0\n",
       "1948-04-01    3.9\n",
       "1948-05-01    3.5"
      ]
     },
     "execution_count": 94,
     "metadata": {},
     "output_type": "execute_result"
    }
   ],
   "source": [
    "unrate.head() "
   ]
  },
  {
   "cell_type": "markdown",
   "id": "0a68ec36",
   "metadata": {},
   "source": [
    "## Período de remuestreo y desfases de frecuencia\n",
    "<br>\n",
    "\n",
    "<li> Resample crea una nueva fecha para el desfase de frecuencia </li>\n",
    "<li> Varias alternativas al final del mes calendario </li>\n",
    "\n",
    "<ul> Fin de mes calendario: \"M\" </ul>\n",
    "<ul> Inicio de mes calendario: \"MS\" </ul>\n",
    "<ul> Fin de mes laboral: \"BM\" </ul>\n",
    "<ul> Inicio de mes laboral: \"BMS\" </ul>"
   ]
  },
  {
   "cell_type": "code",
   "execution_count": 95,
   "id": "202a8de6",
   "metadata": {},
   "outputs": [
    {
     "data": {
      "text/html": [
       "<div>\n",
       "<style scoped>\n",
       "    .dataframe tbody tr th:only-of-type {\n",
       "        vertical-align: middle;\n",
       "    }\n",
       "\n",
       "    .dataframe tbody tr th {\n",
       "        vertical-align: top;\n",
       "    }\n",
       "\n",
       "    .dataframe thead th {\n",
       "        text-align: right;\n",
       "    }\n",
       "</style>\n",
       "<table border=\"1\" class=\"dataframe\">\n",
       "  <thead>\n",
       "    <tr style=\"text-align: right;\">\n",
       "      <th></th>\n",
       "      <th>VALUE</th>\n",
       "    </tr>\n",
       "    <tr>\n",
       "      <th>DATE</th>\n",
       "      <th></th>\n",
       "    </tr>\n",
       "  </thead>\n",
       "  <tbody>\n",
       "    <tr>\n",
       "      <th>1948-01-01</th>\n",
       "      <td>3.4</td>\n",
       "    </tr>\n",
       "    <tr>\n",
       "      <th>1948-01-02</th>\n",
       "      <td>NaN</td>\n",
       "    </tr>\n",
       "    <tr>\n",
       "      <th>1948-01-03</th>\n",
       "      <td>NaN</td>\n",
       "    </tr>\n",
       "    <tr>\n",
       "      <th>1948-01-04</th>\n",
       "      <td>NaN</td>\n",
       "    </tr>\n",
       "    <tr>\n",
       "      <th>1948-01-05</th>\n",
       "      <td>NaN</td>\n",
       "    </tr>\n",
       "    <tr>\n",
       "      <th>...</th>\n",
       "      <td>...</td>\n",
       "    </tr>\n",
       "    <tr>\n",
       "      <th>2012-09-27</th>\n",
       "      <td>NaN</td>\n",
       "    </tr>\n",
       "    <tr>\n",
       "      <th>2012-09-28</th>\n",
       "      <td>NaN</td>\n",
       "    </tr>\n",
       "    <tr>\n",
       "      <th>2012-09-29</th>\n",
       "      <td>NaN</td>\n",
       "    </tr>\n",
       "    <tr>\n",
       "      <th>2012-09-30</th>\n",
       "      <td>NaN</td>\n",
       "    </tr>\n",
       "    <tr>\n",
       "      <th>2012-10-01</th>\n",
       "      <td>7.9</td>\n",
       "    </tr>\n",
       "  </tbody>\n",
       "</table>\n",
       "<p>23651 rows × 1 columns</p>\n",
       "</div>"
      ],
      "text/plain": [
       "            VALUE\n",
       "DATE             \n",
       "1948-01-01    3.4\n",
       "1948-01-02    NaN\n",
       "1948-01-03    NaN\n",
       "1948-01-04    NaN\n",
       "1948-01-05    NaN\n",
       "...           ...\n",
       "2012-09-27    NaN\n",
       "2012-09-28    NaN\n",
       "2012-09-29    NaN\n",
       "2012-09-30    NaN\n",
       "2012-10-01    7.9\n",
       "\n",
       "[23651 rows x 1 columns]"
      ]
     },
     "execution_count": 95,
     "metadata": {},
     "output_type": "execute_result"
    }
   ],
   "source": [
    "unrate.asfreq(\"D\")"
   ]
  },
  {
   "cell_type": "code",
   "execution_count": 96,
   "id": "bf49cecb",
   "metadata": {},
   "outputs": [
    {
     "data": {
      "text/plain": [
       "True"
      ]
     },
     "execution_count": 96,
     "metadata": {},
     "output_type": "execute_result"
    }
   ],
   "source": [
    "unrate.asfreq(\"MS\").equals(unrate.resample(\"MS\").asfreq())"
   ]
  },
  {
   "cell_type": "markdown",
   "id": "26c938cd",
   "metadata": {},
   "source": [
    "Podemos establecer los datos en el final del mes y luego usar el relleno hacia adelante para llenar los datos y remuestrear en consecuencia."
   ]
  },
  {
   "cell_type": "code",
   "execution_count": 97,
   "id": "42460683",
   "metadata": {},
   "outputs": [],
   "source": [
    "unrate_ffill=unrate.resample(\"D\").ffill().add_suffix(\"_ffill\")"
   ]
  },
  {
   "cell_type": "code",
   "execution_count": 98,
   "id": "08d72baa",
   "metadata": {},
   "outputs": [
    {
     "data": {
      "text/html": [
       "<div>\n",
       "<style scoped>\n",
       "    .dataframe tbody tr th:only-of-type {\n",
       "        vertical-align: middle;\n",
       "    }\n",
       "\n",
       "    .dataframe tbody tr th {\n",
       "        vertical-align: top;\n",
       "    }\n",
       "\n",
       "    .dataframe thead th {\n",
       "        text-align: right;\n",
       "    }\n",
       "</style>\n",
       "<table border=\"1\" class=\"dataframe\">\n",
       "  <thead>\n",
       "    <tr style=\"text-align: right;\">\n",
       "      <th></th>\n",
       "      <th>VALUE_ffill</th>\n",
       "    </tr>\n",
       "    <tr>\n",
       "      <th>DATE</th>\n",
       "      <th></th>\n",
       "    </tr>\n",
       "  </thead>\n",
       "  <tbody>\n",
       "    <tr>\n",
       "      <th>1948-01-01</th>\n",
       "      <td>3.4</td>\n",
       "    </tr>\n",
       "    <tr>\n",
       "      <th>1948-01-02</th>\n",
       "      <td>3.4</td>\n",
       "    </tr>\n",
       "    <tr>\n",
       "      <th>1948-01-03</th>\n",
       "      <td>3.4</td>\n",
       "    </tr>\n",
       "    <tr>\n",
       "      <th>1948-01-04</th>\n",
       "      <td>3.4</td>\n",
       "    </tr>\n",
       "    <tr>\n",
       "      <th>1948-01-05</th>\n",
       "      <td>3.4</td>\n",
       "    </tr>\n",
       "    <tr>\n",
       "      <th>...</th>\n",
       "      <td>...</td>\n",
       "    </tr>\n",
       "    <tr>\n",
       "      <th>2012-09-27</th>\n",
       "      <td>7.8</td>\n",
       "    </tr>\n",
       "    <tr>\n",
       "      <th>2012-09-28</th>\n",
       "      <td>7.8</td>\n",
       "    </tr>\n",
       "    <tr>\n",
       "      <th>2012-09-29</th>\n",
       "      <td>7.8</td>\n",
       "    </tr>\n",
       "    <tr>\n",
       "      <th>2012-09-30</th>\n",
       "      <td>7.8</td>\n",
       "    </tr>\n",
       "    <tr>\n",
       "      <th>2012-10-01</th>\n",
       "      <td>7.9</td>\n",
       "    </tr>\n",
       "  </tbody>\n",
       "</table>\n",
       "<p>23651 rows × 1 columns</p>\n",
       "</div>"
      ],
      "text/plain": [
       "            VALUE_ffill\n",
       "DATE                   \n",
       "1948-01-01          3.4\n",
       "1948-01-02          3.4\n",
       "1948-01-03          3.4\n",
       "1948-01-04          3.4\n",
       "1948-01-05          3.4\n",
       "...                 ...\n",
       "2012-09-27          7.8\n",
       "2012-09-28          7.8\n",
       "2012-09-29          7.8\n",
       "2012-09-30          7.8\n",
       "2012-10-01          7.9\n",
       "\n",
       "[23651 rows x 1 columns]"
      ]
     },
     "execution_count": 98,
     "metadata": {},
     "output_type": "execute_result"
    }
   ],
   "source": [
    "unrate_ffill"
   ]
  },
  {
   "cell_type": "markdown",
   "id": "79fe0d3d",
   "metadata": {},
   "source": [
    "## Submuestreo y agregación\n",
    "<br>\n",
    "\n",
    "A veces, puede ser necesario submuestrear nuestros datos; de hora a día y de día a mes.\n",
    "\n",
    "En este caso, necesitamos pensar cómo representar los valores existentes en la nueva fecha; ¿media, mediana o algo más?\n",
    "\n",
    "Volviendo a los datos de Google, la frecuencia está establecida como \"Diaria\". Intentaremos crear datos mensuales mediante el remuestreo de los datos diarios"
   ]
  },
  {
   "cell_type": "code",
   "execution_count": 99,
   "id": "8401d207",
   "metadata": {},
   "outputs": [
    {
     "data": {
      "text/html": [
       "<div>\n",
       "<style scoped>\n",
       "    .dataframe tbody tr th:only-of-type {\n",
       "        vertical-align: middle;\n",
       "    }\n",
       "\n",
       "    .dataframe tbody tr th {\n",
       "        vertical-align: top;\n",
       "    }\n",
       "\n",
       "    .dataframe thead th {\n",
       "        text-align: right;\n",
       "    }\n",
       "</style>\n",
       "<table border=\"1\" class=\"dataframe\">\n",
       "  <thead>\n",
       "    <tr style=\"text-align: right;\">\n",
       "      <th></th>\n",
       "      <th>Open</th>\n",
       "      <th>High</th>\n",
       "      <th>Low</th>\n",
       "      <th>Close</th>\n",
       "      <th>Volume</th>\n",
       "      <th>shifted</th>\n",
       "      <th>lagged</th>\n",
       "      <th>change</th>\n",
       "      <th>diff</th>\n",
       "      <th>pct_change</th>\n",
       "    </tr>\n",
       "    <tr>\n",
       "      <th>Date</th>\n",
       "      <th></th>\n",
       "      <th></th>\n",
       "      <th></th>\n",
       "      <th></th>\n",
       "      <th></th>\n",
       "      <th></th>\n",
       "      <th></th>\n",
       "      <th></th>\n",
       "      <th></th>\n",
       "      <th></th>\n",
       "    </tr>\n",
       "  </thead>\n",
       "  <tbody>\n",
       "    <tr>\n",
       "      <th>2016-12-31</th>\n",
       "      <td>790.726671</td>\n",
       "      <td>793.316223</td>\n",
       "      <td>784.743001</td>\n",
       "      <td>788.617771</td>\n",
       "      <td>1.041822e+06</td>\n",
       "      <td>790.717491</td>\n",
       "      <td>787.722216</td>\n",
       "      <td>0.996447</td>\n",
       "      <td>-2.797501</td>\n",
       "      <td>-0.355349</td>\n",
       "    </tr>\n",
       "    <tr>\n",
       "      <th>2017-01-31</th>\n",
       "      <td>807.525998</td>\n",
       "      <td>811.926257</td>\n",
       "      <td>801.949747</td>\n",
       "      <td>807.904752</td>\n",
       "      <td>1.635595e+06</td>\n",
       "      <td>806.656253</td>\n",
       "      <td>808.382501</td>\n",
       "      <td>1.001645</td>\n",
       "      <td>1.248499</td>\n",
       "      <td>0.164506</td>\n",
       "    </tr>\n",
       "    <tr>\n",
       "      <th>2017-02-28</th>\n",
       "      <td>815.316310</td>\n",
       "      <td>819.286264</td>\n",
       "      <td>812.471843</td>\n",
       "      <td>816.916581</td>\n",
       "      <td>1.345647e+06</td>\n",
       "      <td>815.526052</td>\n",
       "      <td>818.997896</td>\n",
       "      <td>1.001725</td>\n",
       "      <td>1.390529</td>\n",
       "      <td>0.172496</td>\n",
       "    </tr>\n",
       "    <tr>\n",
       "      <th>2017-03-31</th>\n",
       "      <td>838.174622</td>\n",
       "      <td>841.406151</td>\n",
       "      <td>835.010080</td>\n",
       "      <td>839.323078</td>\n",
       "      <td>1.183215e+06</td>\n",
       "      <td>837.099234</td>\n",
       "      <td>839.663335</td>\n",
       "      <td>1.002669</td>\n",
       "      <td>2.223844</td>\n",
       "      <td>0.266912</td>\n",
       "    </tr>\n",
       "  </tbody>\n",
       "</table>\n",
       "</div>"
      ],
      "text/plain": [
       "                  Open        High         Low       Close        Volume  \\\n",
       "Date                                                                       \n",
       "2016-12-31  790.726671  793.316223  784.743001  788.617771  1.041822e+06   \n",
       "2017-01-31  807.525998  811.926257  801.949747  807.904752  1.635595e+06   \n",
       "2017-02-28  815.316310  819.286264  812.471843  816.916581  1.345647e+06   \n",
       "2017-03-31  838.174622  841.406151  835.010080  839.323078  1.183215e+06   \n",
       "\n",
       "               shifted      lagged    change      diff  pct_change  \n",
       "Date                                                                \n",
       "2016-12-31  790.717491  787.722216  0.996447 -2.797501   -0.355349  \n",
       "2017-01-31  806.656253  808.382501  1.001645  1.248499    0.164506  \n",
       "2017-02-28  815.526052  818.997896  1.001725  1.390529    0.172496  \n",
       "2017-03-31  837.099234  839.663335  1.002669  2.223844    0.266912  "
      ]
     },
     "execution_count": 99,
     "metadata": {},
     "output_type": "execute_result"
    }
   ],
   "source": [
    "google.resample(\"M\").mean().head() # esto asigna el promedio mensual al final del mes calendario\n",
    "# podemos hacer algo similar para los valores medianos"
   ]
  },
  {
   "cell_type": "code",
   "execution_count": 100,
   "id": "fc5178b0",
   "metadata": {},
   "outputs": [
    {
     "data": {
      "text/html": [
       "<div>\n",
       "<style scoped>\n",
       "    .dataframe tbody tr th:only-of-type {\n",
       "        vertical-align: middle;\n",
       "    }\n",
       "\n",
       "    .dataframe tbody tr th {\n",
       "        vertical-align: top;\n",
       "    }\n",
       "\n",
       "    .dataframe thead tr th {\n",
       "        text-align: left;\n",
       "    }\n",
       "\n",
       "    .dataframe thead tr:last-of-type th {\n",
       "        text-align: right;\n",
       "    }\n",
       "</style>\n",
       "<table border=\"1\" class=\"dataframe\">\n",
       "  <thead>\n",
       "    <tr>\n",
       "      <th></th>\n",
       "      <th colspan=\"2\" halign=\"left\">Open</th>\n",
       "      <th colspan=\"2\" halign=\"left\">High</th>\n",
       "      <th colspan=\"2\" halign=\"left\">Low</th>\n",
       "      <th colspan=\"2\" halign=\"left\">Close</th>\n",
       "      <th colspan=\"2\" halign=\"left\">Volume</th>\n",
       "      <th colspan=\"2\" halign=\"left\">shifted</th>\n",
       "      <th colspan=\"2\" halign=\"left\">lagged</th>\n",
       "      <th colspan=\"2\" halign=\"left\">change</th>\n",
       "      <th colspan=\"2\" halign=\"left\">diff</th>\n",
       "      <th colspan=\"2\" halign=\"left\">pct_change</th>\n",
       "    </tr>\n",
       "    <tr>\n",
       "      <th></th>\n",
       "      <th>mean</th>\n",
       "      <th>std</th>\n",
       "      <th>mean</th>\n",
       "      <th>std</th>\n",
       "      <th>mean</th>\n",
       "      <th>std</th>\n",
       "      <th>mean</th>\n",
       "      <th>std</th>\n",
       "      <th>mean</th>\n",
       "      <th>std</th>\n",
       "      <th>mean</th>\n",
       "      <th>std</th>\n",
       "      <th>mean</th>\n",
       "      <th>std</th>\n",
       "      <th>mean</th>\n",
       "      <th>std</th>\n",
       "      <th>mean</th>\n",
       "      <th>std</th>\n",
       "      <th>mean</th>\n",
       "      <th>std</th>\n",
       "    </tr>\n",
       "    <tr>\n",
       "      <th>Date</th>\n",
       "      <th></th>\n",
       "      <th></th>\n",
       "      <th></th>\n",
       "      <th></th>\n",
       "      <th></th>\n",
       "      <th></th>\n",
       "      <th></th>\n",
       "      <th></th>\n",
       "      <th></th>\n",
       "      <th></th>\n",
       "      <th></th>\n",
       "      <th></th>\n",
       "      <th></th>\n",
       "      <th></th>\n",
       "      <th></th>\n",
       "      <th></th>\n",
       "      <th></th>\n",
       "      <th></th>\n",
       "      <th></th>\n",
       "      <th></th>\n",
       "    </tr>\n",
       "  </thead>\n",
       "  <tbody>\n",
       "    <tr>\n",
       "      <th>2016-12-31</th>\n",
       "      <td>790.726671</td>\n",
       "      <td>4.907683</td>\n",
       "      <td>793.316223</td>\n",
       "      <td>5.545115</td>\n",
       "      <td>784.743001</td>\n",
       "      <td>6.632983</td>\n",
       "      <td>788.617771</td>\n",
       "      <td>7.692953</td>\n",
       "      <td>1.041822e+06</td>\n",
       "      <td>341630.278144</td>\n",
       "      <td>790.717491</td>\n",
       "      <td>4.721028</td>\n",
       "      <td>787.722216</td>\n",
       "      <td>7.426405</td>\n",
       "      <td>0.996447</td>\n",
       "      <td>0.005462</td>\n",
       "      <td>-2.797501</td>\n",
       "      <td>4.290851</td>\n",
       "      <td>-0.355349</td>\n",
       "      <td>0.546196</td>\n",
       "    </tr>\n",
       "    <tr>\n",
       "      <th>2017-01-31</th>\n",
       "      <td>807.525998</td>\n",
       "      <td>15.125429</td>\n",
       "      <td>811.926257</td>\n",
       "      <td>14.381323</td>\n",
       "      <td>801.949747</td>\n",
       "      <td>13.278518</td>\n",
       "      <td>807.904752</td>\n",
       "      <td>13.209970</td>\n",
       "      <td>1.635595e+06</td>\n",
       "      <td>651377.535022</td>\n",
       "      <td>806.656253</td>\n",
       "      <td>15.326205</td>\n",
       "      <td>808.382501</td>\n",
       "      <td>12.537045</td>\n",
       "      <td>1.001645</td>\n",
       "      <td>0.010436</td>\n",
       "      <td>1.248499</td>\n",
       "      <td>8.437004</td>\n",
       "      <td>0.164506</td>\n",
       "      <td>1.043565</td>\n",
       "    </tr>\n",
       "    <tr>\n",
       "      <th>2017-02-28</th>\n",
       "      <td>815.316310</td>\n",
       "      <td>11.496588</td>\n",
       "      <td>819.286264</td>\n",
       "      <td>11.356235</td>\n",
       "      <td>812.471843</td>\n",
       "      <td>12.297101</td>\n",
       "      <td>816.916581</td>\n",
       "      <td>12.136172</td>\n",
       "      <td>1.345647e+06</td>\n",
       "      <td>331132.023634</td>\n",
       "      <td>815.526052</td>\n",
       "      <td>12.866613</td>\n",
       "      <td>818.997896</td>\n",
       "      <td>11.676774</td>\n",
       "      <td>1.001725</td>\n",
       "      <td>0.003742</td>\n",
       "      <td>1.390529</td>\n",
       "      <td>3.059915</td>\n",
       "      <td>0.172496</td>\n",
       "      <td>0.374157</td>\n",
       "    </tr>\n",
       "    <tr>\n",
       "      <th>2017-03-31</th>\n",
       "      <td>838.174622</td>\n",
       "      <td>8.703806</td>\n",
       "      <td>841.406151</td>\n",
       "      <td>8.120600</td>\n",
       "      <td>835.010080</td>\n",
       "      <td>8.374326</td>\n",
       "      <td>839.323078</td>\n",
       "      <td>8.217668</td>\n",
       "      <td>1.183215e+06</td>\n",
       "      <td>304841.493912</td>\n",
       "      <td>837.099234</td>\n",
       "      <td>8.376251</td>\n",
       "      <td>839.663335</td>\n",
       "      <td>8.486888</td>\n",
       "      <td>1.002669</td>\n",
       "      <td>0.004785</td>\n",
       "      <td>2.223844</td>\n",
       "      <td>3.958547</td>\n",
       "      <td>0.266912</td>\n",
       "      <td>0.478507</td>\n",
       "    </tr>\n",
       "  </tbody>\n",
       "</table>\n",
       "</div>"
      ],
      "text/plain": [
       "                  Open                   High                    Low  \\\n",
       "                  mean        std        mean        std        mean   \n",
       "Date                                                                   \n",
       "2016-12-31  790.726671   4.907683  793.316223   5.545115  784.743001   \n",
       "2017-01-31  807.525998  15.125429  811.926257  14.381323  801.949747   \n",
       "2017-02-28  815.316310  11.496588  819.286264  11.356235  812.471843   \n",
       "2017-03-31  838.174622   8.703806  841.406151   8.120600  835.010080   \n",
       "\n",
       "                            Close                   Volume                 \\\n",
       "                  std        mean        std          mean            std   \n",
       "Date                                                                        \n",
       "2016-12-31   6.632983  788.617771   7.692953  1.041822e+06  341630.278144   \n",
       "2017-01-31  13.278518  807.904752  13.209970  1.635595e+06  651377.535022   \n",
       "2017-02-28  12.297101  816.916581  12.136172  1.345647e+06  331132.023634   \n",
       "2017-03-31   8.374326  839.323078   8.217668  1.183215e+06  304841.493912   \n",
       "\n",
       "               shifted                 lagged               change            \\\n",
       "                  mean        std        mean        std      mean       std   \n",
       "Date                                                                           \n",
       "2016-12-31  790.717491   4.721028  787.722216   7.426405  0.996447  0.005462   \n",
       "2017-01-31  806.656253  15.326205  808.382501  12.537045  1.001645  0.010436   \n",
       "2017-02-28  815.526052  12.866613  818.997896  11.676774  1.001725  0.003742   \n",
       "2017-03-31  837.099234   8.376251  839.663335   8.486888  1.002669  0.004785   \n",
       "\n",
       "                diff           pct_change            \n",
       "                mean       std       mean       std  \n",
       "Date                                                 \n",
       "2016-12-31 -2.797501  4.290851  -0.355349  0.546196  \n",
       "2017-01-31  1.248499  8.437004   0.164506  1.043565  \n",
       "2017-02-28  1.390529  3.059915   0.172496  0.374157  \n",
       "2017-03-31  2.223844  3.958547   0.266912  0.478507  "
      ]
     },
     "execution_count": 100,
     "metadata": {},
     "output_type": "execute_result"
    }
   ],
   "source": [
    "google.resample(\"M\").agg(['mean','std']).head()"
   ]
  },
  {
   "cell_type": "code",
   "execution_count": 101,
   "id": "4a57f6e1",
   "metadata": {},
   "outputs": [
    {
     "data": {
      "image/png": "[encoded data removed]",
      "text/plain": [
       "<Figure size 640x480 with 1 Axes>"
      ]
     },
     "metadata": {},
     "output_type": "display_data"
    }
   ],
   "source": [
    "ax=google[\"Close\"].plot()\n",
    "monthly=google.resample(\"M\").mean()\n"
   ]
  },
  {
   "cell_type": "markdown",
   "id": "12e12772",
   "metadata": {},
   "source": [
    "## Funciones de ventana deslizante\n",
    "\n",
    "La función de ventana en Python es bastante útil ya que ayuda a identificar subperíodos de nuestras series temporales y nos ayuda a crear series temporales a partir de la serie temporal principal.\n",
    "\n",
    "Nos ayuda a calcular métricas para subperíodos dentro de la ventana. También nos permite crear una nueva serie temporal que contiene puntos de datos que representan un resumen de varios puntos de datos de la serie temporal original.\n",
    "\n",
    "Dos tipos principales de ventanas:\n",
    "\n",
    "<li> Deslizante: de tamaño igual, deslizante </li>\n",
    "<li> Expansiva: contiene todos los valores anteriores </li>\n",
    "\n",
    "## Calculando un promedio móvil\n",
    "\n",
    "Volvamos a los datos de Google"
   ]
  },
  {
   "cell_type": "code",
   "execution_count": 102,
   "id": "5ee4441d",
   "metadata": {},
   "outputs": [],
   "source": [
    "url = \"https://raw.githubusercontent.com/Fernigithub/series_temporales_101/main/notebooks/csv/goog.csv\"\n",
    "data=pd.read_csv(url, parse_dates=[\"Date\"], index_col=\"Date\")"
   ]
  },
  {
   "cell_type": "code",
   "execution_count": 103,
   "id": "34fbb99c",
   "metadata": {},
   "outputs": [
    {
     "data": {
      "text/html": [
       "<div>\n",
       "<style scoped>\n",
       "    .dataframe tbody tr th:only-of-type {\n",
       "        vertical-align: middle;\n",
       "    }\n",
       "\n",
       "    .dataframe tbody tr th {\n",
       "        vertical-align: top;\n",
       "    }\n",
       "\n",
       "    .dataframe thead th {\n",
       "        text-align: right;\n",
       "    }\n",
       "</style>\n",
       "<table border=\"1\" class=\"dataframe\">\n",
       "  <thead>\n",
       "    <tr style=\"text-align: right;\">\n",
       "      <th></th>\n",
       "      <th>Open</th>\n",
       "      <th>High</th>\n",
       "      <th>Low</th>\n",
       "      <th>Close</th>\n",
       "      <th>Volume</th>\n",
       "    </tr>\n",
       "    <tr>\n",
       "      <th>Date</th>\n",
       "      <th></th>\n",
       "      <th></th>\n",
       "      <th></th>\n",
       "      <th></th>\n",
       "      <th></th>\n",
       "    </tr>\n",
       "  </thead>\n",
       "  <tbody>\n",
       "    <tr>\n",
       "      <th>2016-12-19</th>\n",
       "      <td>NaN</td>\n",
       "      <td>NaN</td>\n",
       "      <td>NaN</td>\n",
       "      <td>NaN</td>\n",
       "      <td>NaN</td>\n",
       "    </tr>\n",
       "    <tr>\n",
       "      <th>2016-12-20</th>\n",
       "      <td>NaN</td>\n",
       "      <td>NaN</td>\n",
       "      <td>NaN</td>\n",
       "      <td>NaN</td>\n",
       "      <td>NaN</td>\n",
       "    </tr>\n",
       "    <tr>\n",
       "      <th>2016-12-21</th>\n",
       "      <td>NaN</td>\n",
       "      <td>NaN</td>\n",
       "      <td>NaN</td>\n",
       "      <td>NaN</td>\n",
       "      <td>NaN</td>\n",
       "    </tr>\n",
       "    <tr>\n",
       "      <th>2016-12-22</th>\n",
       "      <td>NaN</td>\n",
       "      <td>NaN</td>\n",
       "      <td>NaN</td>\n",
       "      <td>NaN</td>\n",
       "      <td>NaN</td>\n",
       "    </tr>\n",
       "    <tr>\n",
       "      <th>2016-12-23</th>\n",
       "      <td>NaN</td>\n",
       "      <td>NaN</td>\n",
       "      <td>NaN</td>\n",
       "      <td>NaN</td>\n",
       "      <td>NaN</td>\n",
       "    </tr>\n",
       "    <tr>\n",
       "      <th>...</th>\n",
       "      <td>...</td>\n",
       "      <td>...</td>\n",
       "      <td>...</td>\n",
       "      <td>...</td>\n",
       "      <td>...</td>\n",
       "    </tr>\n",
       "    <tr>\n",
       "      <th>2017-03-13</th>\n",
       "      <td>820.230996</td>\n",
       "      <td>824.056301</td>\n",
       "      <td>816.920203</td>\n",
       "      <td>821.266833</td>\n",
       "      <td>1.382643e+06</td>\n",
       "    </tr>\n",
       "    <tr>\n",
       "      <th>2017-03-14</th>\n",
       "      <td>821.196997</td>\n",
       "      <td>825.102966</td>\n",
       "      <td>818.286869</td>\n",
       "      <td>822.710166</td>\n",
       "      <td>1.301010e+06</td>\n",
       "    </tr>\n",
       "    <tr>\n",
       "      <th>2017-03-15</th>\n",
       "      <td>822.887998</td>\n",
       "      <td>826.682300</td>\n",
       "      <td>819.961869</td>\n",
       "      <td>824.390501</td>\n",
       "      <td>1.275547e+06</td>\n",
       "    </tr>\n",
       "    <tr>\n",
       "      <th>2017-03-16</th>\n",
       "      <td>824.533000</td>\n",
       "      <td>828.337632</td>\n",
       "      <td>821.793203</td>\n",
       "      <td>826.160002</td>\n",
       "      <td>1.240450e+06</td>\n",
       "    </tr>\n",
       "    <tr>\n",
       "      <th>2017-03-17</th>\n",
       "      <td>826.460000</td>\n",
       "      <td>830.027633</td>\n",
       "      <td>823.630202</td>\n",
       "      <td>827.946334</td>\n",
       "      <td>1.246667e+06</td>\n",
       "    </tr>\n",
       "  </tbody>\n",
       "</table>\n",
       "<p>61 rows × 5 columns</p>\n",
       "</div>"
      ],
      "text/plain": [
       "                  Open        High         Low       Close        Volume\n",
       "Date                                                                    \n",
       "2016-12-19         NaN         NaN         NaN         NaN           NaN\n",
       "2016-12-20         NaN         NaN         NaN         NaN           NaN\n",
       "2016-12-21         NaN         NaN         NaN         NaN           NaN\n",
       "2016-12-22         NaN         NaN         NaN         NaN           NaN\n",
       "2016-12-23         NaN         NaN         NaN         NaN           NaN\n",
       "...                ...         ...         ...         ...           ...\n",
       "2017-03-13  820.230996  824.056301  816.920203  821.266833  1.382643e+06\n",
       "2017-03-14  821.196997  825.102966  818.286869  822.710166  1.301010e+06\n",
       "2017-03-15  822.887998  826.682300  819.961869  824.390501  1.275547e+06\n",
       "2017-03-16  824.533000  828.337632  821.793203  826.160002  1.240450e+06\n",
       "2017-03-17  826.460000  830.027633  823.630202  827.946334  1.246667e+06\n",
       "\n",
       "[61 rows x 5 columns]"
      ]
     },
     "execution_count": 103,
     "metadata": {},
     "output_type": "execute_result"
    }
   ],
   "source": [
    "data.rolling(window=30).mean()\n",
    "\n",
    "#window=30\n",
    "#min_periods: choose value<30 to get results for first days"
   ]
  },
  {
   "cell_type": "code",
   "execution_count": 104,
   "id": "167d83ed",
   "metadata": {},
   "outputs": [
    {
     "data": {
      "text/plain": [
       "<Axes: xlabel='Date'>"
      ]
     },
     "execution_count": 104,
     "metadata": {},
     "output_type": "execute_result"
    },
    {
     "data": {
      "image/png": "[encoded data removed]",
      "text/plain": [
       "<Figure size 640x480 with 1 Axes>"
      ]
     },
     "metadata": {},
     "output_type": "display_data"
    }
   ],
   "source": [
    "r90=data.rolling(window=\"90D\").mean()\n",
    "google.join(r90.add_suffix(\"_mean_90\")).plot() "
   ]
  },
  {
   "cell_type": "markdown",
   "id": "fa28959a",
   "metadata": {},
   "source": [
    "Puedes observar que el gráfico que contiene datos de 90 días es mucho más suave porque cada punto de datos es el promedio de los 90 días anteriores.\n",
    "\n",
    "También, puedes ver cuándo las tendencias a corto plazo se desvían de las tendencias a largo plazo. Por ejemplo, podemos señalar cuándo el promedio de 90 días cae por debajo del promedio de 360 días.\n",
    "\n",
    "## Múltiples métricas móviles"
   ]
  },
  {
   "cell_type": "code",
   "execution_count": 105,
   "id": "911b750c",
   "metadata": {},
   "outputs": [
    {
     "data": {
      "text/plain": [
       "array([<Axes: xlabel='Date'>, <Axes: xlabel='Date'>], dtype=object)"
      ]
     },
     "execution_count": 105,
     "metadata": {},
     "output_type": "execute_result"
    },
    {
     "data": {
      "image/png": "[encoded data removed]",
      "text/plain": [
       "<Figure size 640x480 with 2 Axes>"
      ]
     },
     "metadata": {},
     "output_type": "display_data"
    }
   ],
   "source": [
    "r=data.Close.rolling(\"90D\").agg([\"mean\",\"std\"])\n",
    "r.plot(subplots=True)"
   ]
  },
  {
   "cell_type": "code",
   "execution_count": 106,
   "id": "e5d5bd41",
   "metadata": {},
   "outputs": [
    {
     "data": {
      "text/plain": [
       "<Axes: xlabel='Date'>"
      ]
     },
     "execution_count": 106,
     "metadata": {},
     "output_type": "execute_result"
    },
    {
     "data": {
      "image/png": "[encoded data removed]",
      "text/plain": [
       "<Figure size 640x480 with 1 Axes>"
      ]
     },
     "metadata": {},
     "output_type": "display_data"
    }
   ],
   "source": [
    "rolling=data.Close.rolling(\"360D\")\n",
    "q10=rolling.quantile(0.1).to_frame(\"q10\")\n",
    "median=rolling.median().to_frame(\"median\")\n",
    "q90=rolling.quantile(0.9).to_frame(\"q90\")\n",
    "pd.concat([q10,median,q90],axis=1).plot()"
   ]
  },
  {
   "cell_type": "markdown",
   "id": "b93b7b6f",
   "metadata": {},
   "source": [
    "## Relación entre series temporales: correlación\n",
    "\n",
    "Hasta ahora, nos hemos centrado en series temporales individuales, ahora comenzaremos a enfocarnos en las relaciones entre series temporales.\n",
    "\n",
    "La correlación es básicamente una medida de las relaciones lineales. Es realmente importante para la predicción y la gestión del riesgo.\n",
    "\n",
    "Pandas y seaborn tienen herramientas para calcular y visualizar.\n",
    "\n",
    "El coeficiente de correlación mide cuán similar es el movimiento por pares de dos variables alrededor de sus promedios. El movimiento por pares se llama covarianza.\n",
    "El coeficiente de correlación divide esta medida por el producto de las desviaciones estándar de cada variable. Varía entre -1 y +1. Cuanto más se acerca el valor a +1 o -1, más se asemeja a una línea recta.\n",
    "\n",
    "Un signo positivo significa que cuando una entidad está por encima de la media, entonces la otra probablemente también esté por encima de su media. Sin embargo, hay numerosos tipos de relaciones no lineales que el coeficiente de correlación no captura."
   ]
  },
  {
   "cell_type": "code",
   "execution_count": 136,
   "id": "699fe603",
   "metadata": {},
   "outputs": [
    {
     "data": {
      "text/html": [
       "<div>\n",
       "<style scoped>\n",
       "    .dataframe tbody tr th:only-of-type {\n",
       "        vertical-align: middle;\n",
       "    }\n",
       "\n",
       "    .dataframe tbody tr th {\n",
       "        vertical-align: top;\n",
       "    }\n",
       "\n",
       "    .dataframe thead th {\n",
       "        text-align: right;\n",
       "    }\n",
       "</style>\n",
       "<table border=\"1\" class=\"dataframe\">\n",
       "  <thead>\n",
       "    <tr style=\"text-align: right;\">\n",
       "      <th></th>\n",
       "      <th>Open_goog</th>\n",
       "      <th>Open_intel</th>\n",
       "    </tr>\n",
       "    <tr>\n",
       "      <th>Date</th>\n",
       "      <th></th>\n",
       "      <th></th>\n",
       "    </tr>\n",
       "  </thead>\n",
       "  <tbody>\n",
       "    <tr>\n",
       "      <th>06/24/2024</th>\n",
       "      <td>180.1600</td>\n",
       "      <td>31.140</td>\n",
       "    </tr>\n",
       "    <tr>\n",
       "      <th>06/21/2024</th>\n",
       "      <td>177.0000</td>\n",
       "      <td>30.850</td>\n",
       "    </tr>\n",
       "    <tr>\n",
       "      <th>06/20/2024</th>\n",
       "      <td>175.3700</td>\n",
       "      <td>30.555</td>\n",
       "    </tr>\n",
       "    <tr>\n",
       "      <th>06/18/2024</th>\n",
       "      <td>177.1400</td>\n",
       "      <td>30.990</td>\n",
       "    </tr>\n",
       "    <tr>\n",
       "      <th>06/17/2024</th>\n",
       "      <td>175.4600</td>\n",
       "      <td>30.340</td>\n",
       "    </tr>\n",
       "    <tr>\n",
       "      <th>...</th>\n",
       "      <td>...</td>\n",
       "      <td>...</td>\n",
       "    </tr>\n",
       "    <tr>\n",
       "      <th>07/01/2014</th>\n",
       "      <td>29.3825</td>\n",
       "      <td>30.990</td>\n",
       "    </tr>\n",
       "    <tr>\n",
       "      <th>06/30/2014</th>\n",
       "      <td>29.3380</td>\n",
       "      <td>30.870</td>\n",
       "    </tr>\n",
       "    <tr>\n",
       "      <th>06/27/2014</th>\n",
       "      <td>29.2725</td>\n",
       "      <td>30.870</td>\n",
       "    </tr>\n",
       "    <tr>\n",
       "      <th>06/26/2014</th>\n",
       "      <td>29.4650</td>\n",
       "      <td>30.810</td>\n",
       "    </tr>\n",
       "    <tr>\n",
       "      <th>06/25/2014</th>\n",
       "      <td>28.6775</td>\n",
       "      <td>30.480</td>\n",
       "    </tr>\n",
       "  </tbody>\n",
       "</table>\n",
       "<p>2516 rows × 2 columns</p>\n",
       "</div>"
      ],
      "text/plain": [
       "            Open_goog  Open_intel\n",
       "Date                             \n",
       "06/24/2024   180.1600      31.140\n",
       "06/21/2024   177.0000      30.850\n",
       "06/20/2024   175.3700      30.555\n",
       "06/18/2024   177.1400      30.990\n",
       "06/17/2024   175.4600      30.340\n",
       "...               ...         ...\n",
       "07/01/2014    29.3825      30.990\n",
       "06/30/2014    29.3380      30.870\n",
       "06/27/2014    29.2725      30.870\n",
       "06/26/2014    29.4650      30.810\n",
       "06/25/2014    28.6775      30.480\n",
       "\n",
       "[2516 rows x 2 columns]"
      ]
     },
     "execution_count": 136,
     "metadata": {},
     "output_type": "execute_result"
    }
   ],
   "source": [
    "bgold= pd.read_csv('csv/HistoricalData_BGoldcsv.csv').set_index('Date')\n",
    "goog = pd.read_csv('csv/HistoricalData_Google.csv').set_index('Date')\n",
    "intel = pd.read_csv('csv/HistoricalData_Intel.csv').set_index('Date')\n",
    "\n",
    "data = pd.merge(goog, intel, left_index=True, right_index=True, suffixes=('_goog', '_intel'))\n",
    "col = ['Open_goog', 'Open_intel']\n",
    "data = data[col]\n",
    "# remove $ sign and convert to float\n",
    "data = data.replace({'\\$': '', ',': ''}, regex=True).astype(float)\n",
    "data"
   ]
  },
  {
   "cell_type": "code",
   "execution_count": 137,
   "id": "52669646",
   "metadata": {},
   "outputs": [
    {
     "name": "stdout",
     "output_type": "stream",
     "text": [
      "<class 'pandas.core.frame.DataFrame'>\n",
      "Index: 2516 entries, 06/24/2024 to 06/25/2014\n",
      "Data columns (total 2 columns):\n",
      " #   Column      Non-Null Count  Dtype  \n",
      "---  ------      --------------  -----  \n",
      " 0   Open_goog   2516 non-null   float64\n",
      " 1   Open_intel  2516 non-null   float64\n",
      "dtypes: float64(2)\n",
      "memory usage: 123.5+ KB\n"
     ]
    }
   ],
   "source": [
    "data.dropna().info()"
   ]
  },
  {
   "cell_type": "code",
   "execution_count": 138,
   "id": "df90fdeb",
   "metadata": {},
   "outputs": [
    {
     "data": {
      "text/plain": [
       "<seaborn.axisgrid.JointGrid at 0x356dbbc10>"
      ]
     },
     "execution_count": 138,
     "metadata": {},
     "output_type": "execute_result"
    },
    {
     "data": {
      "image/png": "[encoded data removed]",
      "text/plain": [
       "<Figure size 600x600 with 3 Axes>"
      ]
     },
     "metadata": {},
     "output_type": "display_data"
    }
   ],
   "source": [
    "import seaborn as sns\n",
    "daily_returns=data.pct_change()\n",
    "sns.jointplot(x=\"Open_goog\", y=\"Open_intel\", data=daily_returns) #Jointplot helps to show the distribution of two variables together in one plot"
   ]
  },
  {
   "cell_type": "markdown",
   "id": "722c21da",
   "metadata": {},
   "source": [
    "We can notice from the graph that correlation is quite weak and the data is really quite scattered.\n",
    "\n",
    "let's find the correlation numerically"
   ]
  },
  {
   "cell_type": "code",
   "execution_count": 135,
   "id": "76444178",
   "metadata": {},
   "outputs": [
    {
     "data": {
      "text/html": [
       "<div>\n",
       "<style scoped>\n",
       "    .dataframe tbody tr th:only-of-type {\n",
       "        vertical-align: middle;\n",
       "    }\n",
       "\n",
       "    .dataframe tbody tr th {\n",
       "        vertical-align: top;\n",
       "    }\n",
       "\n",
       "    .dataframe thead th {\n",
       "        text-align: right;\n",
       "    }\n",
       "</style>\n",
       "<table border=\"1\" class=\"dataframe\">\n",
       "  <thead>\n",
       "    <tr style=\"text-align: right;\">\n",
       "      <th></th>\n",
       "      <th>Open_goog</th>\n",
       "      <th>Open_intel</th>\n",
       "    </tr>\n",
       "  </thead>\n",
       "  <tbody>\n",
       "    <tr>\n",
       "      <th>Open_goog</th>\n",
       "      <td>1.000000</td>\n",
       "      <td>0.085578</td>\n",
       "    </tr>\n",
       "    <tr>\n",
       "      <th>Open_intel</th>\n",
       "      <td>0.085578</td>\n",
       "      <td>1.000000</td>\n",
       "    </tr>\n",
       "  </tbody>\n",
       "</table>\n",
       "</div>"
      ],
      "text/plain": [
       "            Open_goog  Open_intel\n",
       "Open_goog    1.000000    0.085578\n",
       "Open_intel   0.085578    1.000000"
      ]
     },
     "execution_count": 135,
     "metadata": {},
     "output_type": "execute_result"
    }
   ],
   "source": [
    "correlations=daily_returns.corr()\n",
    "correlations"
   ]
  },
  {
   "cell_type": "markdown",
   "id": "1964a758",
   "metadata": {},
   "source": [
    "The numerical value confirms what we saw visually. Both the indices have a very weak correlation with a negative sign. "
   ]
  },
  {
   "cell_type": "code",
   "execution_count": 128,
   "id": "3103209a",
   "metadata": {},
   "outputs": [
    {
     "data": {
      "text/plain": [
       "<Axes: >"
      ]
     },
     "execution_count": 128,
     "metadata": {},
     "output_type": "execute_result"
    },
    {
     "data": {
      "image/png": "[encoded data removed]",
      "text/plain": [
       "<Figure size 640x480 with 2 Axes>"
      ]
     },
     "metadata": {},
     "output_type": "display_data"
    }
   ],
   "source": [
    "sns.heatmap(correlations, annot=True)"
   ]
  },
  {
   "cell_type": "code",
   "execution_count": null,
   "id": "3dfc46de",
   "metadata": {},
   "outputs": [],
   "source": []
  }
 ],
 "metadata": {
  "kernelspec": {
   "display_name": "Python 3",
   "language": "python",
   "name": "python3"
  },
  "language_info": {
   "codemirror_mode": {
    "name": "ipython",
    "version": 3
   },
   "file_extension": ".py",
   "mimetype": "text/x-python",
   "name": "python",
   "nbconvert_exporter": "python",
   "pygments_lexer": "ipython3",
   "version": "3.8.18"
  }
 },
 "nbformat": 4,
 "nbformat_minor": 5
}
