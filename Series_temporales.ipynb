{
 "cells": [
  {
   "cell_type": "markdown",
   "id": "6716a624",
   "metadata": {},
   "source": [
    "[![Open In Colab](https://colab.research.google.com/assets/colab-badge.svg)](https://colab.research.google.com/github/Fernigithub/series_temporales_101/blob/main/Series_temporales.ipynb)"
   ]
  },
  {
   "cell_type": "markdown",
   "id": "3a78631e",
   "metadata": {},
   "source": [
    "## Date and time series functionality\n",
    "\n",
    "They either represent points in time or periods of time. They contain attributes and methods to access and manipulate time dimension of data. \n",
    "\n",
    "Any column can have date-time information, but it is important to have it as the index as an index as timestamp/period makes the entire dataframe a time-series.\n",
    "\n",
    "### Basic building block: pd.Timestamp\n",
    "\n",
    "## Funcionalidad de series de tiempo y fechas\n",
    "\n",
    "Representan puntos en el tiempo o períodos de tiempo. Contienen atributos y métodos para acceder y manipular la dimensión temporal de los datos.\n",
    "\n",
    "Cualquier columna puede tener información de fecha y hora, pero es importante tenerla como índice, ya que como índice de timestamp/período convierte todo el dataframe en una serie temporal.\n",
    "\n",
    "### Bloque básico de construcción: pd.Timestamp\n"
   ]
  },
  {
   "cell_type": "code",
   "execution_count": 1,
   "id": "a7384d54",
   "metadata": {},
   "outputs": [],
   "source": [
    "import pandas as pd\n",
    "from datetime import datetime #to create dates manually"
   ]
  },
  {
   "cell_type": "code",
   "execution_count": 2,
   "id": "6759ddb5",
   "metadata": {},
   "outputs": [
    {
     "data": {
      "text/plain": [
       "True"
      ]
     },
     "execution_count": 2,
     "metadata": {},
     "output_type": "execute_result"
    }
   ],
   "source": [
    "time_stamp=pd.Timestamp(datetime(2017,1,1))\n",
    "pd.Timestamp('2017-01-01') ==time_stamp #this confirms if it understand dates as timestamp or not"
   ]
  },
  {
   "cell_type": "code",
   "execution_count": 3,
   "id": "b3777714",
   "metadata": {},
   "outputs": [
    {
     "data": {
      "text/plain": [
       "Timestamp('2017-01-01 00:00:00')"
      ]
     },
     "execution_count": 3,
     "metadata": {},
     "output_type": "execute_result"
    }
   ],
   "source": [
    "time_stamp #to check the type\n",
    "\n",
    "#time is automatically set to midnight"
   ]
  },
  {
   "cell_type": "code",
   "execution_count": 4,
   "id": "0d0be7ae",
   "metadata": {},
   "outputs": [
    {
     "data": {
      "text/plain": [
       "2017"
      ]
     },
     "execution_count": 4,
     "metadata": {},
     "output_type": "execute_result"
    }
   ],
   "source": [
    "time_stamp.year"
   ]
  },
  {
   "cell_type": "markdown",
   "id": "904f0d5f",
   "metadata": {},
   "source": [
    "### More building blocks: pd.Period and freq\n",
    "\n",
    "Period object has freq attribute to store frequency information which can be set to monthly or daily.\n",
    "\n",
    "You can convert period object to timestamp and vice versa\n",
    "\n",
    "Frequency infor enables basic date arithmetic\n",
    "\n",
    "### Más bloques de construcción: pd.Period y freq\n",
    "\n",
    "El objeto Period tiene un atributo freq para almacenar información de frecuencia que puede configurarse como mensual o diario.\n",
    "\n",
    "Puedes convertir un objeto Period a timestamp y viceversa.\n",
    "\n",
    "La información de frecuencia permite la aritmética básica de fechas.\n"
   ]
  },
  {
   "cell_type": "code",
   "execution_count": 5,
   "id": "e4c8f8dc",
   "metadata": {},
   "outputs": [
    {
     "data": {
      "text/plain": [
       "Period('2017-01', 'M')"
      ]
     },
     "execution_count": 5,
     "metadata": {},
     "output_type": "execute_result"
    }
   ],
   "source": [
    "period=pd.Period(\"2017-01\")\n",
    "period"
   ]
  },
  {
   "cell_type": "code",
   "execution_count": 6,
   "id": "bf985aa8",
   "metadata": {},
   "outputs": [
    {
     "data": {
      "text/plain": [
       "Period('2017-01-31', 'D')"
      ]
     },
     "execution_count": 6,
     "metadata": {},
     "output_type": "execute_result"
    }
   ],
   "source": [
    "period.asfreq(\"D\")"
   ]
  },
  {
   "cell_type": "code",
   "execution_count": 7,
   "id": "74794d7f",
   "metadata": {},
   "outputs": [
    {
     "data": {
      "text/plain": [
       "Period('2017-01', 'M')"
      ]
     },
     "execution_count": 7,
     "metadata": {},
     "output_type": "execute_result"
    }
   ],
   "source": [
    "period.to_timestamp().to_period(\"M\")"
   ]
  },
  {
   "cell_type": "code",
   "execution_count": 8,
   "id": "1aacdab3",
   "metadata": {},
   "outputs": [
    {
     "data": {
      "text/plain": [
       "Period('2017-03', 'M')"
      ]
     },
     "execution_count": 8,
     "metadata": {},
     "output_type": "execute_result"
    }
   ],
   "source": [
    "period+2"
   ]
  },
  {
   "cell_type": "markdown",
   "id": "a05c5270",
   "metadata": {},
   "source": [
    "### Sequences of dates and times\n",
    "\n",
    "You can create a time series by specifying date range, start, end, periods and frequency\n",
    "\n",
    "### Secuencias de fechas y horas\n",
    "\n",
    "Puedes crear una serie temporal especificando el rango de fechas, inicio, fin, períodos y frecuencia."
   ]
  },
  {
   "cell_type": "code",
   "execution_count": 9,
   "id": "42c2d118",
   "metadata": {},
   "outputs": [],
   "source": [
    "index=pd.date_range(start=\"2017-1-1\", periods=12, freq=\"M\")"
   ]
  },
  {
   "cell_type": "code",
   "execution_count": 10,
   "id": "122d7034",
   "metadata": {},
   "outputs": [
    {
     "data": {
      "text/plain": [
       "DatetimeIndex(['2017-01-31', '2017-02-28', '2017-03-31', '2017-04-30',\n",
       "               '2017-05-31', '2017-06-30', '2017-07-31', '2017-08-31',\n",
       "               '2017-09-30', '2017-10-31', '2017-11-30', '2017-12-31'],\n",
       "              dtype='datetime64[ns]', freq='M')"
      ]
     },
     "execution_count": 10,
     "metadata": {},
     "output_type": "execute_result"
    }
   ],
   "source": [
    "index #datetime64 is the datatype and ns is nanoseconds"
   ]
  },
  {
   "cell_type": "code",
   "execution_count": 11,
   "id": "26e87b84",
   "metadata": {},
   "outputs": [
    {
     "data": {
      "text/plain": [
       "Timestamp('2017-01-31 00:00:00', freq='M')"
      ]
     },
     "execution_count": 11,
     "metadata": {},
     "output_type": "execute_result"
    }
   ],
   "source": [
    "index[0] #the first element is a timestamp"
   ]
  },
  {
   "cell_type": "code",
   "execution_count": 12,
   "id": "b4f2f4b4",
   "metadata": {},
   "outputs": [
    {
     "data": {
      "text/plain": [
       "PeriodIndex(['2017-01', '2017-02', '2017-03', '2017-04', '2017-05', '2017-06',\n",
       "             '2017-07', '2017-08', '2017-09', '2017-10', '2017-11', '2017-12'],\n",
       "            dtype='period[M]', freq='M')"
      ]
     },
     "execution_count": 12,
     "metadata": {},
     "output_type": "execute_result"
    }
   ],
   "source": [
    "index.to_period() #this creates an index with timestamps"
   ]
  },
  {
   "cell_type": "code",
   "execution_count": 13,
   "id": "eef3f6ac",
   "metadata": {},
   "outputs": [
    {
     "name": "stdout",
     "output_type": "stream",
     "text": [
      "<class 'pandas.core.frame.DataFrame'>\n",
      "RangeIndex: 12 entries, 0 to 11\n",
      "Data columns (total 1 columns):\n",
      " #   Column  Non-Null Count  Dtype         \n",
      "---  ------  --------------  -----         \n",
      " 0   data    12 non-null     datetime64[ns]\n",
      "dtypes: datetime64[ns](1)\n",
      "memory usage: 224.0 bytes\n"
     ]
    }
   ],
   "source": [
    "pd.DataFrame ({'data':index}).info() #we made a time series with dates as index"
   ]
  },
  {
   "cell_type": "code",
   "execution_count": 14,
   "id": "b48492fa",
   "metadata": {},
   "outputs": [
    {
     "name": "stdout",
     "output_type": "stream",
     "text": [
      "<class 'pandas.core.frame.DataFrame'>\n",
      "DatetimeIndex: 12 entries, 2017-01-31 to 2017-12-31\n",
      "Freq: M\n",
      "Data columns (total 2 columns):\n",
      " #   Column  Non-Null Count  Dtype  \n",
      "---  ------  --------------  -----  \n",
      " 0   0       12 non-null     float64\n",
      " 1   1       12 non-null     float64\n",
      "dtypes: float64(2)\n",
      "memory usage: 288.0 bytes\n"
     ]
    }
   ],
   "source": [
    "import numpy as np\n",
    "data=np.random.random(size=(12,2))\n",
    "pd.DataFrame(data=data, index=index).info()"
   ]
  },
  {
   "cell_type": "markdown",
   "id": "6b286e98",
   "metadata": {},
   "source": [
    "## Indexing and resampling time series\n",
    "\n",
    "Basic time series transformations include:\n",
    "\n",
    "<li> Parsing string dates and convert to datetime64 </li>\n",
    "<li> Selecting and slicing for specific subperiods </li>\n",
    "<li> Setting and changing DateTimeIndex frequency {Upsampling and Downsampling } </li>\n",
    "\n",
    "\n",
    "Indexación y remuestreo de series temporales\n",
    "\n",
    "## Las transformaciones básicas de series temporales incluyen:\n",
    "\n",
    "\t•\tParsear fechas en cadena y convertirlas a datetime64.\n",
    "\t•\tSeleccionar y segmentar períodos específicos.\n",
    "\t•\tEstablecer y cambiar la frecuencia de DateTimeIndex {Upsampling y Downsampling}.\n"
   ]
  },
  {
   "cell_type": "code",
   "execution_count": 15,
   "id": "9dcac907",
   "metadata": {},
   "outputs": [],
   "source": [
    "import pandas as pd\n",
    "google=pd.read_csv(\"/Users/srtpan/Downloads/GOOG.csv\")"
   ]
  },
  {
   "cell_type": "code",
   "execution_count": 16,
   "id": "e79508c4",
   "metadata": {},
   "outputs": [
    {
     "name": "stdout",
     "output_type": "stream",
     "text": [
      "<class 'pandas.core.frame.DataFrame'>\n",
      "RangeIndex: 251 entries, 0 to 250\n",
      "Data columns (total 7 columns):\n",
      " #   Column     Non-Null Count  Dtype  \n",
      "---  ------     --------------  -----  \n",
      " 0   Date       251 non-null    object \n",
      " 1   Open       251 non-null    float64\n",
      " 2   High       251 non-null    float64\n",
      " 3   Low        251 non-null    float64\n",
      " 4   Close      251 non-null    float64\n",
      " 5   Adj Close  251 non-null    float64\n",
      " 6   Volume     251 non-null    int64  \n",
      "dtypes: float64(5), int64(1), object(1)\n",
      "memory usage: 13.9+ KB\n"
     ]
    }
   ],
   "source": [
    "google.info()"
   ]
  },
  {
   "cell_type": "markdown",
   "id": "886c3a28",
   "metadata": {},
   "source": [
    "## Converting string dates to datetime 64\n",
    "\n",
    "Two methods:\n",
    "\n",
    "pd.to_datetime()\n",
    "    <li> Parse date string </li>\n",
    "    <li> Convert to datetime64 </li>\n",
    "\n",
    "## Convertir fechas en cadena a datetime64\n",
    "\n",
    "Dos métodos:\n",
    "\n",
    "\t•\tpd.to_datetime()\n",
    "\t•\tParsear cadena de fecha.\n",
    "\t•\tConvertir a datetime64."
   ]
  },
  {
   "cell_type": "code",
   "execution_count": 17,
   "id": "1457cda8",
   "metadata": {},
   "outputs": [],
   "source": [
    "google.Date=pd.to_datetime(google.Date)"
   ]
  },
  {
   "cell_type": "code",
   "execution_count": 18,
   "id": "5bc8e33f",
   "metadata": {},
   "outputs": [
    {
     "name": "stdout",
     "output_type": "stream",
     "text": [
      "<class 'pandas.core.frame.DataFrame'>\n",
      "RangeIndex: 251 entries, 0 to 250\n",
      "Data columns (total 7 columns):\n",
      " #   Column     Non-Null Count  Dtype         \n",
      "---  ------     --------------  -----         \n",
      " 0   Date       251 non-null    datetime64[ns]\n",
      " 1   Open       251 non-null    float64       \n",
      " 2   High       251 non-null    float64       \n",
      " 3   Low        251 non-null    float64       \n",
      " 4   Close      251 non-null    float64       \n",
      " 5   Adj Close  251 non-null    float64       \n",
      " 6   Volume     251 non-null    int64         \n",
      "dtypes: datetime64[ns](1), float64(5), int64(1)\n",
      "memory usage: 13.9 KB\n"
     ]
    }
   ],
   "source": [
    "google.info()"
   ]
  },
  {
   "cell_type": "code",
   "execution_count": 19,
   "id": "4ae73a4d",
   "metadata": {},
   "outputs": [
    {
     "name": "stdout",
     "output_type": "stream",
     "text": [
      "<class 'pandas.core.frame.DataFrame'>\n",
      "DatetimeIndex: 251 entries, 2020-11-02 to 2021-10-29\n",
      "Data columns (total 6 columns):\n",
      " #   Column     Non-Null Count  Dtype  \n",
      "---  ------     --------------  -----  \n",
      " 0   Open       251 non-null    float64\n",
      " 1   High       251 non-null    float64\n",
      " 2   Low        251 non-null    float64\n",
      " 3   Close      251 non-null    float64\n",
      " 4   Adj Close  251 non-null    float64\n",
      " 5   Volume     251 non-null    int64  \n",
      "dtypes: float64(5), int64(1)\n",
      "memory usage: 13.7 KB\n"
     ]
    }
   ],
   "source": [
    "google.set_index(\"Date\", inplace=True)\n",
    "google.info()\n",
    "\n",
    "# The resulting DateTimeIndex lets you treat the entire DataFrame as time series data"
   ]
  },
  {
   "cell_type": "code",
   "execution_count": 20,
   "id": "ee13eb11",
   "metadata": {},
   "outputs": [
    {
     "data": {
      "image/png": "[encoded data removed]",
      "text/plain": [
       "<Figure size 432x288 with 1 Axes>"
      ]
     },
     "metadata": {
      "needs_background": "light"
     },
     "output_type": "display_data"
    }
   ],
   "source": [
    "import matplotlib.pyplot as plt\n",
    "google.Close.plot(title=\"Google stock price\")\n",
    "plt.tight_layout()\n",
    "plt.show()"
   ]
  },
  {
   "cell_type": "markdown",
   "id": "f646933f",
   "metadata": {},
   "source": [
    "## Partial string indexing\n",
    "\n",
    "<li> Selecting/indexing using strings that parse to dates </li>\n",
    "\n",
    "## Indexación parcial de cadenas\n",
    "\n",
    "\t•\tSeleccionar/indexar usando cadenas que se convierten a fechas.\n"
   ]
  },
  {
   "cell_type": "code",
   "execution_count": 21,
   "id": "a11df78a",
   "metadata": {},
   "outputs": [
    {
     "name": "stdout",
     "output_type": "stream",
     "text": [
      "<class 'pandas.core.frame.DataFrame'>\n",
      "DatetimeIndex: 209 entries, 2021-01-04 to 2021-10-29\n",
      "Data columns (total 6 columns):\n",
      " #   Column     Non-Null Count  Dtype  \n",
      "---  ------     --------------  -----  \n",
      " 0   Open       209 non-null    float64\n",
      " 1   High       209 non-null    float64\n",
      " 2   Low        209 non-null    float64\n",
      " 3   Close      209 non-null    float64\n",
      " 4   Adj Close  209 non-null    float64\n",
      " 5   Volume     209 non-null    int64  \n",
      "dtypes: float64(5), int64(1)\n",
      "memory usage: 11.4 KB\n"
     ]
    }
   ],
   "source": [
    "google.loc[\"2021\"].info() #this is the new way instead of df[\"2020\"].info()"
   ]
  },
  {
   "cell_type": "code",
   "execution_count": 22,
   "id": "aa20f7dd",
   "metadata": {},
   "outputs": [
    {
     "name": "stdout",
     "output_type": "stream",
     "text": [
      "<class 'pandas.core.frame.DataFrame'>\n",
      "DatetimeIndex: 103 entries, 2020-11-02 to 2021-03-31\n",
      "Data columns (total 6 columns):\n",
      " #   Column     Non-Null Count  Dtype  \n",
      "---  ------     --------------  -----  \n",
      " 0   Open       103 non-null    float64\n",
      " 1   High       103 non-null    float64\n",
      " 2   Low        103 non-null    float64\n",
      " 3   Close      103 non-null    float64\n",
      " 4   Adj Close  103 non-null    float64\n",
      " 5   Volume     103 non-null    int64  \n",
      "dtypes: float64(5), int64(1)\n",
      "memory usage: 5.6 KB\n"
     ]
    }
   ],
   "source": [
    "google[\"2020-10\":\"2021-3\"].info() #date range will be inclusive of the end date"
   ]
  },
  {
   "cell_type": "code",
   "execution_count": 23,
   "id": "e6349d5c",
   "metadata": {},
   "outputs": [
    {
     "data": {
      "text/plain": [
       "2838.419922"
      ]
     },
     "execution_count": 23,
     "metadata": {},
     "output_type": "execute_result"
    }
   ],
   "source": [
    "google.loc[\"2021-09-10\",\"Close\"]"
   ]
  },
  {
   "cell_type": "markdown",
   "id": "0439831f",
   "metadata": {},
   "source": [
    "## Set frequency using .asfreq()\n",
    "\n",
    "Convert DateTimeIndex to calendar day frequency\n",
    "\n",
    "## Establecer frecuencia usando .asfreq()\n",
    "\n",
    "Convertir DateTimeIndex a frecuencia de día calendario."
   ]
  },
  {
   "cell_type": "code",
   "execution_count": 24,
   "id": "1cae2155",
   "metadata": {},
   "outputs": [],
   "source": [
    "google_upsampled=google.asfreq(\"D\")"
   ]
  },
  {
   "cell_type": "code",
   "execution_count": 25,
   "id": "d940ce72",
   "metadata": {},
   "outputs": [
    {
     "data": {
      "text/html": [
       "<div>\n",
       "<style scoped>\n",
       "    .dataframe tbody tr th:only-of-type {\n",
       "        vertical-align: middle;\n",
       "    }\n",
       "\n",
       "    .dataframe tbody tr th {\n",
       "        vertical-align: top;\n",
       "    }\n",
       "\n",
       "    .dataframe thead th {\n",
       "        text-align: right;\n",
       "    }\n",
       "</style>\n",
       "<table border=\"1\" class=\"dataframe\">\n",
       "  <thead>\n",
       "    <tr style=\"text-align: right;\">\n",
       "      <th></th>\n",
       "      <th>Open</th>\n",
       "      <th>High</th>\n",
       "      <th>Low</th>\n",
       "      <th>Close</th>\n",
       "      <th>Adj Close</th>\n",
       "      <th>Volume</th>\n",
       "    </tr>\n",
       "    <tr>\n",
       "      <th>Date</th>\n",
       "      <th></th>\n",
       "      <th></th>\n",
       "      <th></th>\n",
       "      <th></th>\n",
       "      <th></th>\n",
       "      <th></th>\n",
       "    </tr>\n",
       "  </thead>\n",
       "  <tbody>\n",
       "    <tr>\n",
       "      <th>2020-11-02</th>\n",
       "      <td>1628.160034</td>\n",
       "      <td>1660.770020</td>\n",
       "      <td>1616.030029</td>\n",
       "      <td>1626.030029</td>\n",
       "      <td>1626.030029</td>\n",
       "      <td>2535400.0</td>\n",
       "    </tr>\n",
       "    <tr>\n",
       "      <th>2020-11-03</th>\n",
       "      <td>1631.780029</td>\n",
       "      <td>1661.699951</td>\n",
       "      <td>1616.619995</td>\n",
       "      <td>1650.209961</td>\n",
       "      <td>1650.209961</td>\n",
       "      <td>1661700.0</td>\n",
       "    </tr>\n",
       "    <tr>\n",
       "      <th>2020-11-04</th>\n",
       "      <td>1710.280029</td>\n",
       "      <td>1771.364990</td>\n",
       "      <td>1706.030029</td>\n",
       "      <td>1749.130005</td>\n",
       "      <td>1749.130005</td>\n",
       "      <td>3570900.0</td>\n",
       "    </tr>\n",
       "    <tr>\n",
       "      <th>2020-11-05</th>\n",
       "      <td>1781.000000</td>\n",
       "      <td>1793.640015</td>\n",
       "      <td>1750.510010</td>\n",
       "      <td>1763.369995</td>\n",
       "      <td>1763.369995</td>\n",
       "      <td>2065800.0</td>\n",
       "    </tr>\n",
       "    <tr>\n",
       "      <th>2020-11-06</th>\n",
       "      <td>1753.949951</td>\n",
       "      <td>1772.430054</td>\n",
       "      <td>1740.349976</td>\n",
       "      <td>1761.750000</td>\n",
       "      <td>1761.750000</td>\n",
       "      <td>1660900.0</td>\n",
       "    </tr>\n",
       "    <tr>\n",
       "      <th>2020-11-07</th>\n",
       "      <td>NaN</td>\n",
       "      <td>NaN</td>\n",
       "      <td>NaN</td>\n",
       "      <td>NaN</td>\n",
       "      <td>NaN</td>\n",
       "      <td>NaN</td>\n",
       "    </tr>\n",
       "    <tr>\n",
       "      <th>2020-11-08</th>\n",
       "      <td>NaN</td>\n",
       "      <td>NaN</td>\n",
       "      <td>NaN</td>\n",
       "      <td>NaN</td>\n",
       "      <td>NaN</td>\n",
       "      <td>NaN</td>\n",
       "    </tr>\n",
       "    <tr>\n",
       "      <th>2020-11-09</th>\n",
       "      <td>1790.900024</td>\n",
       "      <td>1818.060059</td>\n",
       "      <td>1760.020020</td>\n",
       "      <td>1763.000000</td>\n",
       "      <td>1763.000000</td>\n",
       "      <td>2268300.0</td>\n",
       "    </tr>\n",
       "    <tr>\n",
       "      <th>2020-11-10</th>\n",
       "      <td>1731.089966</td>\n",
       "      <td>1763.000000</td>\n",
       "      <td>1717.300049</td>\n",
       "      <td>1740.390015</td>\n",
       "      <td>1740.390015</td>\n",
       "      <td>2636100.0</td>\n",
       "    </tr>\n",
       "    <tr>\n",
       "      <th>2020-11-11</th>\n",
       "      <td>1750.000000</td>\n",
       "      <td>1764.219971</td>\n",
       "      <td>1747.364990</td>\n",
       "      <td>1752.709961</td>\n",
       "      <td>1752.709961</td>\n",
       "      <td>1264000.0</td>\n",
       "    </tr>\n",
       "    <tr>\n",
       "      <th>2020-11-12</th>\n",
       "      <td>1747.630005</td>\n",
       "      <td>1768.270020</td>\n",
       "      <td>1745.599976</td>\n",
       "      <td>1749.839966</td>\n",
       "      <td>1749.839966</td>\n",
       "      <td>1247500.0</td>\n",
       "    </tr>\n",
       "    <tr>\n",
       "      <th>2020-11-13</th>\n",
       "      <td>1757.630005</td>\n",
       "      <td>1781.040039</td>\n",
       "      <td>1744.550049</td>\n",
       "      <td>1777.020020</td>\n",
       "      <td>1777.020020</td>\n",
       "      <td>1499900.0</td>\n",
       "    </tr>\n",
       "    <tr>\n",
       "      <th>2020-11-14</th>\n",
       "      <td>NaN</td>\n",
       "      <td>NaN</td>\n",
       "      <td>NaN</td>\n",
       "      <td>NaN</td>\n",
       "      <td>NaN</td>\n",
       "      <td>NaN</td>\n",
       "    </tr>\n",
       "    <tr>\n",
       "      <th>2020-11-15</th>\n",
       "      <td>NaN</td>\n",
       "      <td>NaN</td>\n",
       "      <td>NaN</td>\n",
       "      <td>NaN</td>\n",
       "      <td>NaN</td>\n",
       "      <td>NaN</td>\n",
       "    </tr>\n",
       "    <tr>\n",
       "      <th>2020-11-16</th>\n",
       "      <td>1771.699951</td>\n",
       "      <td>1799.069946</td>\n",
       "      <td>1767.689941</td>\n",
       "      <td>1781.380005</td>\n",
       "      <td>1781.380005</td>\n",
       "      <td>1246800.0</td>\n",
       "    </tr>\n",
       "    <tr>\n",
       "      <th>2020-11-17</th>\n",
       "      <td>1776.939941</td>\n",
       "      <td>1785.000000</td>\n",
       "      <td>1767.000000</td>\n",
       "      <td>1770.150024</td>\n",
       "      <td>1770.150024</td>\n",
       "      <td>1147100.0</td>\n",
       "    </tr>\n",
       "    <tr>\n",
       "      <th>2020-11-18</th>\n",
       "      <td>1765.229980</td>\n",
       "      <td>1773.469971</td>\n",
       "      <td>1746.140015</td>\n",
       "      <td>1746.780029</td>\n",
       "      <td>1746.780029</td>\n",
       "      <td>1173500.0</td>\n",
       "    </tr>\n",
       "    <tr>\n",
       "      <th>2020-11-19</th>\n",
       "      <td>1738.380005</td>\n",
       "      <td>1769.589966</td>\n",
       "      <td>1737.005005</td>\n",
       "      <td>1763.920044</td>\n",
       "      <td>1763.920044</td>\n",
       "      <td>1249900.0</td>\n",
       "    </tr>\n",
       "    <tr>\n",
       "      <th>2020-11-20</th>\n",
       "      <td>1765.209961</td>\n",
       "      <td>1774.000000</td>\n",
       "      <td>1741.859985</td>\n",
       "      <td>1742.189941</td>\n",
       "      <td>1742.189941</td>\n",
       "      <td>2313500.0</td>\n",
       "    </tr>\n",
       "    <tr>\n",
       "      <th>2020-11-21</th>\n",
       "      <td>NaN</td>\n",
       "      <td>NaN</td>\n",
       "      <td>NaN</td>\n",
       "      <td>NaN</td>\n",
       "      <td>NaN</td>\n",
       "      <td>NaN</td>\n",
       "    </tr>\n",
       "  </tbody>\n",
       "</table>\n",
       "</div>"
      ],
      "text/plain": [
       "                   Open         High          Low        Close    Adj Close  \\\n",
       "Date                                                                          \n",
       "2020-11-02  1628.160034  1660.770020  1616.030029  1626.030029  1626.030029   \n",
       "2020-11-03  1631.780029  1661.699951  1616.619995  1650.209961  1650.209961   \n",
       "2020-11-04  1710.280029  1771.364990  1706.030029  1749.130005  1749.130005   \n",
       "2020-11-05  1781.000000  1793.640015  1750.510010  1763.369995  1763.369995   \n",
       "2020-11-06  1753.949951  1772.430054  1740.349976  1761.750000  1761.750000   \n",
       "2020-11-07          NaN          NaN          NaN          NaN          NaN   \n",
       "2020-11-08          NaN          NaN          NaN          NaN          NaN   \n",
       "2020-11-09  1790.900024  1818.060059  1760.020020  1763.000000  1763.000000   \n",
       "2020-11-10  1731.089966  1763.000000  1717.300049  1740.390015  1740.390015   \n",
       "2020-11-11  1750.000000  1764.219971  1747.364990  1752.709961  1752.709961   \n",
       "2020-11-12  1747.630005  1768.270020  1745.599976  1749.839966  1749.839966   \n",
       "2020-11-13  1757.630005  1781.040039  1744.550049  1777.020020  1777.020020   \n",
       "2020-11-14          NaN          NaN          NaN          NaN          NaN   \n",
       "2020-11-15          NaN          NaN          NaN          NaN          NaN   \n",
       "2020-11-16  1771.699951  1799.069946  1767.689941  1781.380005  1781.380005   \n",
       "2020-11-17  1776.939941  1785.000000  1767.000000  1770.150024  1770.150024   \n",
       "2020-11-18  1765.229980  1773.469971  1746.140015  1746.780029  1746.780029   \n",
       "2020-11-19  1738.380005  1769.589966  1737.005005  1763.920044  1763.920044   \n",
       "2020-11-20  1765.209961  1774.000000  1741.859985  1742.189941  1742.189941   \n",
       "2020-11-21          NaN          NaN          NaN          NaN          NaN   \n",
       "\n",
       "               Volume  \n",
       "Date                   \n",
       "2020-11-02  2535400.0  \n",
       "2020-11-03  1661700.0  \n",
       "2020-11-04  3570900.0  \n",
       "2020-11-05  2065800.0  \n",
       "2020-11-06  1660900.0  \n",
       "2020-11-07        NaN  \n",
       "2020-11-08        NaN  \n",
       "2020-11-09  2268300.0  \n",
       "2020-11-10  2636100.0  \n",
       "2020-11-11  1264000.0  \n",
       "2020-11-12  1247500.0  \n",
       "2020-11-13  1499900.0  \n",
       "2020-11-14        NaN  \n",
       "2020-11-15        NaN  \n",
       "2020-11-16  1246800.0  \n",
       "2020-11-17  1147100.0  \n",
       "2020-11-18  1173500.0  \n",
       "2020-11-19  1249900.0  \n",
       "2020-11-20  2313500.0  \n",
       "2020-11-21        NaN  "
      ]
     },
     "execution_count": 25,
     "metadata": {},
     "output_type": "execute_result"
    }
   ],
   "source": [
    "google_upsampled.head(20)"
   ]
  },
  {
   "cell_type": "markdown",
   "id": "378c42f8",
   "metadata": {},
   "source": [
    "Above, you can see that the missing dates from the stock reports have been filled with NaN values.\n",
    "\n",
    "Month to day -> Upsampling (increasing frequency)\n",
    "Day to Month -> Downsampling (decreasing frequency)\n",
    "\n",
    "We can also change the frequency to Business days\n",
    "\n",
    "\n",
    "Arriba, puedes ver que las fechas faltantes de los informes de acciones se han llenado con valores NaN.\n",
    "\n",
    "Mes a día -> Upsampling (aumentar la frecuencia)\n",
    "Día a mes -> Downsampling (disminuir la frecuencia)\n",
    "\n",
    "También podemos cambiar la frecuencia a días hábiles."
   ]
  },
  {
   "cell_type": "code",
   "execution_count": 26,
   "id": "9aaa5b52",
   "metadata": {},
   "outputs": [
    {
     "data": {
      "text/html": [
       "<div>\n",
       "<style scoped>\n",
       "    .dataframe tbody tr th:only-of-type {\n",
       "        vertical-align: middle;\n",
       "    }\n",
       "\n",
       "    .dataframe tbody tr th {\n",
       "        vertical-align: top;\n",
       "    }\n",
       "\n",
       "    .dataframe thead th {\n",
       "        text-align: right;\n",
       "    }\n",
       "</style>\n",
       "<table border=\"1\" class=\"dataframe\">\n",
       "  <thead>\n",
       "    <tr style=\"text-align: right;\">\n",
       "      <th></th>\n",
       "      <th>Open</th>\n",
       "      <th>High</th>\n",
       "      <th>Low</th>\n",
       "      <th>Close</th>\n",
       "      <th>Adj Close</th>\n",
       "      <th>Volume</th>\n",
       "    </tr>\n",
       "    <tr>\n",
       "      <th>Date</th>\n",
       "      <th></th>\n",
       "      <th></th>\n",
       "      <th></th>\n",
       "      <th></th>\n",
       "      <th></th>\n",
       "      <th></th>\n",
       "    </tr>\n",
       "  </thead>\n",
       "  <tbody>\n",
       "    <tr>\n",
       "      <th>2020-11-02</th>\n",
       "      <td>1628.160034</td>\n",
       "      <td>1660.770020</td>\n",
       "      <td>1616.030029</td>\n",
       "      <td>1626.030029</td>\n",
       "      <td>1626.030029</td>\n",
       "      <td>2535400.0</td>\n",
       "    </tr>\n",
       "    <tr>\n",
       "      <th>2020-11-03</th>\n",
       "      <td>1631.780029</td>\n",
       "      <td>1661.699951</td>\n",
       "      <td>1616.619995</td>\n",
       "      <td>1650.209961</td>\n",
       "      <td>1650.209961</td>\n",
       "      <td>1661700.0</td>\n",
       "    </tr>\n",
       "    <tr>\n",
       "      <th>2020-11-04</th>\n",
       "      <td>1710.280029</td>\n",
       "      <td>1771.364990</td>\n",
       "      <td>1706.030029</td>\n",
       "      <td>1749.130005</td>\n",
       "      <td>1749.130005</td>\n",
       "      <td>3570900.0</td>\n",
       "    </tr>\n",
       "    <tr>\n",
       "      <th>2020-11-05</th>\n",
       "      <td>1781.000000</td>\n",
       "      <td>1793.640015</td>\n",
       "      <td>1750.510010</td>\n",
       "      <td>1763.369995</td>\n",
       "      <td>1763.369995</td>\n",
       "      <td>2065800.0</td>\n",
       "    </tr>\n",
       "    <tr>\n",
       "      <th>2020-11-06</th>\n",
       "      <td>1753.949951</td>\n",
       "      <td>1772.430054</td>\n",
       "      <td>1740.349976</td>\n",
       "      <td>1761.750000</td>\n",
       "      <td>1761.750000</td>\n",
       "      <td>1660900.0</td>\n",
       "    </tr>\n",
       "  </tbody>\n",
       "</table>\n",
       "</div>"
      ],
      "text/plain": [
       "                   Open         High          Low        Close    Adj Close  \\\n",
       "Date                                                                          \n",
       "2020-11-02  1628.160034  1660.770020  1616.030029  1626.030029  1626.030029   \n",
       "2020-11-03  1631.780029  1661.699951  1616.619995  1650.209961  1650.209961   \n",
       "2020-11-04  1710.280029  1771.364990  1706.030029  1749.130005  1749.130005   \n",
       "2020-11-05  1781.000000  1793.640015  1750.510010  1763.369995  1763.369995   \n",
       "2020-11-06  1753.949951  1772.430054  1740.349976  1761.750000  1761.750000   \n",
       "\n",
       "               Volume  \n",
       "Date                   \n",
       "2020-11-02  2535400.0  \n",
       "2020-11-03  1661700.0  \n",
       "2020-11-04  3570900.0  \n",
       "2020-11-05  2065800.0  \n",
       "2020-11-06  1660900.0  "
      ]
     },
     "execution_count": 26,
     "metadata": {},
     "output_type": "execute_result"
    }
   ],
   "source": [
    "google_businessdays=google.asfreq(\"B\")\n",
    "google_businessdays.head()"
   ]
  },
  {
   "cell_type": "markdown",
   "id": "5b4a4c64",
   "metadata": {},
   "source": [
    "## Basic time series calculations\n",
    "\n",
    "Typical time series manipulations include:\n",
    "\n",
    "<li> Shift or lag values back or forward in time </li>\n",
    "<li> Get the difference in value for a given time period </li>\n",
    "<li> Compute the percent change over any number of periods </li>\n",
    "\n",
    "pandas built-in methods rely on pd.DateTimeIndex\n",
    "\n",
    "\n",
    "## Cálculos básicos de series temporales\n",
    "\n",
    "Las manipulaciones típicas de series temporales incluyen:\n",
    "\n",
    "\t•\tDesplazar o retrasar valores en el tiempo.\n",
    "\t•\tObtener la diferencia en valor para un período de tiempo dado.\n",
    "\t•\tCalcular el cambio porcentual sobre cualquier número de períodos.\n",
    "\n",
    "Los métodos integrados de pandas dependen de pd.DateTimeIndex."
   ]
  },
  {
   "cell_type": "code",
   "execution_count": 27,
   "id": "0d60c9b2",
   "metadata": {},
   "outputs": [],
   "source": [
    "google=pd.read_csv(\"/Users/srtpan/Downloads/GOOG.csv\", parse_dates=[\"Date\"], index_col=\"Date\")\n",
    "#this is another method to make a dataframe for google stocks as you are parsing date column as time series\n",
    "#and now you will not need to convert to datetime object"
   ]
  },
  {
   "cell_type": "code",
   "execution_count": 28,
   "id": "7f5d013f",
   "metadata": {},
   "outputs": [
    {
     "name": "stdout",
     "output_type": "stream",
     "text": [
      "<class 'pandas.core.frame.DataFrame'>\n",
      "DatetimeIndex: 251 entries, 2020-11-02 to 2021-10-29\n",
      "Data columns (total 6 columns):\n",
      " #   Column     Non-Null Count  Dtype  \n",
      "---  ------     --------------  -----  \n",
      " 0   Open       251 non-null    float64\n",
      " 1   High       251 non-null    float64\n",
      " 2   Low        251 non-null    float64\n",
      " 3   Close      251 non-null    float64\n",
      " 4   Adj Close  251 non-null    float64\n",
      " 5   Volume     251 non-null    int64  \n",
      "dtypes: float64(5), int64(1)\n",
      "memory usage: 13.7 KB\n"
     ]
    }
   ],
   "source": [
    "google.info()"
   ]
  },
  {
   "cell_type": "code",
   "execution_count": 29,
   "id": "0ad0f04f",
   "metadata": {},
   "outputs": [
    {
     "data": {
      "text/html": [
       "<div>\n",
       "<style scoped>\n",
       "    .dataframe tbody tr th:only-of-type {\n",
       "        vertical-align: middle;\n",
       "    }\n",
       "\n",
       "    .dataframe tbody tr th {\n",
       "        vertical-align: top;\n",
       "    }\n",
       "\n",
       "    .dataframe thead th {\n",
       "        text-align: right;\n",
       "    }\n",
       "</style>\n",
       "<table border=\"1\" class=\"dataframe\">\n",
       "  <thead>\n",
       "    <tr style=\"text-align: right;\">\n",
       "      <th></th>\n",
       "      <th>Open</th>\n",
       "      <th>High</th>\n",
       "      <th>Low</th>\n",
       "      <th>Close</th>\n",
       "      <th>Adj Close</th>\n",
       "      <th>Volume</th>\n",
       "    </tr>\n",
       "    <tr>\n",
       "      <th>Date</th>\n",
       "      <th></th>\n",
       "      <th></th>\n",
       "      <th></th>\n",
       "      <th></th>\n",
       "      <th></th>\n",
       "      <th></th>\n",
       "    </tr>\n",
       "  </thead>\n",
       "  <tbody>\n",
       "    <tr>\n",
       "      <th>2020-11-02</th>\n",
       "      <td>1628.160034</td>\n",
       "      <td>1660.770020</td>\n",
       "      <td>1616.030029</td>\n",
       "      <td>1626.030029</td>\n",
       "      <td>1626.030029</td>\n",
       "      <td>2535400</td>\n",
       "    </tr>\n",
       "    <tr>\n",
       "      <th>2020-11-03</th>\n",
       "      <td>1631.780029</td>\n",
       "      <td>1661.699951</td>\n",
       "      <td>1616.619995</td>\n",
       "      <td>1650.209961</td>\n",
       "      <td>1650.209961</td>\n",
       "      <td>1661700</td>\n",
       "    </tr>\n",
       "    <tr>\n",
       "      <th>2020-11-04</th>\n",
       "      <td>1710.280029</td>\n",
       "      <td>1771.364990</td>\n",
       "      <td>1706.030029</td>\n",
       "      <td>1749.130005</td>\n",
       "      <td>1749.130005</td>\n",
       "      <td>3570900</td>\n",
       "    </tr>\n",
       "    <tr>\n",
       "      <th>2020-11-05</th>\n",
       "      <td>1781.000000</td>\n",
       "      <td>1793.640015</td>\n",
       "      <td>1750.510010</td>\n",
       "      <td>1763.369995</td>\n",
       "      <td>1763.369995</td>\n",
       "      <td>2065800</td>\n",
       "    </tr>\n",
       "    <tr>\n",
       "      <th>2020-11-06</th>\n",
       "      <td>1753.949951</td>\n",
       "      <td>1772.430054</td>\n",
       "      <td>1740.349976</td>\n",
       "      <td>1761.750000</td>\n",
       "      <td>1761.750000</td>\n",
       "      <td>1660900</td>\n",
       "    </tr>\n",
       "  </tbody>\n",
       "</table>\n",
       "</div>"
      ],
      "text/plain": [
       "                   Open         High          Low        Close    Adj Close  \\\n",
       "Date                                                                          \n",
       "2020-11-02  1628.160034  1660.770020  1616.030029  1626.030029  1626.030029   \n",
       "2020-11-03  1631.780029  1661.699951  1616.619995  1650.209961  1650.209961   \n",
       "2020-11-04  1710.280029  1771.364990  1706.030029  1749.130005  1749.130005   \n",
       "2020-11-05  1781.000000  1793.640015  1750.510010  1763.369995  1763.369995   \n",
       "2020-11-06  1753.949951  1772.430054  1740.349976  1761.750000  1761.750000   \n",
       "\n",
       "             Volume  \n",
       "Date                 \n",
       "2020-11-02  2535400  \n",
       "2020-11-03  1661700  \n",
       "2020-11-04  3570900  \n",
       "2020-11-05  2065800  \n",
       "2020-11-06  1660900  "
      ]
     },
     "execution_count": 29,
     "metadata": {},
     "output_type": "execute_result"
    }
   ],
   "source": [
    "google.head()"
   ]
  },
  {
   "cell_type": "markdown",
   "id": "1408e3e8",
   "metadata": {},
   "source": [
    "Here, you can see that the time series is properly formatted with date as the index\n",
    "of the dataframe. It helps us omit the conversion to datetime object and then setting the index to date column.\n",
    "\n",
    "### .shift(): Moving data between past and future\n",
    "\n",
    ".shift():\n",
    "\n",
    "<li> defaults to periods=1 </li>\n",
    "<li> 1 period into future </li>"
   ]
  },
  {
   "cell_type": "code",
   "execution_count": 30,
   "id": "54c09def",
   "metadata": {},
   "outputs": [
    {
     "data": {
      "text/html": [
       "<div>\n",
       "<style scoped>\n",
       "    .dataframe tbody tr th:only-of-type {\n",
       "        vertical-align: middle;\n",
       "    }\n",
       "\n",
       "    .dataframe tbody tr th {\n",
       "        vertical-align: top;\n",
       "    }\n",
       "\n",
       "    .dataframe thead th {\n",
       "        text-align: right;\n",
       "    }\n",
       "</style>\n",
       "<table border=\"1\" class=\"dataframe\">\n",
       "  <thead>\n",
       "    <tr style=\"text-align: right;\">\n",
       "      <th></th>\n",
       "      <th>Open</th>\n",
       "      <th>High</th>\n",
       "      <th>Low</th>\n",
       "      <th>Close</th>\n",
       "      <th>Adj Close</th>\n",
       "      <th>Volume</th>\n",
       "      <th>shifted</th>\n",
       "    </tr>\n",
       "    <tr>\n",
       "      <th>Date</th>\n",
       "      <th></th>\n",
       "      <th></th>\n",
       "      <th></th>\n",
       "      <th></th>\n",
       "      <th></th>\n",
       "      <th></th>\n",
       "      <th></th>\n",
       "    </tr>\n",
       "  </thead>\n",
       "  <tbody>\n",
       "    <tr>\n",
       "      <th>2020-11-02</th>\n",
       "      <td>1628.160034</td>\n",
       "      <td>1660.770020</td>\n",
       "      <td>1616.030029</td>\n",
       "      <td>1626.030029</td>\n",
       "      <td>1626.030029</td>\n",
       "      <td>2535400</td>\n",
       "      <td>NaN</td>\n",
       "    </tr>\n",
       "    <tr>\n",
       "      <th>2020-11-03</th>\n",
       "      <td>1631.780029</td>\n",
       "      <td>1661.699951</td>\n",
       "      <td>1616.619995</td>\n",
       "      <td>1650.209961</td>\n",
       "      <td>1650.209961</td>\n",
       "      <td>1661700</td>\n",
       "      <td>1626.030029</td>\n",
       "    </tr>\n",
       "    <tr>\n",
       "      <th>2020-11-04</th>\n",
       "      <td>1710.280029</td>\n",
       "      <td>1771.364990</td>\n",
       "      <td>1706.030029</td>\n",
       "      <td>1749.130005</td>\n",
       "      <td>1749.130005</td>\n",
       "      <td>3570900</td>\n",
       "      <td>1650.209961</td>\n",
       "    </tr>\n",
       "    <tr>\n",
       "      <th>2020-11-05</th>\n",
       "      <td>1781.000000</td>\n",
       "      <td>1793.640015</td>\n",
       "      <td>1750.510010</td>\n",
       "      <td>1763.369995</td>\n",
       "      <td>1763.369995</td>\n",
       "      <td>2065800</td>\n",
       "      <td>1749.130005</td>\n",
       "    </tr>\n",
       "    <tr>\n",
       "      <th>2020-11-06</th>\n",
       "      <td>1753.949951</td>\n",
       "      <td>1772.430054</td>\n",
       "      <td>1740.349976</td>\n",
       "      <td>1761.750000</td>\n",
       "      <td>1761.750000</td>\n",
       "      <td>1660900</td>\n",
       "      <td>1763.369995</td>\n",
       "    </tr>\n",
       "  </tbody>\n",
       "</table>\n",
       "</div>"
      ],
      "text/plain": [
       "                   Open         High          Low        Close    Adj Close  \\\n",
       "Date                                                                          \n",
       "2020-11-02  1628.160034  1660.770020  1616.030029  1626.030029  1626.030029   \n",
       "2020-11-03  1631.780029  1661.699951  1616.619995  1650.209961  1650.209961   \n",
       "2020-11-04  1710.280029  1771.364990  1706.030029  1749.130005  1749.130005   \n",
       "2020-11-05  1781.000000  1793.640015  1750.510010  1763.369995  1763.369995   \n",
       "2020-11-06  1753.949951  1772.430054  1740.349976  1761.750000  1761.750000   \n",
       "\n",
       "             Volume      shifted  \n",
       "Date                              \n",
       "2020-11-02  2535400          NaN  \n",
       "2020-11-03  1661700  1626.030029  \n",
       "2020-11-04  3570900  1650.209961  \n",
       "2020-11-05  2065800  1749.130005  \n",
       "2020-11-06  1660900  1763.369995  "
      ]
     },
     "execution_count": 30,
     "metadata": {},
     "output_type": "execute_result"
    }
   ],
   "source": [
    "google[\"shifted\"]=google.Close.shift(periods=1)\n",
    "google.head()"
   ]
  },
  {
   "cell_type": "code",
   "execution_count": 31,
   "id": "cc186577",
   "metadata": {},
   "outputs": [
    {
     "data": {
      "text/html": [
       "<div>\n",
       "<style scoped>\n",
       "    .dataframe tbody tr th:only-of-type {\n",
       "        vertical-align: middle;\n",
       "    }\n",
       "\n",
       "    .dataframe tbody tr th {\n",
       "        vertical-align: top;\n",
       "    }\n",
       "\n",
       "    .dataframe thead th {\n",
       "        text-align: right;\n",
       "    }\n",
       "</style>\n",
       "<table border=\"1\" class=\"dataframe\">\n",
       "  <thead>\n",
       "    <tr style=\"text-align: right;\">\n",
       "      <th></th>\n",
       "      <th>Open</th>\n",
       "      <th>High</th>\n",
       "      <th>Low</th>\n",
       "      <th>Close</th>\n",
       "      <th>Adj Close</th>\n",
       "      <th>Volume</th>\n",
       "      <th>shifted</th>\n",
       "      <th>lagged</th>\n",
       "    </tr>\n",
       "    <tr>\n",
       "      <th>Date</th>\n",
       "      <th></th>\n",
       "      <th></th>\n",
       "      <th></th>\n",
       "      <th></th>\n",
       "      <th></th>\n",
       "      <th></th>\n",
       "      <th></th>\n",
       "      <th></th>\n",
       "    </tr>\n",
       "  </thead>\n",
       "  <tbody>\n",
       "    <tr>\n",
       "      <th>2021-10-25</th>\n",
       "      <td>2776.209961</td>\n",
       "      <td>2784.115967</td>\n",
       "      <td>2734.969971</td>\n",
       "      <td>2775.459961</td>\n",
       "      <td>2775.459961</td>\n",
       "      <td>1054100</td>\n",
       "      <td>2772.500000</td>\n",
       "      <td>2793.439941</td>\n",
       "    </tr>\n",
       "    <tr>\n",
       "      <th>2021-10-26</th>\n",
       "      <td>2812.120117</td>\n",
       "      <td>2816.790039</td>\n",
       "      <td>2780.110107</td>\n",
       "      <td>2793.439941</td>\n",
       "      <td>2793.439941</td>\n",
       "      <td>1412900</td>\n",
       "      <td>2775.459961</td>\n",
       "      <td>2928.550049</td>\n",
       "    </tr>\n",
       "    <tr>\n",
       "      <th>2021-10-27</th>\n",
       "      <td>2798.050049</td>\n",
       "      <td>2982.360107</td>\n",
       "      <td>2798.050049</td>\n",
       "      <td>2928.550049</td>\n",
       "      <td>2928.550049</td>\n",
       "      <td>2592500</td>\n",
       "      <td>2793.439941</td>\n",
       "      <td>2922.580078</td>\n",
       "    </tr>\n",
       "    <tr>\n",
       "      <th>2021-10-28</th>\n",
       "      <td>2945.979980</td>\n",
       "      <td>2948.489990</td>\n",
       "      <td>2895.270020</td>\n",
       "      <td>2922.580078</td>\n",
       "      <td>2922.580078</td>\n",
       "      <td>1620900</td>\n",
       "      <td>2928.550049</td>\n",
       "      <td>2965.409912</td>\n",
       "    </tr>\n",
       "    <tr>\n",
       "      <th>2021-10-29</th>\n",
       "      <td>2910.399902</td>\n",
       "      <td>2972.260010</td>\n",
       "      <td>2903.330078</td>\n",
       "      <td>2965.409912</td>\n",
       "      <td>2965.409912</td>\n",
       "      <td>1447300</td>\n",
       "      <td>2922.580078</td>\n",
       "      <td>NaN</td>\n",
       "    </tr>\n",
       "  </tbody>\n",
       "</table>\n",
       "</div>"
      ],
      "text/plain": [
       "                   Open         High          Low        Close    Adj Close  \\\n",
       "Date                                                                          \n",
       "2021-10-25  2776.209961  2784.115967  2734.969971  2775.459961  2775.459961   \n",
       "2021-10-26  2812.120117  2816.790039  2780.110107  2793.439941  2793.439941   \n",
       "2021-10-27  2798.050049  2982.360107  2798.050049  2928.550049  2928.550049   \n",
       "2021-10-28  2945.979980  2948.489990  2895.270020  2922.580078  2922.580078   \n",
       "2021-10-29  2910.399902  2972.260010  2903.330078  2965.409912  2965.409912   \n",
       "\n",
       "             Volume      shifted       lagged  \n",
       "Date                                           \n",
       "2021-10-25  1054100  2772.500000  2793.439941  \n",
       "2021-10-26  1412900  2775.459961  2928.550049  \n",
       "2021-10-27  2592500  2793.439941  2922.580078  \n",
       "2021-10-28  1620900  2928.550049  2965.409912  \n",
       "2021-10-29  1447300  2922.580078          NaN  "
      ]
     },
     "execution_count": 31,
     "metadata": {},
     "output_type": "execute_result"
    }
   ],
   "source": [
    "google[\"lagged\"]=google.Close.shift(periods=-1) #negative period number\n",
    "google.tail(5)"
   ]
  },
  {
   "cell_type": "markdown",
   "id": "be0d9803",
   "metadata": {},
   "source": [
    "In case of shift, the values move one place into the future and in case of lag, the values move one place into the past. \n",
    "\n",
    "shifting data is helpful to compare data at different points in time. \n",
    "\n",
    "### Calculate one-period percent change \n",
    "\n",
    "xt/xt-1\n",
    "\n",
    "We will use the method div which not only allows to find the fraction for a particular value in the dataframe, but also across different columns in time series."
   ]
  },
  {
   "cell_type": "code",
   "execution_count": 32,
   "id": "efb7c97f",
   "metadata": {},
   "outputs": [],
   "source": [
    "google[\"change\"]=google.Close.div(google.shifted)"
   ]
  },
  {
   "cell_type": "code",
   "execution_count": 33,
   "id": "96f3625b",
   "metadata": {},
   "outputs": [
    {
     "data": {
      "text/html": [
       "<div>\n",
       "<style scoped>\n",
       "    .dataframe tbody tr th:only-of-type {\n",
       "        vertical-align: middle;\n",
       "    }\n",
       "\n",
       "    .dataframe tbody tr th {\n",
       "        vertical-align: top;\n",
       "    }\n",
       "\n",
       "    .dataframe thead th {\n",
       "        text-align: right;\n",
       "    }\n",
       "</style>\n",
       "<table border=\"1\" class=\"dataframe\">\n",
       "  <thead>\n",
       "    <tr style=\"text-align: right;\">\n",
       "      <th></th>\n",
       "      <th>Open</th>\n",
       "      <th>High</th>\n",
       "      <th>Low</th>\n",
       "      <th>Close</th>\n",
       "      <th>Adj Close</th>\n",
       "      <th>Volume</th>\n",
       "      <th>shifted</th>\n",
       "      <th>lagged</th>\n",
       "      <th>change</th>\n",
       "    </tr>\n",
       "    <tr>\n",
       "      <th>Date</th>\n",
       "      <th></th>\n",
       "      <th></th>\n",
       "      <th></th>\n",
       "      <th></th>\n",
       "      <th></th>\n",
       "      <th></th>\n",
       "      <th></th>\n",
       "      <th></th>\n",
       "      <th></th>\n",
       "    </tr>\n",
       "  </thead>\n",
       "  <tbody>\n",
       "    <tr>\n",
       "      <th>2020-11-02</th>\n",
       "      <td>1628.160034</td>\n",
       "      <td>1660.770020</td>\n",
       "      <td>1616.030029</td>\n",
       "      <td>1626.030029</td>\n",
       "      <td>1626.030029</td>\n",
       "      <td>2535400</td>\n",
       "      <td>NaN</td>\n",
       "      <td>1650.209961</td>\n",
       "      <td>NaN</td>\n",
       "    </tr>\n",
       "    <tr>\n",
       "      <th>2020-11-03</th>\n",
       "      <td>1631.780029</td>\n",
       "      <td>1661.699951</td>\n",
       "      <td>1616.619995</td>\n",
       "      <td>1650.209961</td>\n",
       "      <td>1650.209961</td>\n",
       "      <td>1661700</td>\n",
       "      <td>1626.030029</td>\n",
       "      <td>1749.130005</td>\n",
       "      <td>1.014871</td>\n",
       "    </tr>\n",
       "    <tr>\n",
       "      <th>2020-11-04</th>\n",
       "      <td>1710.280029</td>\n",
       "      <td>1771.364990</td>\n",
       "      <td>1706.030029</td>\n",
       "      <td>1749.130005</td>\n",
       "      <td>1749.130005</td>\n",
       "      <td>3570900</td>\n",
       "      <td>1650.209961</td>\n",
       "      <td>1763.369995</td>\n",
       "      <td>1.059944</td>\n",
       "    </tr>\n",
       "    <tr>\n",
       "      <th>2020-11-05</th>\n",
       "      <td>1781.000000</td>\n",
       "      <td>1793.640015</td>\n",
       "      <td>1750.510010</td>\n",
       "      <td>1763.369995</td>\n",
       "      <td>1763.369995</td>\n",
       "      <td>2065800</td>\n",
       "      <td>1749.130005</td>\n",
       "      <td>1761.750000</td>\n",
       "      <td>1.008141</td>\n",
       "    </tr>\n",
       "    <tr>\n",
       "      <th>2020-11-06</th>\n",
       "      <td>1753.949951</td>\n",
       "      <td>1772.430054</td>\n",
       "      <td>1740.349976</td>\n",
       "      <td>1761.750000</td>\n",
       "      <td>1761.750000</td>\n",
       "      <td>1660900</td>\n",
       "      <td>1763.369995</td>\n",
       "      <td>1763.000000</td>\n",
       "      <td>0.999081</td>\n",
       "    </tr>\n",
       "  </tbody>\n",
       "</table>\n",
       "</div>"
      ],
      "text/plain": [
       "                   Open         High          Low        Close    Adj Close  \\\n",
       "Date                                                                          \n",
       "2020-11-02  1628.160034  1660.770020  1616.030029  1626.030029  1626.030029   \n",
       "2020-11-03  1631.780029  1661.699951  1616.619995  1650.209961  1650.209961   \n",
       "2020-11-04  1710.280029  1771.364990  1706.030029  1749.130005  1749.130005   \n",
       "2020-11-05  1781.000000  1793.640015  1750.510010  1763.369995  1763.369995   \n",
       "2020-11-06  1753.949951  1772.430054  1740.349976  1761.750000  1761.750000   \n",
       "\n",
       "             Volume      shifted       lagged    change  \n",
       "Date                                                     \n",
       "2020-11-02  2535400          NaN  1650.209961       NaN  \n",
       "2020-11-03  1661700  1626.030029  1749.130005  1.014871  \n",
       "2020-11-04  3570900  1650.209961  1763.369995  1.059944  \n",
       "2020-11-05  2065800  1749.130005  1761.750000  1.008141  \n",
       "2020-11-06  1660900  1763.369995  1763.000000  0.999081  "
      ]
     },
     "execution_count": 33,
     "metadata": {},
     "output_type": "execute_result"
    }
   ],
   "source": [
    "google.head()"
   ]
  },
  {
   "cell_type": "markdown",
   "id": "ec1fba5c",
   "metadata": {},
   "source": [
    "## .diff(): built-in time-series change \n",
    "\n",
    "Difference in value for two adjacent periods \n",
    "\n",
    "xt-x(t-1)"
   ]
  },
  {
   "cell_type": "code",
   "execution_count": 34,
   "id": "2768760e",
   "metadata": {},
   "outputs": [],
   "source": [
    "google[\"diff\"]=google.Close.diff()"
   ]
  },
  {
   "cell_type": "code",
   "execution_count": 35,
   "id": "239ca02b",
   "metadata": {},
   "outputs": [
    {
     "data": {
      "text/html": [
       "<div>\n",
       "<style scoped>\n",
       "    .dataframe tbody tr th:only-of-type {\n",
       "        vertical-align: middle;\n",
       "    }\n",
       "\n",
       "    .dataframe tbody tr th {\n",
       "        vertical-align: top;\n",
       "    }\n",
       "\n",
       "    .dataframe thead th {\n",
       "        text-align: right;\n",
       "    }\n",
       "</style>\n",
       "<table border=\"1\" class=\"dataframe\">\n",
       "  <thead>\n",
       "    <tr style=\"text-align: right;\">\n",
       "      <th></th>\n",
       "      <th>Open</th>\n",
       "      <th>High</th>\n",
       "      <th>Low</th>\n",
       "      <th>Close</th>\n",
       "      <th>Adj Close</th>\n",
       "      <th>Volume</th>\n",
       "      <th>shifted</th>\n",
       "      <th>lagged</th>\n",
       "      <th>change</th>\n",
       "      <th>diff</th>\n",
       "    </tr>\n",
       "    <tr>\n",
       "      <th>Date</th>\n",
       "      <th></th>\n",
       "      <th></th>\n",
       "      <th></th>\n",
       "      <th></th>\n",
       "      <th></th>\n",
       "      <th></th>\n",
       "      <th></th>\n",
       "      <th></th>\n",
       "      <th></th>\n",
       "      <th></th>\n",
       "    </tr>\n",
       "  </thead>\n",
       "  <tbody>\n",
       "    <tr>\n",
       "      <th>2020-11-02</th>\n",
       "      <td>1628.160034</td>\n",
       "      <td>1660.770020</td>\n",
       "      <td>1616.030029</td>\n",
       "      <td>1626.030029</td>\n",
       "      <td>1626.030029</td>\n",
       "      <td>2535400</td>\n",
       "      <td>NaN</td>\n",
       "      <td>1650.209961</td>\n",
       "      <td>NaN</td>\n",
       "      <td>NaN</td>\n",
       "    </tr>\n",
       "    <tr>\n",
       "      <th>2020-11-03</th>\n",
       "      <td>1631.780029</td>\n",
       "      <td>1661.699951</td>\n",
       "      <td>1616.619995</td>\n",
       "      <td>1650.209961</td>\n",
       "      <td>1650.209961</td>\n",
       "      <td>1661700</td>\n",
       "      <td>1626.030029</td>\n",
       "      <td>1749.130005</td>\n",
       "      <td>1.014871</td>\n",
       "      <td>24.179932</td>\n",
       "    </tr>\n",
       "    <tr>\n",
       "      <th>2020-11-04</th>\n",
       "      <td>1710.280029</td>\n",
       "      <td>1771.364990</td>\n",
       "      <td>1706.030029</td>\n",
       "      <td>1749.130005</td>\n",
       "      <td>1749.130005</td>\n",
       "      <td>3570900</td>\n",
       "      <td>1650.209961</td>\n",
       "      <td>1763.369995</td>\n",
       "      <td>1.059944</td>\n",
       "      <td>98.920044</td>\n",
       "    </tr>\n",
       "    <tr>\n",
       "      <th>2020-11-05</th>\n",
       "      <td>1781.000000</td>\n",
       "      <td>1793.640015</td>\n",
       "      <td>1750.510010</td>\n",
       "      <td>1763.369995</td>\n",
       "      <td>1763.369995</td>\n",
       "      <td>2065800</td>\n",
       "      <td>1749.130005</td>\n",
       "      <td>1761.750000</td>\n",
       "      <td>1.008141</td>\n",
       "      <td>14.239990</td>\n",
       "    </tr>\n",
       "    <tr>\n",
       "      <th>2020-11-06</th>\n",
       "      <td>1753.949951</td>\n",
       "      <td>1772.430054</td>\n",
       "      <td>1740.349976</td>\n",
       "      <td>1761.750000</td>\n",
       "      <td>1761.750000</td>\n",
       "      <td>1660900</td>\n",
       "      <td>1763.369995</td>\n",
       "      <td>1763.000000</td>\n",
       "      <td>0.999081</td>\n",
       "      <td>-1.619995</td>\n",
       "    </tr>\n",
       "  </tbody>\n",
       "</table>\n",
       "</div>"
      ],
      "text/plain": [
       "                   Open         High          Low        Close    Adj Close  \\\n",
       "Date                                                                          \n",
       "2020-11-02  1628.160034  1660.770020  1616.030029  1626.030029  1626.030029   \n",
       "2020-11-03  1631.780029  1661.699951  1616.619995  1650.209961  1650.209961   \n",
       "2020-11-04  1710.280029  1771.364990  1706.030029  1749.130005  1749.130005   \n",
       "2020-11-05  1781.000000  1793.640015  1750.510010  1763.369995  1763.369995   \n",
       "2020-11-06  1753.949951  1772.430054  1740.349976  1761.750000  1761.750000   \n",
       "\n",
       "             Volume      shifted       lagged    change       diff  \n",
       "Date                                                                \n",
       "2020-11-02  2535400          NaN  1650.209961       NaN        NaN  \n",
       "2020-11-03  1661700  1626.030029  1749.130005  1.014871  24.179932  \n",
       "2020-11-04  3570900  1650.209961  1763.369995  1.059944  98.920044  \n",
       "2020-11-05  2065800  1749.130005  1761.750000  1.008141  14.239990  \n",
       "2020-11-06  1660900  1763.369995  1763.000000  0.999081  -1.619995  "
      ]
     },
     "execution_count": 35,
     "metadata": {},
     "output_type": "execute_result"
    }
   ],
   "source": [
    "google.head()"
   ]
  },
  {
   "cell_type": "markdown",
   "id": "f932837c",
   "metadata": {},
   "source": [
    "## .pct_change(): built-in time-series % change\n",
    "\n",
    "Since calculating period and percentage change is pretty common, pandas has a built-in method .pct_change() to calculate percent change for two adjacent periods.\n",
    "\n",
    "xt/x(t-1)"
   ]
  },
  {
   "cell_type": "code",
   "execution_count": 36,
   "id": "038c9dbe",
   "metadata": {},
   "outputs": [
    {
     "data": {
      "text/html": [
       "<div>\n",
       "<style scoped>\n",
       "    .dataframe tbody tr th:only-of-type {\n",
       "        vertical-align: middle;\n",
       "    }\n",
       "\n",
       "    .dataframe tbody tr th {\n",
       "        vertical-align: top;\n",
       "    }\n",
       "\n",
       "    .dataframe thead th {\n",
       "        text-align: right;\n",
       "    }\n",
       "</style>\n",
       "<table border=\"1\" class=\"dataframe\">\n",
       "  <thead>\n",
       "    <tr style=\"text-align: right;\">\n",
       "      <th></th>\n",
       "      <th>Open</th>\n",
       "      <th>High</th>\n",
       "      <th>Low</th>\n",
       "      <th>Close</th>\n",
       "      <th>Adj Close</th>\n",
       "      <th>Volume</th>\n",
       "      <th>shifted</th>\n",
       "      <th>lagged</th>\n",
       "      <th>change</th>\n",
       "      <th>diff</th>\n",
       "      <th>pct_change</th>\n",
       "    </tr>\n",
       "    <tr>\n",
       "      <th>Date</th>\n",
       "      <th></th>\n",
       "      <th></th>\n",
       "      <th></th>\n",
       "      <th></th>\n",
       "      <th></th>\n",
       "      <th></th>\n",
       "      <th></th>\n",
       "      <th></th>\n",
       "      <th></th>\n",
       "      <th></th>\n",
       "      <th></th>\n",
       "    </tr>\n",
       "  </thead>\n",
       "  <tbody>\n",
       "    <tr>\n",
       "      <th>2020-11-02</th>\n",
       "      <td>1628.160034</td>\n",
       "      <td>1660.770020</td>\n",
       "      <td>1616.030029</td>\n",
       "      <td>1626.030029</td>\n",
       "      <td>1626.030029</td>\n",
       "      <td>2535400</td>\n",
       "      <td>NaN</td>\n",
       "      <td>1650.209961</td>\n",
       "      <td>NaN</td>\n",
       "      <td>NaN</td>\n",
       "      <td>NaN</td>\n",
       "    </tr>\n",
       "    <tr>\n",
       "      <th>2020-11-03</th>\n",
       "      <td>1631.780029</td>\n",
       "      <td>1661.699951</td>\n",
       "      <td>1616.619995</td>\n",
       "      <td>1650.209961</td>\n",
       "      <td>1650.209961</td>\n",
       "      <td>1661700</td>\n",
       "      <td>1626.030029</td>\n",
       "      <td>1749.130005</td>\n",
       "      <td>1.014871</td>\n",
       "      <td>24.179932</td>\n",
       "      <td>1.487053</td>\n",
       "    </tr>\n",
       "    <tr>\n",
       "      <th>2020-11-04</th>\n",
       "      <td>1710.280029</td>\n",
       "      <td>1771.364990</td>\n",
       "      <td>1706.030029</td>\n",
       "      <td>1749.130005</td>\n",
       "      <td>1749.130005</td>\n",
       "      <td>3570900</td>\n",
       "      <td>1650.209961</td>\n",
       "      <td>1763.369995</td>\n",
       "      <td>1.059944</td>\n",
       "      <td>98.920044</td>\n",
       "      <td>5.994391</td>\n",
       "    </tr>\n",
       "    <tr>\n",
       "      <th>2020-11-05</th>\n",
       "      <td>1781.000000</td>\n",
       "      <td>1793.640015</td>\n",
       "      <td>1750.510010</td>\n",
       "      <td>1763.369995</td>\n",
       "      <td>1763.369995</td>\n",
       "      <td>2065800</td>\n",
       "      <td>1749.130005</td>\n",
       "      <td>1761.750000</td>\n",
       "      <td>1.008141</td>\n",
       "      <td>14.239990</td>\n",
       "      <td>0.814118</td>\n",
       "    </tr>\n",
       "    <tr>\n",
       "      <th>2020-11-06</th>\n",
       "      <td>1753.949951</td>\n",
       "      <td>1772.430054</td>\n",
       "      <td>1740.349976</td>\n",
       "      <td>1761.750000</td>\n",
       "      <td>1761.750000</td>\n",
       "      <td>1660900</td>\n",
       "      <td>1763.369995</td>\n",
       "      <td>1763.000000</td>\n",
       "      <td>0.999081</td>\n",
       "      <td>-1.619995</td>\n",
       "      <td>-0.091869</td>\n",
       "    </tr>\n",
       "  </tbody>\n",
       "</table>\n",
       "</div>"
      ],
      "text/plain": [
       "                   Open         High          Low        Close    Adj Close  \\\n",
       "Date                                                                          \n",
       "2020-11-02  1628.160034  1660.770020  1616.030029  1626.030029  1626.030029   \n",
       "2020-11-03  1631.780029  1661.699951  1616.619995  1650.209961  1650.209961   \n",
       "2020-11-04  1710.280029  1771.364990  1706.030029  1749.130005  1749.130005   \n",
       "2020-11-05  1781.000000  1793.640015  1750.510010  1763.369995  1763.369995   \n",
       "2020-11-06  1753.949951  1772.430054  1740.349976  1761.750000  1761.750000   \n",
       "\n",
       "             Volume      shifted       lagged    change       diff  pct_change  \n",
       "Date                                                                            \n",
       "2020-11-02  2535400          NaN  1650.209961       NaN        NaN         NaN  \n",
       "2020-11-03  1661700  1626.030029  1749.130005  1.014871  24.179932    1.487053  \n",
       "2020-11-04  3570900  1650.209961  1763.369995  1.059944  98.920044    5.994391  \n",
       "2020-11-05  2065800  1749.130005  1761.750000  1.008141  14.239990    0.814118  \n",
       "2020-11-06  1660900  1763.369995  1763.000000  0.999081  -1.619995   -0.091869  "
      ]
     },
     "execution_count": 36,
     "metadata": {},
     "output_type": "execute_result"
    }
   ],
   "source": [
    "google[\"pct_change\"]=google.Close.pct_change().mul(100)\n",
    "google.head()"
   ]
  },
  {
   "cell_type": "markdown",
   "id": "845285d9",
   "metadata": {},
   "source": [
    "## Comparing time series growth rates\n",
    "\n",
    "This will help us to compare different growth rates in a time-series\n",
    "\n",
    "Stock prices series are hard to compare because they start at different levels. An easier method is to normalize price series to start at 100 so that they start at same value. \n",
    "\n",
    "we do this by dividing all prices by the first element in the series and then multiply by 100. This will give same starting point to the time-series. All prices will become relative to the starting point. They will reflect difference to starting point in percentage points. "
   ]
  },
  {
   "cell_type": "code",
   "execution_count": 37,
   "id": "e5bd62a9",
   "metadata": {},
   "outputs": [
    {
     "data": {
      "text/html": [
       "<div>\n",
       "<style scoped>\n",
       "    .dataframe tbody tr th:only-of-type {\n",
       "        vertical-align: middle;\n",
       "    }\n",
       "\n",
       "    .dataframe tbody tr th {\n",
       "        vertical-align: top;\n",
       "    }\n",
       "\n",
       "    .dataframe thead th {\n",
       "        text-align: right;\n",
       "    }\n",
       "</style>\n",
       "<table border=\"1\" class=\"dataframe\">\n",
       "  <thead>\n",
       "    <tr style=\"text-align: right;\">\n",
       "      <th></th>\n",
       "      <th>Open</th>\n",
       "      <th>High</th>\n",
       "      <th>Low</th>\n",
       "      <th>Close</th>\n",
       "      <th>Adj Close</th>\n",
       "      <th>Volume</th>\n",
       "      <th>shifted</th>\n",
       "      <th>lagged</th>\n",
       "      <th>change</th>\n",
       "      <th>diff</th>\n",
       "      <th>pct_change</th>\n",
       "    </tr>\n",
       "    <tr>\n",
       "      <th>Date</th>\n",
       "      <th></th>\n",
       "      <th></th>\n",
       "      <th></th>\n",
       "      <th></th>\n",
       "      <th></th>\n",
       "      <th></th>\n",
       "      <th></th>\n",
       "      <th></th>\n",
       "      <th></th>\n",
       "      <th></th>\n",
       "      <th></th>\n",
       "    </tr>\n",
       "  </thead>\n",
       "  <tbody>\n",
       "    <tr>\n",
       "      <th>2020-11-02</th>\n",
       "      <td>1628.160034</td>\n",
       "      <td>1660.770020</td>\n",
       "      <td>1616.030029</td>\n",
       "      <td>1626.030029</td>\n",
       "      <td>1626.030029</td>\n",
       "      <td>2535400</td>\n",
       "      <td>NaN</td>\n",
       "      <td>1650.209961</td>\n",
       "      <td>NaN</td>\n",
       "      <td>NaN</td>\n",
       "      <td>NaN</td>\n",
       "    </tr>\n",
       "    <tr>\n",
       "      <th>2020-11-03</th>\n",
       "      <td>1631.780029</td>\n",
       "      <td>1661.699951</td>\n",
       "      <td>1616.619995</td>\n",
       "      <td>1650.209961</td>\n",
       "      <td>1650.209961</td>\n",
       "      <td>1661700</td>\n",
       "      <td>1626.030029</td>\n",
       "      <td>1749.130005</td>\n",
       "      <td>1.014871</td>\n",
       "      <td>24.179932</td>\n",
       "      <td>1.487053</td>\n",
       "    </tr>\n",
       "    <tr>\n",
       "      <th>2020-11-04</th>\n",
       "      <td>1710.280029</td>\n",
       "      <td>1771.364990</td>\n",
       "      <td>1706.030029</td>\n",
       "      <td>1749.130005</td>\n",
       "      <td>1749.130005</td>\n",
       "      <td>3570900</td>\n",
       "      <td>1650.209961</td>\n",
       "      <td>1763.369995</td>\n",
       "      <td>1.059944</td>\n",
       "      <td>98.920044</td>\n",
       "      <td>5.994391</td>\n",
       "    </tr>\n",
       "    <tr>\n",
       "      <th>2020-11-05</th>\n",
       "      <td>1781.000000</td>\n",
       "      <td>1793.640015</td>\n",
       "      <td>1750.510010</td>\n",
       "      <td>1763.369995</td>\n",
       "      <td>1763.369995</td>\n",
       "      <td>2065800</td>\n",
       "      <td>1749.130005</td>\n",
       "      <td>1761.750000</td>\n",
       "      <td>1.008141</td>\n",
       "      <td>14.239990</td>\n",
       "      <td>0.814118</td>\n",
       "    </tr>\n",
       "    <tr>\n",
       "      <th>2020-11-06</th>\n",
       "      <td>1753.949951</td>\n",
       "      <td>1772.430054</td>\n",
       "      <td>1740.349976</td>\n",
       "      <td>1761.750000</td>\n",
       "      <td>1761.750000</td>\n",
       "      <td>1660900</td>\n",
       "      <td>1763.369995</td>\n",
       "      <td>1763.000000</td>\n",
       "      <td>0.999081</td>\n",
       "      <td>-1.619995</td>\n",
       "      <td>-0.091869</td>\n",
       "    </tr>\n",
       "  </tbody>\n",
       "</table>\n",
       "</div>"
      ],
      "text/plain": [
       "                   Open         High          Low        Close    Adj Close  \\\n",
       "Date                                                                          \n",
       "2020-11-02  1628.160034  1660.770020  1616.030029  1626.030029  1626.030029   \n",
       "2020-11-03  1631.780029  1661.699951  1616.619995  1650.209961  1650.209961   \n",
       "2020-11-04  1710.280029  1771.364990  1706.030029  1749.130005  1749.130005   \n",
       "2020-11-05  1781.000000  1793.640015  1750.510010  1763.369995  1763.369995   \n",
       "2020-11-06  1753.949951  1772.430054  1740.349976  1761.750000  1761.750000   \n",
       "\n",
       "             Volume      shifted       lagged    change       diff  pct_change  \n",
       "Date                                                                            \n",
       "2020-11-02  2535400          NaN  1650.209961       NaN        NaN         NaN  \n",
       "2020-11-03  1661700  1626.030029  1749.130005  1.014871  24.179932    1.487053  \n",
       "2020-11-04  3570900  1650.209961  1763.369995  1.059944  98.920044    5.994391  \n",
       "2020-11-05  2065800  1749.130005  1761.750000  1.008141  14.239990    0.814118  \n",
       "2020-11-06  1660900  1763.369995  1763.000000  0.999081  -1.619995   -0.091869  "
      ]
     },
     "execution_count": 37,
     "metadata": {},
     "output_type": "execute_result"
    }
   ],
   "source": [
    "google.head()"
   ]
  },
  {
   "cell_type": "code",
   "execution_count": 38,
   "id": "5cd9cf32",
   "metadata": {},
   "outputs": [
    {
     "data": {
      "text/plain": [
       "1626.030029"
      ]
     },
     "execution_count": 38,
     "metadata": {},
     "output_type": "execute_result"
    }
   ],
   "source": [
    "first_price=google.Close.iloc[0]\n",
    "first_price"
   ]
  },
  {
   "cell_type": "code",
   "execution_count": 39,
   "id": "eb4998df",
   "metadata": {},
   "outputs": [
    {
     "data": {
      "text/plain": [
       "<AxesSubplot:title={'center':'Google normalized Series'}, xlabel='Date'>"
      ]
     },
     "execution_count": 39,
     "metadata": {},
     "output_type": "execute_result"
    },
    {
     "data": {
      "image/png": "[encoded data removed]",
      "text/plain": [
       "<Figure size 432x288 with 1 Axes>"
      ]
     },
     "metadata": {
      "needs_background": "light"
     },
     "output_type": "display_data"
    }
   ],
   "source": [
    "normalized=google.Close.div(first_price).mul(100)\n",
    "normalized.plot(title=\"Google normalized Series\")"
   ]
  },
  {
   "cell_type": "markdown",
   "id": "207a176a",
   "metadata": {},
   "source": [
    "## Changing the time series frequency: resampling\n",
    "\n",
    "You might sometimes need to convert two time series to same frequency to be able to analyze them together.\n",
    "\n",
    "In the pervious sections, we have seen how we can use DateTimeIndex to set and change frequency using .asfreq()\n",
    "\n",
    "However, frequency conversion affects the data.\n",
    "\n",
    "<li> When we upsample the data, we have new rows containung the missing dates and we need to fill or interpolate missing data </li>\n",
    "\n",
    "<li> On the other hand, if we downsample the data, we are supposed to aggregate existing data </li>\n",
    "\n",
    "#### Let's start working with quarterly data"
   ]
  },
  {
   "cell_type": "code",
   "execution_count": 40,
   "id": "caa8c0de",
   "metadata": {},
   "outputs": [
    {
     "data": {
      "text/plain": [
       "2016-03-31    1\n",
       "2016-06-30    2\n",
       "2016-09-30    3\n",
       "2016-12-31    4\n",
       "Freq: Q-DEC, dtype: int64"
      ]
     },
     "execution_count": 40,
     "metadata": {},
     "output_type": "execute_result"
    }
   ],
   "source": [
    "dates=pd.date_range(start=\"2016\", periods=4, freq=\"Q\")\n",
    "data=range(1,5)\n",
    "quarterly=range(1,5)\n",
    "quarterly=pd.Series(data=data, index=dates)\n",
    "quarterly"
   ]
  },
  {
   "cell_type": "code",
   "execution_count": 41,
   "id": "1b394029",
   "metadata": {},
   "outputs": [
    {
     "data": {
      "text/plain": [
       "2016-03-31    1.0\n",
       "2016-04-30    NaN\n",
       "2016-05-31    NaN\n",
       "2016-06-30    2.0\n",
       "2016-07-31    NaN\n",
       "2016-08-31    NaN\n",
       "2016-09-30    3.0\n",
       "2016-10-31    NaN\n",
       "2016-11-30    NaN\n",
       "2016-12-31    4.0\n",
       "Freq: M, dtype: float64"
      ]
     },
     "execution_count": 41,
     "metadata": {},
     "output_type": "execute_result"
    }
   ],
   "source": [
    "#upsampling from quarterly to monthly data \n",
    "\n",
    "monthly=quarterly.asfreq(\"M\")\n",
    "monthly"
   ]
  },
  {
   "cell_type": "markdown",
   "id": "4d9e68d4",
   "metadata": {},
   "source": [
    "You can notice here that pandas has added months in between the quarters to account for the upsampling.\n",
    "\n",
    "We will see different methods that pandas offers to fill the missing values\n",
    "\n",
    "We will create a DataFrame that contains all alternatives to the baseline, our first column. "
   ]
  },
  {
   "cell_type": "code",
   "execution_count": 42,
   "id": "eeda5873",
   "metadata": {},
   "outputs": [],
   "source": [
    "monthly=monthly.to_frame(\"baseline\")"
   ]
  },
  {
   "cell_type": "code",
   "execution_count": 43,
   "id": "6c66d8a5",
   "metadata": {},
   "outputs": [
    {
     "data": {
      "text/html": [
       "<div>\n",
       "<style scoped>\n",
       "    .dataframe tbody tr th:only-of-type {\n",
       "        vertical-align: middle;\n",
       "    }\n",
       "\n",
       "    .dataframe tbody tr th {\n",
       "        vertical-align: top;\n",
       "    }\n",
       "\n",
       "    .dataframe thead th {\n",
       "        text-align: right;\n",
       "    }\n",
       "</style>\n",
       "<table border=\"1\" class=\"dataframe\">\n",
       "  <thead>\n",
       "    <tr style=\"text-align: right;\">\n",
       "      <th></th>\n",
       "      <th>baseline</th>\n",
       "    </tr>\n",
       "  </thead>\n",
       "  <tbody>\n",
       "    <tr>\n",
       "      <th>2016-03-31</th>\n",
       "      <td>1.0</td>\n",
       "    </tr>\n",
       "    <tr>\n",
       "      <th>2016-04-30</th>\n",
       "      <td>NaN</td>\n",
       "    </tr>\n",
       "    <tr>\n",
       "      <th>2016-05-31</th>\n",
       "      <td>NaN</td>\n",
       "    </tr>\n",
       "    <tr>\n",
       "      <th>2016-06-30</th>\n",
       "      <td>2.0</td>\n",
       "    </tr>\n",
       "    <tr>\n",
       "      <th>2016-07-31</th>\n",
       "      <td>NaN</td>\n",
       "    </tr>\n",
       "    <tr>\n",
       "      <th>2016-08-31</th>\n",
       "      <td>NaN</td>\n",
       "    </tr>\n",
       "    <tr>\n",
       "      <th>2016-09-30</th>\n",
       "      <td>3.0</td>\n",
       "    </tr>\n",
       "    <tr>\n",
       "      <th>2016-10-31</th>\n",
       "      <td>NaN</td>\n",
       "    </tr>\n",
       "    <tr>\n",
       "      <th>2016-11-30</th>\n",
       "      <td>NaN</td>\n",
       "    </tr>\n",
       "    <tr>\n",
       "      <th>2016-12-31</th>\n",
       "      <td>4.0</td>\n",
       "    </tr>\n",
       "  </tbody>\n",
       "</table>\n",
       "</div>"
      ],
      "text/plain": [
       "            baseline\n",
       "2016-03-31       1.0\n",
       "2016-04-30       NaN\n",
       "2016-05-31       NaN\n",
       "2016-06-30       2.0\n",
       "2016-07-31       NaN\n",
       "2016-08-31       NaN\n",
       "2016-09-30       3.0\n",
       "2016-10-31       NaN\n",
       "2016-11-30       NaN\n",
       "2016-12-31       4.0"
      ]
     },
     "execution_count": 43,
     "metadata": {},
     "output_type": "execute_result"
    }
   ],
   "source": [
    "monthly"
   ]
  },
  {
   "cell_type": "markdown",
   "id": "70eea951",
   "metadata": {},
   "source": [
    "## Upsampling: fill methods\n",
    "<br>\n",
    "<li> Forward fill </li>\n",
    "<li> Backward fill </li> \n",
    "<li> Filling with a value </li>"
   ]
  },
  {
   "cell_type": "code",
   "execution_count": 44,
   "id": "c929f1d2",
   "metadata": {},
   "outputs": [],
   "source": [
    "monthly['ffill']=quarterly.asfreq(\"M\",method=\"ffill\")\n",
    "monthly[\"bfill\"]=quarterly.asfreq(\"M\",method=\"bfill\")\n",
    "monthly['value']=quarterly.asfreq(\"M\",fill_value=0)"
   ]
  },
  {
   "cell_type": "code",
   "execution_count": 45,
   "id": "892a7d10",
   "metadata": {},
   "outputs": [
    {
     "data": {
      "text/html": [
       "<div>\n",
       "<style scoped>\n",
       "    .dataframe tbody tr th:only-of-type {\n",
       "        vertical-align: middle;\n",
       "    }\n",
       "\n",
       "    .dataframe tbody tr th {\n",
       "        vertical-align: top;\n",
       "    }\n",
       "\n",
       "    .dataframe thead th {\n",
       "        text-align: right;\n",
       "    }\n",
       "</style>\n",
       "<table border=\"1\" class=\"dataframe\">\n",
       "  <thead>\n",
       "    <tr style=\"text-align: right;\">\n",
       "      <th></th>\n",
       "      <th>baseline</th>\n",
       "      <th>ffill</th>\n",
       "      <th>bfill</th>\n",
       "      <th>value</th>\n",
       "    </tr>\n",
       "  </thead>\n",
       "  <tbody>\n",
       "    <tr>\n",
       "      <th>2016-03-31</th>\n",
       "      <td>1.0</td>\n",
       "      <td>1</td>\n",
       "      <td>1</td>\n",
       "      <td>1</td>\n",
       "    </tr>\n",
       "    <tr>\n",
       "      <th>2016-04-30</th>\n",
       "      <td>NaN</td>\n",
       "      <td>1</td>\n",
       "      <td>2</td>\n",
       "      <td>0</td>\n",
       "    </tr>\n",
       "    <tr>\n",
       "      <th>2016-05-31</th>\n",
       "      <td>NaN</td>\n",
       "      <td>1</td>\n",
       "      <td>2</td>\n",
       "      <td>0</td>\n",
       "    </tr>\n",
       "    <tr>\n",
       "      <th>2016-06-30</th>\n",
       "      <td>2.0</td>\n",
       "      <td>2</td>\n",
       "      <td>2</td>\n",
       "      <td>2</td>\n",
       "    </tr>\n",
       "    <tr>\n",
       "      <th>2016-07-31</th>\n",
       "      <td>NaN</td>\n",
       "      <td>2</td>\n",
       "      <td>3</td>\n",
       "      <td>0</td>\n",
       "    </tr>\n",
       "    <tr>\n",
       "      <th>2016-08-31</th>\n",
       "      <td>NaN</td>\n",
       "      <td>2</td>\n",
       "      <td>3</td>\n",
       "      <td>0</td>\n",
       "    </tr>\n",
       "    <tr>\n",
       "      <th>2016-09-30</th>\n",
       "      <td>3.0</td>\n",
       "      <td>3</td>\n",
       "      <td>3</td>\n",
       "      <td>3</td>\n",
       "    </tr>\n",
       "    <tr>\n",
       "      <th>2016-10-31</th>\n",
       "      <td>NaN</td>\n",
       "      <td>3</td>\n",
       "      <td>4</td>\n",
       "      <td>0</td>\n",
       "    </tr>\n",
       "    <tr>\n",
       "      <th>2016-11-30</th>\n",
       "      <td>NaN</td>\n",
       "      <td>3</td>\n",
       "      <td>4</td>\n",
       "      <td>0</td>\n",
       "    </tr>\n",
       "    <tr>\n",
       "      <th>2016-12-31</th>\n",
       "      <td>4.0</td>\n",
       "      <td>4</td>\n",
       "      <td>4</td>\n",
       "      <td>4</td>\n",
       "    </tr>\n",
       "  </tbody>\n",
       "</table>\n",
       "</div>"
      ],
      "text/plain": [
       "            baseline  ffill  bfill  value\n",
       "2016-03-31       1.0      1      1      1\n",
       "2016-04-30       NaN      1      2      0\n",
       "2016-05-31       NaN      1      2      0\n",
       "2016-06-30       2.0      2      2      2\n",
       "2016-07-31       NaN      2      3      0\n",
       "2016-08-31       NaN      2      3      0\n",
       "2016-09-30       3.0      3      3      3\n",
       "2016-10-31       NaN      3      4      0\n",
       "2016-11-30       NaN      3      4      0\n",
       "2016-12-31       4.0      4      4      4"
      ]
     },
     "execution_count": 45,
     "metadata": {},
     "output_type": "execute_result"
    }
   ],
   "source": [
    "monthly"
   ]
  },
  {
   "cell_type": "markdown",
   "id": "622ff771",
   "metadata": {},
   "source": [
    "## Add missing months: .reindex()"
   ]
  },
  {
   "cell_type": "code",
   "execution_count": 46,
   "id": "e7e8fba9",
   "metadata": {},
   "outputs": [
    {
     "data": {
      "text/plain": [
       "DatetimeIndex(['2016-01-31', '2016-02-29', '2016-03-31', '2016-04-30',\n",
       "               '2016-05-31', '2016-06-30', '2016-07-31', '2016-08-31',\n",
       "               '2016-09-30', '2016-10-31', '2016-11-30', '2016-12-31'],\n",
       "              dtype='datetime64[ns]', freq='M')"
      ]
     },
     "execution_count": 46,
     "metadata": {},
     "output_type": "execute_result"
    }
   ],
   "source": [
    "dates=pd.date_range(start=\"2016\", periods=12, freq=\"M\")\n",
    "dates"
   ]
  },
  {
   "cell_type": "markdown",
   "id": "37910eb7",
   "metadata": {},
   "source": [
    ".reindex():\n",
    "    \n",
    "<li> conform DataFrame to new index </li>\n",
    "<li> sane filling logic as .asfreq() </li>"
   ]
  },
  {
   "cell_type": "code",
   "execution_count": 47,
   "id": "fc236bd9",
   "metadata": {},
   "outputs": [
    {
     "data": {
      "text/plain": [
       "2016-01-31    NaN\n",
       "2016-02-29    NaN\n",
       "2016-03-31    1.0\n",
       "2016-04-30    NaN\n",
       "2016-05-31    NaN\n",
       "2016-06-30    2.0\n",
       "2016-07-31    NaN\n",
       "2016-08-31    NaN\n",
       "2016-09-30    3.0\n",
       "2016-10-31    NaN\n",
       "2016-11-30    NaN\n",
       "2016-12-31    4.0\n",
       "Freq: M, dtype: float64"
      ]
     },
     "execution_count": 47,
     "metadata": {},
     "output_type": "execute_result"
    }
   ],
   "source": [
    "quarterly.reindex(dates)"
   ]
  },
  {
   "cell_type": "markdown",
   "id": "0294b1c5",
   "metadata": {},
   "source": [
    "## Upsampling and interpolation with .resample()\n",
    "\n",
    ".resample() is similar to .groupby()\n",
    "\n",
    "<li> Groups data within resampling period and applies one or several methods to each group </li>\n",
    "<li> New date determined by offset- start, end, etc </li>\n",
    "<li> Upsampling: fill from existing or interpolate values </li>"
   ]
  },
  {
   "cell_type": "code",
   "execution_count": 73,
   "id": "0e04526a",
   "metadata": {},
   "outputs": [
    {
     "name": "stdout",
     "output_type": "stream",
     "text": [
      "<class 'pandas.core.frame.DataFrame'>\n",
      "DatetimeIndex: 201 entries, 2005-01-01 to 2021-09-01\n",
      "Data columns (total 1 columns):\n",
      " #   Column  Non-Null Count  Dtype  \n",
      "---  ------  --------------  -----  \n",
      " 0   Rate    201 non-null    float64\n",
      "dtypes: float64(1)\n",
      "memory usage: 3.1 KB\n"
     ]
    }
   ],
   "source": [
    "unrate=pd.read_csv(\"/Users/srtpan/Downloads/unrate.csv\", parse_dates=[\"Date\"], index_col=\"Date\")\n",
    "unrate.info()"
   ]
  },
  {
   "cell_type": "code",
   "execution_count": 74,
   "id": "2e656987",
   "metadata": {},
   "outputs": [
    {
     "data": {
      "text/html": [
       "<div>\n",
       "<style scoped>\n",
       "    .dataframe tbody tr th:only-of-type {\n",
       "        vertical-align: middle;\n",
       "    }\n",
       "\n",
       "    .dataframe tbody tr th {\n",
       "        vertical-align: top;\n",
       "    }\n",
       "\n",
       "    .dataframe thead th {\n",
       "        text-align: right;\n",
       "    }\n",
       "</style>\n",
       "<table border=\"1\" class=\"dataframe\">\n",
       "  <thead>\n",
       "    <tr style=\"text-align: right;\">\n",
       "      <th></th>\n",
       "      <th>Rate</th>\n",
       "    </tr>\n",
       "    <tr>\n",
       "      <th>Date</th>\n",
       "      <th></th>\n",
       "    </tr>\n",
       "  </thead>\n",
       "  <tbody>\n",
       "    <tr>\n",
       "      <th>2005-01-01</th>\n",
       "      <td>5.3</td>\n",
       "    </tr>\n",
       "    <tr>\n",
       "      <th>2005-02-01</th>\n",
       "      <td>5.4</td>\n",
       "    </tr>\n",
       "    <tr>\n",
       "      <th>2005-03-01</th>\n",
       "      <td>5.2</td>\n",
       "    </tr>\n",
       "    <tr>\n",
       "      <th>2005-04-01</th>\n",
       "      <td>5.2</td>\n",
       "    </tr>\n",
       "    <tr>\n",
       "      <th>2005-05-01</th>\n",
       "      <td>5.1</td>\n",
       "    </tr>\n",
       "  </tbody>\n",
       "</table>\n",
       "</div>"
      ],
      "text/plain": [
       "            Rate\n",
       "Date            \n",
       "2005-01-01   5.3\n",
       "2005-02-01   5.4\n",
       "2005-03-01   5.2\n",
       "2005-04-01   5.2\n",
       "2005-05-01   5.1"
      ]
     },
     "execution_count": 74,
     "metadata": {},
     "output_type": "execute_result"
    }
   ],
   "source": [
    "unrate.head() "
   ]
  },
  {
   "cell_type": "markdown",
   "id": "0a68ec36",
   "metadata": {},
   "source": [
    "## Resampling period and frequency offests\n",
    "<br>\n",
    "\n",
    "<li> Resample creates new date for frequency offset </li>\n",
    "<li> Several alternatives to calendar month end </li>\n",
    "\n",
    "<ul> Calendar month end: \"M\" </ul>\n",
    "<ul> Calendar Month Start: \"MS\" </ul>\n",
    "<ul> Business Month End: \"BM\" </ul>\n",
    "<ul> (Business Month Start: \"BMS\" </ul>"
   ]
  },
  {
   "cell_type": "code",
   "execution_count": 81,
   "id": "202a8de6",
   "metadata": {},
   "outputs": [
    {
     "data": {
      "text/html": [
       "<div>\n",
       "<style scoped>\n",
       "    .dataframe tbody tr th:only-of-type {\n",
       "        vertical-align: middle;\n",
       "    }\n",
       "\n",
       "    .dataframe tbody tr th {\n",
       "        vertical-align: top;\n",
       "    }\n",
       "\n",
       "    .dataframe thead th {\n",
       "        text-align: right;\n",
       "    }\n",
       "</style>\n",
       "<table border=\"1\" class=\"dataframe\">\n",
       "  <thead>\n",
       "    <tr style=\"text-align: right;\">\n",
       "      <th></th>\n",
       "      <th>Rate</th>\n",
       "    </tr>\n",
       "    <tr>\n",
       "      <th>Date</th>\n",
       "      <th></th>\n",
       "    </tr>\n",
       "  </thead>\n",
       "  <tbody>\n",
       "    <tr>\n",
       "      <th>2005-01-01</th>\n",
       "      <td>5.3</td>\n",
       "    </tr>\n",
       "    <tr>\n",
       "      <th>2005-01-02</th>\n",
       "      <td>NaN</td>\n",
       "    </tr>\n",
       "    <tr>\n",
       "      <th>2005-01-03</th>\n",
       "      <td>NaN</td>\n",
       "    </tr>\n",
       "    <tr>\n",
       "      <th>2005-01-04</th>\n",
       "      <td>NaN</td>\n",
       "    </tr>\n",
       "    <tr>\n",
       "      <th>2005-01-05</th>\n",
       "      <td>NaN</td>\n",
       "    </tr>\n",
       "    <tr>\n",
       "      <th>...</th>\n",
       "      <td>...</td>\n",
       "    </tr>\n",
       "    <tr>\n",
       "      <th>2021-08-28</th>\n",
       "      <td>NaN</td>\n",
       "    </tr>\n",
       "    <tr>\n",
       "      <th>2021-08-29</th>\n",
       "      <td>NaN</td>\n",
       "    </tr>\n",
       "    <tr>\n",
       "      <th>2021-08-30</th>\n",
       "      <td>NaN</td>\n",
       "    </tr>\n",
       "    <tr>\n",
       "      <th>2021-08-31</th>\n",
       "      <td>NaN</td>\n",
       "    </tr>\n",
       "    <tr>\n",
       "      <th>2021-09-01</th>\n",
       "      <td>4.8</td>\n",
       "    </tr>\n",
       "  </tbody>\n",
       "</table>\n",
       "<p>6088 rows × 1 columns</p>\n",
       "</div>"
      ],
      "text/plain": [
       "            Rate\n",
       "Date            \n",
       "2005-01-01   5.3\n",
       "2005-01-02   NaN\n",
       "2005-01-03   NaN\n",
       "2005-01-04   NaN\n",
       "2005-01-05   NaN\n",
       "...          ...\n",
       "2021-08-28   NaN\n",
       "2021-08-29   NaN\n",
       "2021-08-30   NaN\n",
       "2021-08-31   NaN\n",
       "2021-09-01   4.8\n",
       "\n",
       "[6088 rows x 1 columns]"
      ]
     },
     "execution_count": 81,
     "metadata": {},
     "output_type": "execute_result"
    }
   ],
   "source": [
    "unrate.asfreq(\"D\")"
   ]
  },
  {
   "cell_type": "code",
   "execution_count": 82,
   "id": "bf49cecb",
   "metadata": {},
   "outputs": [
    {
     "data": {
      "text/plain": [
       "True"
      ]
     },
     "execution_count": 82,
     "metadata": {},
     "output_type": "execute_result"
    }
   ],
   "source": [
    "unrate.asfreq(\"MS\").equals(unrate.resample(\"MS\").asfreq())"
   ]
  },
  {
   "cell_type": "markdown",
   "id": "26c938cd",
   "metadata": {},
   "source": [
    "We can set the data to Month end and then use forward fill to fill the data and resample accordingly. "
   ]
  },
  {
   "cell_type": "code",
   "execution_count": 83,
   "id": "42460683",
   "metadata": {},
   "outputs": [],
   "source": [
    "unrate_ffill=unrate.resample(\"D\").ffill().add_suffix(\"_ffill\")"
   ]
  },
  {
   "cell_type": "code",
   "execution_count": 84,
   "id": "08d72baa",
   "metadata": {},
   "outputs": [
    {
     "data": {
      "text/html": [
       "<div>\n",
       "<style scoped>\n",
       "    .dataframe tbody tr th:only-of-type {\n",
       "        vertical-align: middle;\n",
       "    }\n",
       "\n",
       "    .dataframe tbody tr th {\n",
       "        vertical-align: top;\n",
       "    }\n",
       "\n",
       "    .dataframe thead th {\n",
       "        text-align: right;\n",
       "    }\n",
       "</style>\n",
       "<table border=\"1\" class=\"dataframe\">\n",
       "  <thead>\n",
       "    <tr style=\"text-align: right;\">\n",
       "      <th></th>\n",
       "      <th>Rate_ffill</th>\n",
       "    </tr>\n",
       "    <tr>\n",
       "      <th>Date</th>\n",
       "      <th></th>\n",
       "    </tr>\n",
       "  </thead>\n",
       "  <tbody>\n",
       "    <tr>\n",
       "      <th>2005-01-01</th>\n",
       "      <td>5.3</td>\n",
       "    </tr>\n",
       "    <tr>\n",
       "      <th>2005-01-02</th>\n",
       "      <td>5.3</td>\n",
       "    </tr>\n",
       "    <tr>\n",
       "      <th>2005-01-03</th>\n",
       "      <td>5.3</td>\n",
       "    </tr>\n",
       "    <tr>\n",
       "      <th>2005-01-04</th>\n",
       "      <td>5.3</td>\n",
       "    </tr>\n",
       "    <tr>\n",
       "      <th>2005-01-05</th>\n",
       "      <td>5.3</td>\n",
       "    </tr>\n",
       "    <tr>\n",
       "      <th>...</th>\n",
       "      <td>...</td>\n",
       "    </tr>\n",
       "    <tr>\n",
       "      <th>2021-08-28</th>\n",
       "      <td>5.2</td>\n",
       "    </tr>\n",
       "    <tr>\n",
       "      <th>2021-08-29</th>\n",
       "      <td>5.2</td>\n",
       "    </tr>\n",
       "    <tr>\n",
       "      <th>2021-08-30</th>\n",
       "      <td>5.2</td>\n",
       "    </tr>\n",
       "    <tr>\n",
       "      <th>2021-08-31</th>\n",
       "      <td>5.2</td>\n",
       "    </tr>\n",
       "    <tr>\n",
       "      <th>2021-09-01</th>\n",
       "      <td>4.8</td>\n",
       "    </tr>\n",
       "  </tbody>\n",
       "</table>\n",
       "<p>6088 rows × 1 columns</p>\n",
       "</div>"
      ],
      "text/plain": [
       "            Rate_ffill\n",
       "Date                  \n",
       "2005-01-01         5.3\n",
       "2005-01-02         5.3\n",
       "2005-01-03         5.3\n",
       "2005-01-04         5.3\n",
       "2005-01-05         5.3\n",
       "...                ...\n",
       "2021-08-28         5.2\n",
       "2021-08-29         5.2\n",
       "2021-08-30         5.2\n",
       "2021-08-31         5.2\n",
       "2021-09-01         4.8\n",
       "\n",
       "[6088 rows x 1 columns]"
      ]
     },
     "execution_count": 84,
     "metadata": {},
     "output_type": "execute_result"
    }
   ],
   "source": [
    "unrate_ffill"
   ]
  },
  {
   "cell_type": "markdown",
   "id": "79fe0d3d",
   "metadata": {},
   "source": [
    "## Downsampling and aggregation\n",
    "<br>\n",
    "\n",
    "Sometimes we might require to downsample our data; from hour to day and day to month. \n",
    "\n",
    "In this case, we need to think how to represent the existing values at the new date; mean, median or anything else?\n",
    "\n",
    "Going back to the Google data, the frequency is set as \"Daily\". We will try to create monthly data by resampling the daily data"
   ]
  },
  {
   "cell_type": "code",
   "execution_count": 86,
   "id": "8401d207",
   "metadata": {},
   "outputs": [
    {
     "data": {
      "text/html": [
       "<div>\n",
       "<style scoped>\n",
       "    .dataframe tbody tr th:only-of-type {\n",
       "        vertical-align: middle;\n",
       "    }\n",
       "\n",
       "    .dataframe tbody tr th {\n",
       "        vertical-align: top;\n",
       "    }\n",
       "\n",
       "    .dataframe thead th {\n",
       "        text-align: right;\n",
       "    }\n",
       "</style>\n",
       "<table border=\"1\" class=\"dataframe\">\n",
       "  <thead>\n",
       "    <tr style=\"text-align: right;\">\n",
       "      <th></th>\n",
       "      <th>Open</th>\n",
       "      <th>High</th>\n",
       "      <th>Low</th>\n",
       "      <th>Close</th>\n",
       "      <th>Adj Close</th>\n",
       "      <th>Volume</th>\n",
       "      <th>shifted</th>\n",
       "      <th>lagged</th>\n",
       "      <th>change</th>\n",
       "      <th>diff</th>\n",
       "      <th>pct_change</th>\n",
       "    </tr>\n",
       "    <tr>\n",
       "      <th>Date</th>\n",
       "      <th></th>\n",
       "      <th></th>\n",
       "      <th></th>\n",
       "      <th></th>\n",
       "      <th></th>\n",
       "      <th></th>\n",
       "      <th></th>\n",
       "      <th></th>\n",
       "      <th></th>\n",
       "      <th></th>\n",
       "      <th></th>\n",
       "    </tr>\n",
       "  </thead>\n",
       "  <tbody>\n",
       "    <tr>\n",
       "      <th>2020-11-30</th>\n",
       "      <td>1745.357190</td>\n",
       "      <td>1767.586499</td>\n",
       "      <td>1731.672998</td>\n",
       "      <td>1748.348499</td>\n",
       "      <td>1748.348499</td>\n",
       "      <td>1.751770e+06</td>\n",
       "      <td>1747.696315</td>\n",
       "      <td>1756.951996</td>\n",
       "      <td>1.004335</td>\n",
       "      <td>7.089998</td>\n",
       "      <td>0.433515</td>\n",
       "    </tr>\n",
       "    <tr>\n",
       "      <th>2020-12-31</th>\n",
       "      <td>1771.721153</td>\n",
       "      <td>1788.331005</td>\n",
       "      <td>1755.449674</td>\n",
       "      <td>1772.278182</td>\n",
       "      <td>1772.278182</td>\n",
       "      <td>1.430268e+06</td>\n",
       "      <td>1772.680908</td>\n",
       "      <td>1769.102728</td>\n",
       "      <td>0.999824</td>\n",
       "      <td>-0.402727</td>\n",
       "      <td>-0.017590</td>\n",
       "    </tr>\n",
       "    <tr>\n",
       "      <th>2021-01-31</th>\n",
       "      <td>1802.270000</td>\n",
       "      <td>1830.654997</td>\n",
       "      <td>1782.300801</td>\n",
       "      <td>1808.383693</td>\n",
       "      <td>1808.383693</td>\n",
       "      <td>1.741195e+06</td>\n",
       "      <td>1803.970009</td>\n",
       "      <td>1817.494744</td>\n",
       "      <td>1.002684</td>\n",
       "      <td>4.413683</td>\n",
       "      <td>0.268396</td>\n",
       "    </tr>\n",
       "    <tr>\n",
       "      <th>2021-02-28</th>\n",
       "      <td>2060.119462</td>\n",
       "      <td>2090.174426</td>\n",
       "      <td>2042.307373</td>\n",
       "      <td>2068.356824</td>\n",
       "      <td>2068.356824</td>\n",
       "      <td>1.548895e+06</td>\n",
       "      <td>2057.771561</td>\n",
       "      <td>2077.838931</td>\n",
       "      <td>1.005698</td>\n",
       "      <td>10.585263</td>\n",
       "      <td>0.569795</td>\n",
       "    </tr>\n",
       "    <tr>\n",
       "      <th>2021-03-31</th>\n",
       "      <td>2061.127834</td>\n",
       "      <td>2084.976849</td>\n",
       "      <td>2038.413702</td>\n",
       "      <td>2059.844785</td>\n",
       "      <td>2059.844785</td>\n",
       "      <td>1.512791e+06</td>\n",
       "      <td>2058.463485</td>\n",
       "      <td>2062.290002</td>\n",
       "      <td>1.000812</td>\n",
       "      <td>1.381300</td>\n",
       "      <td>0.081222</td>\n",
       "    </tr>\n",
       "  </tbody>\n",
       "</table>\n",
       "</div>"
      ],
      "text/plain": [
       "                   Open         High          Low        Close    Adj Close  \\\n",
       "Date                                                                          \n",
       "2020-11-30  1745.357190  1767.586499  1731.672998  1748.348499  1748.348499   \n",
       "2020-12-31  1771.721153  1788.331005  1755.449674  1772.278182  1772.278182   \n",
       "2021-01-31  1802.270000  1830.654997  1782.300801  1808.383693  1808.383693   \n",
       "2021-02-28  2060.119462  2090.174426  2042.307373  2068.356824  2068.356824   \n",
       "2021-03-31  2061.127834  2084.976849  2038.413702  2059.844785  2059.844785   \n",
       "\n",
       "                  Volume      shifted       lagged    change       diff  \\\n",
       "Date                                                                      \n",
       "2020-11-30  1.751770e+06  1747.696315  1756.951996  1.004335   7.089998   \n",
       "2020-12-31  1.430268e+06  1772.680908  1769.102728  0.999824  -0.402727   \n",
       "2021-01-31  1.741195e+06  1803.970009  1817.494744  1.002684   4.413683   \n",
       "2021-02-28  1.548895e+06  2057.771561  2077.838931  1.005698  10.585263   \n",
       "2021-03-31  1.512791e+06  2058.463485  2062.290002  1.000812   1.381300   \n",
       "\n",
       "            pct_change  \n",
       "Date                    \n",
       "2020-11-30    0.433515  \n",
       "2020-12-31   -0.017590  \n",
       "2021-01-31    0.268396  \n",
       "2021-02-28    0.569795  \n",
       "2021-03-31    0.081222  "
      ]
     },
     "execution_count": 86,
     "metadata": {},
     "output_type": "execute_result"
    }
   ],
   "source": [
    "google.resample(\"M\").mean().head() #this assigns monthly average to end of calendar month\n",
    "#we can do something similar for median values"
   ]
  },
  {
   "cell_type": "code",
   "execution_count": 88,
   "id": "fc5178b0",
   "metadata": {},
   "outputs": [
    {
     "data": {
      "text/html": [
       "<div>\n",
       "<style scoped>\n",
       "    .dataframe tbody tr th:only-of-type {\n",
       "        vertical-align: middle;\n",
       "    }\n",
       "\n",
       "    .dataframe tbody tr th {\n",
       "        vertical-align: top;\n",
       "    }\n",
       "\n",
       "    .dataframe thead tr th {\n",
       "        text-align: left;\n",
       "    }\n",
       "\n",
       "    .dataframe thead tr:last-of-type th {\n",
       "        text-align: right;\n",
       "    }\n",
       "</style>\n",
       "<table border=\"1\" class=\"dataframe\">\n",
       "  <thead>\n",
       "    <tr>\n",
       "      <th></th>\n",
       "      <th colspan=\"2\" halign=\"left\">Open</th>\n",
       "      <th colspan=\"2\" halign=\"left\">High</th>\n",
       "      <th colspan=\"2\" halign=\"left\">Low</th>\n",
       "      <th colspan=\"2\" halign=\"left\">Close</th>\n",
       "      <th colspan=\"2\" halign=\"left\">Adj Close</th>\n",
       "      <th>...</th>\n",
       "      <th colspan=\"2\" halign=\"left\">shifted</th>\n",
       "      <th colspan=\"2\" halign=\"left\">lagged</th>\n",
       "      <th colspan=\"2\" halign=\"left\">change</th>\n",
       "      <th colspan=\"2\" halign=\"left\">diff</th>\n",
       "      <th colspan=\"2\" halign=\"left\">pct_change</th>\n",
       "    </tr>\n",
       "    <tr>\n",
       "      <th></th>\n",
       "      <th>mean</th>\n",
       "      <th>std</th>\n",
       "      <th>mean</th>\n",
       "      <th>std</th>\n",
       "      <th>mean</th>\n",
       "      <th>std</th>\n",
       "      <th>mean</th>\n",
       "      <th>std</th>\n",
       "      <th>mean</th>\n",
       "      <th>std</th>\n",
       "      <th>...</th>\n",
       "      <th>mean</th>\n",
       "      <th>std</th>\n",
       "      <th>mean</th>\n",
       "      <th>std</th>\n",
       "      <th>mean</th>\n",
       "      <th>std</th>\n",
       "      <th>mean</th>\n",
       "      <th>std</th>\n",
       "      <th>mean</th>\n",
       "      <th>std</th>\n",
       "    </tr>\n",
       "    <tr>\n",
       "      <th>Date</th>\n",
       "      <th></th>\n",
       "      <th></th>\n",
       "      <th></th>\n",
       "      <th></th>\n",
       "      <th></th>\n",
       "      <th></th>\n",
       "      <th></th>\n",
       "      <th></th>\n",
       "      <th></th>\n",
       "      <th></th>\n",
       "      <th></th>\n",
       "      <th></th>\n",
       "      <th></th>\n",
       "      <th></th>\n",
       "      <th></th>\n",
       "      <th></th>\n",
       "      <th></th>\n",
       "      <th></th>\n",
       "      <th></th>\n",
       "      <th></th>\n",
       "      <th></th>\n",
       "    </tr>\n",
       "  </thead>\n",
       "  <tbody>\n",
       "    <tr>\n",
       "      <th>2020-11-30</th>\n",
       "      <td>1745.357190</td>\n",
       "      <td>44.273822</td>\n",
       "      <td>1767.586499</td>\n",
       "      <td>39.431870</td>\n",
       "      <td>1731.672998</td>\n",
       "      <td>43.064247</td>\n",
       "      <td>1748.348499</td>\n",
       "      <td>40.568290</td>\n",
       "      <td>1748.348499</td>\n",
       "      <td>40.568290</td>\n",
       "      <td>...</td>\n",
       "      <td>1747.696315</td>\n",
       "      <td>41.572097</td>\n",
       "      <td>1756.951996</td>\n",
       "      <td>30.177488</td>\n",
       "      <td>1.004335</td>\n",
       "      <td>0.017215</td>\n",
       "      <td>7.089998</td>\n",
       "      <td>29.090893</td>\n",
       "      <td>0.433515</td>\n",
       "      <td>1.721479</td>\n",
       "    </tr>\n",
       "    <tr>\n",
       "      <th>2020-12-31</th>\n",
       "      <td>1771.721153</td>\n",
       "      <td>32.456201</td>\n",
       "      <td>1788.331005</td>\n",
       "      <td>35.161001</td>\n",
       "      <td>1755.449674</td>\n",
       "      <td>33.683957</td>\n",
       "      <td>1772.278182</td>\n",
       "      <td>34.406810</td>\n",
       "      <td>1772.278182</td>\n",
       "      <td>34.406810</td>\n",
       "      <td>...</td>\n",
       "      <td>1772.680908</td>\n",
       "      <td>34.207961</td>\n",
       "      <td>1769.102728</td>\n",
       "      <td>35.126412</td>\n",
       "      <td>0.999824</td>\n",
       "      <td>0.010593</td>\n",
       "      <td>-0.402727</td>\n",
       "      <td>18.749279</td>\n",
       "      <td>-0.017590</td>\n",
       "      <td>1.059280</td>\n",
       "    </tr>\n",
       "    <tr>\n",
       "      <th>2021-01-31</th>\n",
       "      <td>1802.270000</td>\n",
       "      <td>69.906849</td>\n",
       "      <td>1830.654997</td>\n",
       "      <td>70.145961</td>\n",
       "      <td>1782.300801</td>\n",
       "      <td>65.704537</td>\n",
       "      <td>1808.383693</td>\n",
       "      <td>67.250379</td>\n",
       "      <td>1808.383693</td>\n",
       "      <td>67.250379</td>\n",
       "      <td>...</td>\n",
       "      <td>1803.970009</td>\n",
       "      <td>68.101726</td>\n",
       "      <td>1817.494744</td>\n",
       "      <td>67.515243</td>\n",
       "      <td>1.002684</td>\n",
       "      <td>0.021607</td>\n",
       "      <td>4.413683</td>\n",
       "      <td>39.243680</td>\n",
       "      <td>0.268396</td>\n",
       "      <td>2.160702</td>\n",
       "    </tr>\n",
       "    <tr>\n",
       "      <th>2021-02-28</th>\n",
       "      <td>2060.119462</td>\n",
       "      <td>66.381665</td>\n",
       "      <td>2090.174426</td>\n",
       "      <td>57.331024</td>\n",
       "      <td>2042.307373</td>\n",
       "      <td>65.136723</td>\n",
       "      <td>2068.356824</td>\n",
       "      <td>60.215095</td>\n",
       "      <td>2068.356824</td>\n",
       "      <td>60.215095</td>\n",
       "      <td>...</td>\n",
       "      <td>2057.771561</td>\n",
       "      <td>80.365509</td>\n",
       "      <td>2077.838931</td>\n",
       "      <td>44.621159</td>\n",
       "      <td>1.005698</td>\n",
       "      <td>0.021409</td>\n",
       "      <td>10.585263</td>\n",
       "      <td>41.911053</td>\n",
       "      <td>0.569795</td>\n",
       "      <td>2.140943</td>\n",
       "    </tr>\n",
       "    <tr>\n",
       "      <th>2021-03-31</th>\n",
       "      <td>2061.127834</td>\n",
       "      <td>18.650866</td>\n",
       "      <td>2084.976849</td>\n",
       "      <td>23.875169</td>\n",
       "      <td>2038.413702</td>\n",
       "      <td>19.192515</td>\n",
       "      <td>2059.844785</td>\n",
       "      <td>24.549901</td>\n",
       "      <td>2059.844785</td>\n",
       "      <td>24.549901</td>\n",
       "      <td>...</td>\n",
       "      <td>2058.463485</td>\n",
       "      <td>24.924055</td>\n",
       "      <td>2062.290002</td>\n",
       "      <td>29.171647</td>\n",
       "      <td>1.000812</td>\n",
       "      <td>0.017004</td>\n",
       "      <td>1.381300</td>\n",
       "      <td>35.320165</td>\n",
       "      <td>0.081222</td>\n",
       "      <td>1.700355</td>\n",
       "    </tr>\n",
       "  </tbody>\n",
       "</table>\n",
       "<p>5 rows × 22 columns</p>\n",
       "</div>"
      ],
      "text/plain": [
       "                   Open                    High                     Low  \\\n",
       "                   mean        std         mean        std         mean   \n",
       "Date                                                                      \n",
       "2020-11-30  1745.357190  44.273822  1767.586499  39.431870  1731.672998   \n",
       "2020-12-31  1771.721153  32.456201  1788.331005  35.161001  1755.449674   \n",
       "2021-01-31  1802.270000  69.906849  1830.654997  70.145961  1782.300801   \n",
       "2021-02-28  2060.119462  66.381665  2090.174426  57.331024  2042.307373   \n",
       "2021-03-31  2061.127834  18.650866  2084.976849  23.875169  2038.413702   \n",
       "\n",
       "                             Close               Adj Close             ...  \\\n",
       "                  std         mean        std         mean        std  ...   \n",
       "Date                                                                   ...   \n",
       "2020-11-30  43.064247  1748.348499  40.568290  1748.348499  40.568290  ...   \n",
       "2020-12-31  33.683957  1772.278182  34.406810  1772.278182  34.406810  ...   \n",
       "2021-01-31  65.704537  1808.383693  67.250379  1808.383693  67.250379  ...   \n",
       "2021-02-28  65.136723  2068.356824  60.215095  2068.356824  60.215095  ...   \n",
       "2021-03-31  19.192515  2059.844785  24.549901  2059.844785  24.549901  ...   \n",
       "\n",
       "                shifted                  lagged               change  \\\n",
       "                   mean        std         mean        std      mean   \n",
       "Date                                                                   \n",
       "2020-11-30  1747.696315  41.572097  1756.951996  30.177488  1.004335   \n",
       "2020-12-31  1772.680908  34.207961  1769.102728  35.126412  0.999824   \n",
       "2021-01-31  1803.970009  68.101726  1817.494744  67.515243  1.002684   \n",
       "2021-02-28  2057.771561  80.365509  2077.838931  44.621159  1.005698   \n",
       "2021-03-31  2058.463485  24.924055  2062.290002  29.171647  1.000812   \n",
       "\n",
       "                           diff            pct_change            \n",
       "                 std       mean        std       mean       std  \n",
       "Date                                                             \n",
       "2020-11-30  0.017215   7.089998  29.090893   0.433515  1.721479  \n",
       "2020-12-31  0.010593  -0.402727  18.749279  -0.017590  1.059280  \n",
       "2021-01-31  0.021607   4.413683  39.243680   0.268396  2.160702  \n",
       "2021-02-28  0.021409  10.585263  41.911053   0.569795  2.140943  \n",
       "2021-03-31  0.017004   1.381300  35.320165   0.081222  1.700355  \n",
       "\n",
       "[5 rows x 22 columns]"
      ]
     },
     "execution_count": 88,
     "metadata": {},
     "output_type": "execute_result"
    }
   ],
   "source": [
    "google.resample(\"M\").agg(['mean','std']).head()"
   ]
  },
  {
   "cell_type": "code",
   "execution_count": 91,
   "id": "4a57f6e1",
   "metadata": {},
   "outputs": [
    {
     "data": {
      "image/png": "[encoded data removed]",
      "text/plain": [
       "<Figure size 432x288 with 1 Axes>"
      ]
     },
     "metadata": {
      "needs_background": "light"
     },
     "output_type": "display_data"
    }
   ],
   "source": [
    "ax=google[\"Close\"].plot()\n",
    "monthly=google.resample(\"M\").mean()\n"
   ]
  },
  {
   "cell_type": "markdown",
   "id": "12e12772",
   "metadata": {},
   "source": [
    "## Rolling window functions\n",
    "\n",
    "Window function in Python is quite useful as it helps to identify sub periods of our time series and helps us to create time series from the main time series. \n",
    "\n",
    "It helps us to calculate metrics for sub periods inside the window. It also allows us to create a new time series containing data points that represent a summary of several data points of the original time series. \n",
    "\n",
    "Two main types of windows:\n",
    "\n",
    "<li> Rolling: same size, sliding </li>\n",
    "<li> Expanding: contain all prior values </li>\n",
    "\n",
    "## Calculating a rolling average\n",
    "\n",
    "Let's go back to the Google data"
   ]
  },
  {
   "cell_type": "code",
   "execution_count": 93,
   "id": "5ee4441d",
   "metadata": {},
   "outputs": [],
   "source": [
    "data=pd.read_csv(\"/Users/srtpan/Downloads/GOOG.csv\", parse_dates=[\"Date\"], index_col=\"Date\")"
   ]
  },
  {
   "cell_type": "code",
   "execution_count": 94,
   "id": "34fbb99c",
   "metadata": {},
   "outputs": [
    {
     "data": {
      "text/html": [
       "<div>\n",
       "<style scoped>\n",
       "    .dataframe tbody tr th:only-of-type {\n",
       "        vertical-align: middle;\n",
       "    }\n",
       "\n",
       "    .dataframe tbody tr th {\n",
       "        vertical-align: top;\n",
       "    }\n",
       "\n",
       "    .dataframe thead th {\n",
       "        text-align: right;\n",
       "    }\n",
       "</style>\n",
       "<table border=\"1\" class=\"dataframe\">\n",
       "  <thead>\n",
       "    <tr style=\"text-align: right;\">\n",
       "      <th></th>\n",
       "      <th>Open</th>\n",
       "      <th>High</th>\n",
       "      <th>Low</th>\n",
       "      <th>Close</th>\n",
       "      <th>Adj Close</th>\n",
       "      <th>Volume</th>\n",
       "    </tr>\n",
       "    <tr>\n",
       "      <th>Date</th>\n",
       "      <th></th>\n",
       "      <th></th>\n",
       "      <th></th>\n",
       "      <th></th>\n",
       "      <th></th>\n",
       "      <th></th>\n",
       "    </tr>\n",
       "  </thead>\n",
       "  <tbody>\n",
       "    <tr>\n",
       "      <th>2020-11-02</th>\n",
       "      <td>NaN</td>\n",
       "      <td>NaN</td>\n",
       "      <td>NaN</td>\n",
       "      <td>NaN</td>\n",
       "      <td>NaN</td>\n",
       "      <td>NaN</td>\n",
       "    </tr>\n",
       "    <tr>\n",
       "      <th>2020-11-03</th>\n",
       "      <td>NaN</td>\n",
       "      <td>NaN</td>\n",
       "      <td>NaN</td>\n",
       "      <td>NaN</td>\n",
       "      <td>NaN</td>\n",
       "      <td>NaN</td>\n",
       "    </tr>\n",
       "    <tr>\n",
       "      <th>2020-11-04</th>\n",
       "      <td>NaN</td>\n",
       "      <td>NaN</td>\n",
       "      <td>NaN</td>\n",
       "      <td>NaN</td>\n",
       "      <td>NaN</td>\n",
       "      <td>NaN</td>\n",
       "    </tr>\n",
       "    <tr>\n",
       "      <th>2020-11-05</th>\n",
       "      <td>NaN</td>\n",
       "      <td>NaN</td>\n",
       "      <td>NaN</td>\n",
       "      <td>NaN</td>\n",
       "      <td>NaN</td>\n",
       "      <td>NaN</td>\n",
       "    </tr>\n",
       "    <tr>\n",
       "      <th>2020-11-06</th>\n",
       "      <td>NaN</td>\n",
       "      <td>NaN</td>\n",
       "      <td>NaN</td>\n",
       "      <td>NaN</td>\n",
       "      <td>NaN</td>\n",
       "      <td>NaN</td>\n",
       "    </tr>\n",
       "    <tr>\n",
       "      <th>...</th>\n",
       "      <td>...</td>\n",
       "      <td>...</td>\n",
       "      <td>...</td>\n",
       "      <td>...</td>\n",
       "      <td>...</td>\n",
       "      <td>...</td>\n",
       "    </tr>\n",
       "    <tr>\n",
       "      <th>2021-10-25</th>\n",
       "      <td>2797.826937</td>\n",
       "      <td>2818.700627</td>\n",
       "      <td>2770.468970</td>\n",
       "      <td>2795.270345</td>\n",
       "      <td>2795.270345</td>\n",
       "      <td>1.174937e+06</td>\n",
       "    </tr>\n",
       "    <tr>\n",
       "      <th>2021-10-26</th>\n",
       "      <td>2795.456942</td>\n",
       "      <td>2816.108626</td>\n",
       "      <td>2767.868970</td>\n",
       "      <td>2792.781006</td>\n",
       "      <td>2792.781006</td>\n",
       "      <td>1.190507e+06</td>\n",
       "    </tr>\n",
       "    <tr>\n",
       "      <th>2021-10-27</th>\n",
       "      <td>2792.885946</td>\n",
       "      <td>2818.466300</td>\n",
       "      <td>2766.299967</td>\n",
       "      <td>2793.595337</td>\n",
       "      <td>2793.595337</td>\n",
       "      <td>1.242510e+06</td>\n",
       "    </tr>\n",
       "    <tr>\n",
       "      <th>2021-10-28</th>\n",
       "      <td>2794.337948</td>\n",
       "      <td>2819.949300</td>\n",
       "      <td>2767.198071</td>\n",
       "      <td>2794.765674</td>\n",
       "      <td>2794.765674</td>\n",
       "      <td>1.262720e+06</td>\n",
       "    </tr>\n",
       "    <tr>\n",
       "      <th>2021-10-29</th>\n",
       "      <td>2795.485612</td>\n",
       "      <td>2822.858301</td>\n",
       "      <td>2769.934741</td>\n",
       "      <td>2799.303670</td>\n",
       "      <td>2799.303670</td>\n",
       "      <td>1.210897e+06</td>\n",
       "    </tr>\n",
       "  </tbody>\n",
       "</table>\n",
       "<p>251 rows × 6 columns</p>\n",
       "</div>"
      ],
      "text/plain": [
       "                   Open         High          Low        Close    Adj Close  \\\n",
       "Date                                                                          \n",
       "2020-11-02          NaN          NaN          NaN          NaN          NaN   \n",
       "2020-11-03          NaN          NaN          NaN          NaN          NaN   \n",
       "2020-11-04          NaN          NaN          NaN          NaN          NaN   \n",
       "2020-11-05          NaN          NaN          NaN          NaN          NaN   \n",
       "2020-11-06          NaN          NaN          NaN          NaN          NaN   \n",
       "...                 ...          ...          ...          ...          ...   \n",
       "2021-10-25  2797.826937  2818.700627  2770.468970  2795.270345  2795.270345   \n",
       "2021-10-26  2795.456942  2816.108626  2767.868970  2792.781006  2792.781006   \n",
       "2021-10-27  2792.885946  2818.466300  2766.299967  2793.595337  2793.595337   \n",
       "2021-10-28  2794.337948  2819.949300  2767.198071  2794.765674  2794.765674   \n",
       "2021-10-29  2795.485612  2822.858301  2769.934741  2799.303670  2799.303670   \n",
       "\n",
       "                  Volume  \n",
       "Date                      \n",
       "2020-11-02           NaN  \n",
       "2020-11-03           NaN  \n",
       "2020-11-04           NaN  \n",
       "2020-11-05           NaN  \n",
       "2020-11-06           NaN  \n",
       "...                  ...  \n",
       "2021-10-25  1.174937e+06  \n",
       "2021-10-26  1.190507e+06  \n",
       "2021-10-27  1.242510e+06  \n",
       "2021-10-28  1.262720e+06  \n",
       "2021-10-29  1.210897e+06  \n",
       "\n",
       "[251 rows x 6 columns]"
      ]
     },
     "execution_count": 94,
     "metadata": {},
     "output_type": "execute_result"
    }
   ],
   "source": [
    "data.rolling(window=30).mean()\n",
    "\n",
    "#window=30\n",
    "#min_periods: choose value<30 to get results for first days"
   ]
  },
  {
   "cell_type": "code",
   "execution_count": 95,
   "id": "167d83ed",
   "metadata": {},
   "outputs": [
    {
     "data": {
      "text/plain": [
       "<AxesSubplot:xlabel='Date'>"
      ]
     },
     "execution_count": 95,
     "metadata": {},
     "output_type": "execute_result"
    },
    {
     "data": {
      "image/png": "[encoded data removed]",
      "text/plain": [
       "<Figure size 432x288 with 1 Axes>"
      ]
     },
     "metadata": {
      "needs_background": "light"
     },
     "output_type": "display_data"
    }
   ],
   "source": [
    "r90=data.rolling(window=\"90D\").mean()\n",
    "google.join(r90.add_suffix(\"_mean_90\")).plot() "
   ]
  },
  {
   "cell_type": "markdown",
   "id": "fa28959a",
   "metadata": {},
   "source": [
    "You can observe the plot containing 90 days data  is much smoother because every data point is average of previous 90 days.\n",
    "\n",
    "Also, you can see when short term trends deviate from longer term trends. For instance, we can point out when the 90 day avergae dips below the 360 days average.\n",
    "\n",
    "## Multiple rolling metrics"
   ]
  },
  {
   "cell_type": "code",
   "execution_count": 97,
   "id": "911b750c",
   "metadata": {},
   "outputs": [
    {
     "data": {
      "text/plain": [
       "array([<AxesSubplot:xlabel='Date'>, <AxesSubplot:xlabel='Date'>],\n",
       "      dtype=object)"
      ]
     },
     "execution_count": 97,
     "metadata": {},
     "output_type": "execute_result"
    },
    {
     "data": {
      "image/png": "[encoded data removed]",
      "text/plain": [
       "<Figure size 432x288 with 2 Axes>"
      ]
     },
     "metadata": {
      "needs_background": "light"
     },
     "output_type": "display_data"
    }
   ],
   "source": [
    "r=data.Close.rolling(\"90D\").agg([\"mean\",\"std\"])\n",
    "r.plot(subplots=True)"
   ]
  },
  {
   "cell_type": "code",
   "execution_count": 98,
   "id": "e5d5bd41",
   "metadata": {},
   "outputs": [
    {
     "data": {
      "text/plain": [
       "<AxesSubplot:xlabel='Date'>"
      ]
     },
     "execution_count": 98,
     "metadata": {},
     "output_type": "execute_result"
    },
    {
     "data": {
      "image/png": "[encoded data removed]",
      "text/plain": [
       "<Figure size 432x288 with 1 Axes>"
      ]
     },
     "metadata": {
      "needs_background": "light"
     },
     "output_type": "display_data"
    }
   ],
   "source": [
    "rolling=data.Close.rolling(\"360D\")\n",
    "q10=rolling.quantile(0.1).to_frame(\"q10\")\n",
    "median=rolling.median().to_frame(\"median\")\n",
    "q90=rolling.quantile(0.9).to_frame(\"q90\")\n",
    "pd.concat([q10,median,q90],axis=1).plot()"
   ]
  },
  {
   "cell_type": "markdown",
   "id": "68f12339",
   "metadata": {},
   "source": [
    "## Expanding window functions with pandas\n",
    "\n",
    "Next step after reading rolling windows is to read about expanding windows.\n",
    "\n",
    "They are useful in calculating metrics for periods up to current data. The new time series reflects all historical values upto that point. They are useful to calculate running rate of return, running min/max\n",
    "\n",
    "Two ways to do it:\n",
    "\n",
    "<li> .expanding() just like .rolling () </li>\n",
    "<li> methods like .cumsum(), .max(), etc </li>"
   ]
  },
  {
   "cell_type": "code",
   "execution_count": 99,
   "id": "58629b92",
   "metadata": {},
   "outputs": [
    {
     "data": {
      "text/html": [
       "<div>\n",
       "<style scoped>\n",
       "    .dataframe tbody tr th:only-of-type {\n",
       "        vertical-align: middle;\n",
       "    }\n",
       "\n",
       "    .dataframe tbody tr th {\n",
       "        vertical-align: top;\n",
       "    }\n",
       "\n",
       "    .dataframe thead th {\n",
       "        text-align: right;\n",
       "    }\n",
       "</style>\n",
       "<table border=\"1\" class=\"dataframe\">\n",
       "  <thead>\n",
       "    <tr style=\"text-align: right;\">\n",
       "      <th></th>\n",
       "      <th>data</th>\n",
       "      <th>expanding sum</th>\n",
       "      <th>cumulative sum</th>\n",
       "    </tr>\n",
       "  </thead>\n",
       "  <tbody>\n",
       "    <tr>\n",
       "      <th>0</th>\n",
       "      <td>0</td>\n",
       "      <td>0.0</td>\n",
       "      <td>0</td>\n",
       "    </tr>\n",
       "    <tr>\n",
       "      <th>1</th>\n",
       "      <td>1</td>\n",
       "      <td>1.0</td>\n",
       "      <td>1</td>\n",
       "    </tr>\n",
       "    <tr>\n",
       "      <th>2</th>\n",
       "      <td>2</td>\n",
       "      <td>3.0</td>\n",
       "      <td>3</td>\n",
       "    </tr>\n",
       "    <tr>\n",
       "      <th>3</th>\n",
       "      <td>3</td>\n",
       "      <td>6.0</td>\n",
       "      <td>6</td>\n",
       "    </tr>\n",
       "    <tr>\n",
       "      <th>4</th>\n",
       "      <td>4</td>\n",
       "      <td>10.0</td>\n",
       "      <td>10</td>\n",
       "    </tr>\n",
       "  </tbody>\n",
       "</table>\n",
       "</div>"
      ],
      "text/plain": [
       "   data  expanding sum  cumulative sum\n",
       "0     0            0.0               0\n",
       "1     1            1.0               1\n",
       "2     2            3.0               3\n",
       "3     3            6.0               6\n",
       "4     4           10.0              10"
      ]
     },
     "execution_count": 99,
     "metadata": {},
     "output_type": "execute_result"
    }
   ],
   "source": [
    "df=pd.DataFrame ({\"data\":range(5)})\n",
    "df[\"expanding sum\"]=df.data.expanding().sum() #method 1\n",
    "df[\"cumulative sum\"]=df.data.cumsum() #method 2\n",
    "df"
   ]
  },
  {
   "cell_type": "code",
   "execution_count": 105,
   "id": "cfc443b7",
   "metadata": {},
   "outputs": [
    {
     "name": "stdout",
     "output_type": "stream",
     "text": [
      "<class 'pandas.core.frame.DataFrame'>\n",
      "DatetimeIndex: 252 entries, 2021-11-01 to 2020-11-02\n",
      "Data columns (total 1 columns):\n",
      " #   Column  Non-Null Count  Dtype  \n",
      "---  ------  --------------  -----  \n",
      " 0   Close   252 non-null    float64\n",
      "dtypes: float64(1)\n",
      "memory usage: 3.9 KB\n"
     ]
    }
   ],
   "source": [
    "data=pd.read_csv(\"/Users/srtpan/Downloads/S&P.csv\", parse_dates=[\"Date\"], index_col=\"Date\")\n",
    "data.info()"
   ]
  },
  {
   "cell_type": "markdown",
   "id": "b7b0b340",
   "metadata": {},
   "source": [
    "### How to calculate a running return?\n",
    "\n",
    "\n",
    "Single period return rt: current price over last price minus 1:\n",
    "    \n",
    "    rt=(Pt/Pt-1)-1\n",
    "    \n",
    "Multi-period return is the product of (1+rt) for all periods minus 1:\n",
    "\n",
    "RT=(1+r1)(1+r2)....(1+rT)-1\n",
    "\n",
    "Methods in pandas for the same:\n",
    "\n",
    "<li> For the period return: .pct_change() </li>\n",
    "<li> For basic math: .add(), .sub(), .mul(), .div() </li>\n",
    "<li> For cumulative product .cumprod() </li>\n"
   ]
  },
  {
   "cell_type": "code",
   "execution_count": null,
   "id": "271e06fa",
   "metadata": {},
   "outputs": [],
   "source": []
  },
  {
   "cell_type": "code",
   "execution_count": 107,
   "id": "70d8e73a",
   "metadata": {},
   "outputs": [
    {
     "data": {
      "text/plain": [
       "<AxesSubplot:xlabel='Date'>"
      ]
     },
     "execution_count": 107,
     "metadata": {},
     "output_type": "execute_result"
    },
    {
     "data": {
      "image/png": "[encoded data removed]",
      "text/plain": [
       "<Figure size 432x288 with 1 Axes>"
      ]
     },
     "metadata": {
      "needs_background": "light"
     },
     "output_type": "display_data"
    }
   ],
   "source": [
    "pr=data.Close.pct_change()\n",
    "pr_plus_one=pr.add(1)\n",
    "cumulative_return =pr_plus_one.cumprod().sub(1)\n",
    "cumulative_return.mul(100).plot()"
   ]
  },
  {
   "cell_type": "code",
   "execution_count": 108,
   "id": "a47b653d",
   "metadata": {},
   "outputs": [
    {
     "data": {
      "text/plain": [
       "<AxesSubplot:xlabel='Date'>"
      ]
     },
     "execution_count": 108,
     "metadata": {},
     "output_type": "execute_result"
    },
    {
     "data": {
      "image/png": "[encoded data removed]",
      "text/plain": [
       "<Figure size 432x288 with 1 Axes>"
      ]
     },
     "metadata": {
      "needs_background": "light"
     },
     "output_type": "display_data"
    }
   ],
   "source": [
    "data[\"running_min\"]=data.Close.expanding().min()\n",
    "data[\"running_max\"]=data.Close.expanding().max()\n",
    "data.plot()"
   ]
  },
  {
   "cell_type": "markdown",
   "id": "b93b7b6f",
   "metadata": {},
   "source": [
    "## Relationship between time series: correlation\n",
    "\n",
    "So far, we have focussed on individual time series, now we will start focussing on relationships between time series. \n",
    "\n",
    "Correlation is basically a measure of linear relationships. It is really important for prediction and risk management. \n",
    "\n",
    "Pandas and seaborn have tools to compute and visualize. \n",
    "\n",
    "Correlation coefficient measure how similar is the pairwise movement of two variables around their averages.The pairwise co-movement is called covariance.\n",
    "The correlation coefficient divides this measure by the product of standard deviations for each variable. It varies between -1 and +1. The more is the value closer to +1 or -1, the closer it resembles to a straight line. \n",
    "\n",
    "A positive sign means that when one entity is above mean then the other is likely to be above its mean. However, there are numerous types of non-linear relationsips that the correlation coefficient does not capture. "
   ]
  },
  {
   "cell_type": "code",
   "execution_count": 118,
   "id": "699fe603",
   "metadata": {},
   "outputs": [
    {
     "data": {
      "text/html": [
       "<div>\n",
       "<style scoped>\n",
       "    .dataframe tbody tr th:only-of-type {\n",
       "        vertical-align: middle;\n",
       "    }\n",
       "\n",
       "    .dataframe tbody tr th {\n",
       "        vertical-align: top;\n",
       "    }\n",
       "\n",
       "    .dataframe thead th {\n",
       "        text-align: right;\n",
       "    }\n",
       "</style>\n",
       "<table border=\"1\" class=\"dataframe\">\n",
       "  <thead>\n",
       "    <tr style=\"text-align: right;\">\n",
       "      <th></th>\n",
       "      <th>Dow Jones</th>\n",
       "      <th>S&amp;P</th>\n",
       "    </tr>\n",
       "    <tr>\n",
       "      <th>Date</th>\n",
       "      <th></th>\n",
       "      <th></th>\n",
       "    </tr>\n",
       "  </thead>\n",
       "  <tbody>\n",
       "    <tr>\n",
       "      <th>2021-01-11</th>\n",
       "      <td>31008.69</td>\n",
       "      <td>4613.67</td>\n",
       "    </tr>\n",
       "    <tr>\n",
       "      <th>2021-01-08</th>\n",
       "      <td>31097.97</td>\n",
       "      <td>4605.38</td>\n",
       "    </tr>\n",
       "    <tr>\n",
       "      <th>2021-01-07</th>\n",
       "      <td>31041.13</td>\n",
       "      <td>4596.42</td>\n",
       "    </tr>\n",
       "    <tr>\n",
       "      <th>2021-01-06</th>\n",
       "      <td>30829.40</td>\n",
       "      <td>4551.68</td>\n",
       "    </tr>\n",
       "    <tr>\n",
       "      <th>2021-01-05</th>\n",
       "      <td>30391.60</td>\n",
       "      <td>4574.79</td>\n",
       "    </tr>\n",
       "  </tbody>\n",
       "</table>\n",
       "</div>"
      ],
      "text/plain": [
       "            Dow Jones      S&P\n",
       "Date                          \n",
       "2021-01-11   31008.69  4613.67\n",
       "2021-01-08   31097.97  4605.38\n",
       "2021-01-07   31041.13  4596.42\n",
       "2021-01-06   30829.40  4551.68\n",
       "2021-01-05   30391.60  4574.79"
      ]
     },
     "execution_count": 118,
     "metadata": {},
     "output_type": "execute_result"
    }
   ],
   "source": [
    "data=pd.read_csv(\"/Users/srtpan/Downloads/Indices.csv\", parse_dates=[\"Date\"], index_col=\"Date\")\n",
    "data.head()"
   ]
  },
  {
   "cell_type": "code",
   "execution_count": 119,
   "id": "52669646",
   "metadata": {},
   "outputs": [
    {
     "name": "stdout",
     "output_type": "stream",
     "text": [
      "<class 'pandas.core.frame.DataFrame'>\n",
      "DatetimeIndex: 252 entries, 2021-01-11 to 2020-01-14\n",
      "Data columns (total 2 columns):\n",
      " #   Column     Non-Null Count  Dtype  \n",
      "---  ------     --------------  -----  \n",
      " 0   Dow Jones  252 non-null    float64\n",
      " 1   S&P        252 non-null    float64\n",
      "dtypes: float64(2)\n",
      "memory usage: 5.9 KB\n"
     ]
    }
   ],
   "source": [
    "data.dropna().info()"
   ]
  },
  {
   "cell_type": "code",
   "execution_count": 122,
   "id": "df90fdeb",
   "metadata": {},
   "outputs": [
    {
     "data": {
      "text/plain": [
       "<seaborn.axisgrid.JointGrid at 0x7ff7702b02b0>"
      ]
     },
     "execution_count": 122,
     "metadata": {},
     "output_type": "execute_result"
    },
    {
     "data": {
      "image/png": "[encoded data removed]",
      "text/plain": [
       "<Figure size 432x432 with 3 Axes>"
      ]
     },
     "metadata": {
      "needs_background": "light"
     },
     "output_type": "display_data"
    }
   ],
   "source": [
    "daily_returns=data.pct_change()\n",
    "sns.jointplot(x=\"S&P\", y=\"Dow Jones\", data=daily_returns) #Jointplot helps to show the distribution of two variables together in one plot"
   ]
  },
  {
   "cell_type": "markdown",
   "id": "722c21da",
   "metadata": {},
   "source": [
    "We can notice from the graph that correlation is quite weak and the data is really quite scattered.\n",
    "\n",
    "let's find the correlation numerically"
   ]
  },
  {
   "cell_type": "code",
   "execution_count": 124,
   "id": "76444178",
   "metadata": {},
   "outputs": [
    {
     "data": {
      "text/html": [
       "<div>\n",
       "<style scoped>\n",
       "    .dataframe tbody tr th:only-of-type {\n",
       "        vertical-align: middle;\n",
       "    }\n",
       "\n",
       "    .dataframe tbody tr th {\n",
       "        vertical-align: top;\n",
       "    }\n",
       "\n",
       "    .dataframe thead th {\n",
       "        text-align: right;\n",
       "    }\n",
       "</style>\n",
       "<table border=\"1\" class=\"dataframe\">\n",
       "  <thead>\n",
       "    <tr style=\"text-align: right;\">\n",
       "      <th></th>\n",
       "      <th>Dow Jones</th>\n",
       "      <th>S&amp;P</th>\n",
       "    </tr>\n",
       "  </thead>\n",
       "  <tbody>\n",
       "    <tr>\n",
       "      <th>Dow Jones</th>\n",
       "      <td>1.000000</td>\n",
       "      <td>-0.150954</td>\n",
       "    </tr>\n",
       "    <tr>\n",
       "      <th>S&amp;P</th>\n",
       "      <td>-0.150954</td>\n",
       "      <td>1.000000</td>\n",
       "    </tr>\n",
       "  </tbody>\n",
       "</table>\n",
       "</div>"
      ],
      "text/plain": [
       "           Dow Jones       S&P\n",
       "Dow Jones   1.000000 -0.150954\n",
       "S&P        -0.150954  1.000000"
      ]
     },
     "execution_count": 124,
     "metadata": {},
     "output_type": "execute_result"
    }
   ],
   "source": [
    "correlations=daily_returns.corr()\n",
    "correlations"
   ]
  },
  {
   "cell_type": "markdown",
   "id": "1964a758",
   "metadata": {},
   "source": [
    "The numerical value confirms what we saw visually. Both the indices have a very weak correlation with a negative sign. "
   ]
  },
  {
   "cell_type": "code",
   "execution_count": 125,
   "id": "3103209a",
   "metadata": {},
   "outputs": [
    {
     "data": {
      "text/plain": [
       "<AxesSubplot:>"
      ]
     },
     "execution_count": 125,
     "metadata": {},
     "output_type": "execute_result"
    },
    {
     "data": {
      "image/png": "[encoded data removed]",
      "text/plain": [
       "<Figure size 432x288 with 2 Axes>"
      ]
     },
     "metadata": {
      "needs_background": "light"
     },
     "output_type": "display_data"
    }
   ],
   "source": [
    "sns.heatmap(correlations, annot=True)"
   ]
  },
  {
   "cell_type": "code",
   "execution_count": null,
   "id": "3dfc46de",
   "metadata": {},
   "outputs": [],
   "source": []
  }
 ],
 "metadata": {
  "kernelspec": {
   "display_name": "Python 3.8.8 64-bit (conda)",
   "language": "python",
   "name": "python388jvsc74a57bd0dca0ade3e726a953b501b15e8e990130d2b7799f14cfd9f4271676035ebe5511"
  },
  "language_info": {
   "codemirror_mode": {
    "name": "ipython",
    "version": 3
   },
   "file_extension": ".py",
   "mimetype": "text/x-python",
   "name": "python",
   "nbconvert_exporter": "python",
   "pygments_lexer": "ipython3",
   "version": "3.8.8"
  }
 },
 "nbformat": 4,
 "nbformat_minor": 5
}
